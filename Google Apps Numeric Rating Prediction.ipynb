{
 "cells": [
  {
   "cell_type": "code",
   "execution_count": 1,
   "metadata": {},
   "outputs": [],
   "source": [
    "# importing all necessary libraries to run the code\n",
    "import pandas as pd\n",
    "import numpy as np\n",
    "import matplotlib.pyplot as plt\n",
    "from nltk.corpus import stopwords\n",
    "from nltk.stem import PorterStemmer\n",
    "from nltk import NaiveBayesClassifier\n",
    "from sklearn.model_selection import train_test_split\n",
    "from nltk.stem import PorterStemmer\n",
    "import re\n",
    "# using the variable sw to hold all stopwords that are in English\n",
    "sw = stopwords.words('english')"
   ]
  },
  {
   "cell_type": "code",
   "execution_count": 2,
   "metadata": {},
   "outputs": [],
   "source": [
    "data = pd.read_csv(\"googleValidation.csv\") "
   ]
  },
  {
   "cell_type": "code",
   "execution_count": 3,
   "metadata": {},
   "outputs": [
    {
     "name": "stdout",
     "output_type": "stream",
     "text": [
      "Size before removing Nan: 502658\n",
      "Size after removing Nan: 502658\n"
     ]
    }
   ],
   "source": [
    "print('Size before removing Nan: %s'% len(data))\n",
    "data.dropna(axis=0, inplace=True)\n",
    "print('Size after removing Nan: %s'% len(data))"
   ]
  },
  {
   "cell_type": "code",
   "execution_count": 4,
   "metadata": {},
   "outputs": [],
   "source": [
    "data=data.reset_index(drop=True)"
   ]
  },
  {
   "cell_type": "code",
   "execution_count": 5,
   "metadata": {},
   "outputs": [
    {
     "data": {
      "text/html": [
       "<div>\n",
       "<style scoped>\n",
       "    .dataframe tbody tr th:only-of-type {\n",
       "        vertical-align: middle;\n",
       "    }\n",
       "\n",
       "    .dataframe tbody tr th {\n",
       "        vertical-align: top;\n",
       "    }\n",
       "\n",
       "    .dataframe thead th {\n",
       "        text-align: right;\n",
       "    }\n",
       "</style>\n",
       "<table border=\"1\" class=\"dataframe\">\n",
       "  <thead>\n",
       "    <tr style=\"text-align: right;\">\n",
       "      <th></th>\n",
       "      <th>cetagory</th>\n",
       "      <th>app_name</th>\n",
       "      <th>app_id</th>\n",
       "      <th>reviews</th>\n",
       "      <th>rating</th>\n",
       "    </tr>\n",
       "  </thead>\n",
       "  <tbody>\n",
       "    <tr>\n",
       "      <th>0</th>\n",
       "      <td>Sports</td>\n",
       "      <td>Billiards City</td>\n",
       "      <td>com.billiards.city.pool.nation.club</td>\n",
       "      <td>Wonderfull App. Completed all 1020 levels, Ca...</td>\n",
       "      <td>5</td>\n",
       "    </tr>\n",
       "    <tr>\n",
       "      <th>1</th>\n",
       "      <td>Sports</td>\n",
       "      <td>Billiards City</td>\n",
       "      <td>com.billiards.city.pool.nation.club</td>\n",
       "      <td>It's good, I like the gameplay. Please change...</td>\n",
       "      <td>4</td>\n",
       "    </tr>\n",
       "  </tbody>\n",
       "</table>\n",
       "</div>"
      ],
      "text/plain": [
       "  cetagory        app_name                               app_id  \\\n",
       "0   Sports  Billiards City  com.billiards.city.pool.nation.club   \n",
       "1   Sports  Billiards City  com.billiards.city.pool.nation.club   \n",
       "\n",
       "                                             reviews  rating  \n",
       "0   Wonderfull App. Completed all 1020 levels, Ca...       5  \n",
       "1   It's good, I like the gameplay. Please change...       4  "
      ]
     },
     "execution_count": 5,
     "metadata": {},
     "output_type": "execute_result"
    }
   ],
   "source": [
    "data.head(2)"
   ]
  },
  {
   "cell_type": "code",
   "execution_count": 7,
   "metadata": {},
   "outputs": [
    {
     "data": {
      "text/plain": [
       "5    336781\n",
       "4     68419\n",
       "1     49608\n",
       "3     32238\n",
       "2     15605\n",
       "0         7\n",
       "Name: rating, dtype: int64"
      ]
     },
     "execution_count": 7,
     "metadata": {},
     "output_type": "execute_result"
    }
   ],
   "source": [
    "data.rating.value_counts()"
   ]
  },
  {
   "cell_type": "code",
   "execution_count": 17,
   "metadata": {},
   "outputs": [
    {
     "data": {
      "text/plain": [
       "148"
      ]
     },
     "execution_count": 17,
     "metadata": {},
     "output_type": "execute_result"
    }
   ],
   "source": [
    "len(set(data.app_name))"
   ]
  },
  {
   "cell_type": "code",
   "execution_count": 6,
   "metadata": {},
   "outputs": [
    {
     "data": {
      "text/plain": [
       "148"
      ]
     },
     "execution_count": 6,
     "metadata": {},
     "output_type": "execute_result"
    }
   ],
   "source": [
    "appNames=list((set(data.app_name)))\n",
    "len(appNames)"
   ]
  },
  {
   "cell_type": "code",
   "execution_count": 14,
   "metadata": {},
   "outputs": [
    {
     "data": {
      "text/plain": [
       "Sentiment(polarity=-0.8, subjectivity=0.9)"
      ]
     },
     "execution_count": 14,
     "metadata": {},
     "output_type": "execute_result"
    }
   ],
   "source": [
    "from textblob import TextBlob\n",
    "t = TextBlob(\"He is a cheater. i hate him\")\n",
    "t.sentiment "
   ]
  },
  {
   "cell_type": "code",
   "execution_count": 21,
   "metadata": {},
   "outputs": [
    {
     "ename": "KeyboardInterrupt",
     "evalue": "",
     "output_type": "error",
     "traceback": [
      "\u001b[1;31m---------------------------------------------------------------------------\u001b[0m",
      "\u001b[1;31mKeyboardInterrupt\u001b[0m                         Traceback (most recent call last)",
      "\u001b[1;32m<ipython-input-21-d9b38ec27163>\u001b[0m in \u001b[0;36m<module>\u001b[1;34m()\u001b[0m\n\u001b[0;32m      3\u001b[0m     \u001b[1;32mfor\u001b[0m \u001b[0mj\u001b[0m \u001b[1;32min\u001b[0m \u001b[0mrange\u001b[0m\u001b[1;33m(\u001b[0m\u001b[0mlen\u001b[0m\u001b[1;33m(\u001b[0m\u001b[0mappNames\u001b[0m\u001b[1;33m)\u001b[0m\u001b[1;33m)\u001b[0m\u001b[1;33m:\u001b[0m\u001b[1;33m\u001b[0m\u001b[0m\n\u001b[0;32m      4\u001b[0m         \u001b[1;32mif\u001b[0m \u001b[0mdata\u001b[0m\u001b[1;33m.\u001b[0m\u001b[0mapp_name\u001b[0m\u001b[1;33m[\u001b[0m\u001b[0mi\u001b[0m\u001b[1;33m]\u001b[0m\u001b[1;33m==\u001b[0m\u001b[0mappNames\u001b[0m\u001b[1;33m[\u001b[0m\u001b[0mj\u001b[0m\u001b[1;33m]\u001b[0m\u001b[1;33m:\u001b[0m\u001b[1;33m\u001b[0m\u001b[0m\n\u001b[1;32m----> 5\u001b[1;33m             \u001b[0mappRating\u001b[0m\u001b[1;33m.\u001b[0m\u001b[0mappend\u001b[0m\u001b[1;33m(\u001b[0m\u001b[0mdata\u001b[0m\u001b[1;33m.\u001b[0m\u001b[0mrating\u001b[0m\u001b[1;33m[\u001b[0m\u001b[0mi\u001b[0m\u001b[1;33m]\u001b[0m\u001b[1;33m)\u001b[0m\u001b[1;33m\u001b[0m\u001b[0m\n\u001b[0m\u001b[0;32m      6\u001b[0m \u001b[1;33m\u001b[0m\u001b[0m\n",
      "\u001b[1;32m~\\Anaconda3\\lib\\site-packages\\pandas\\core\\generic.py\u001b[0m in \u001b[0;36m__getattr__\u001b[1;34m(self, name)\u001b[0m\n\u001b[0;32m   4372\u001b[0m             \u001b[1;32mreturn\u001b[0m \u001b[0mobject\u001b[0m\u001b[1;33m.\u001b[0m\u001b[0m__getattribute__\u001b[0m\u001b[1;33m(\u001b[0m\u001b[0mself\u001b[0m\u001b[1;33m,\u001b[0m \u001b[0mname\u001b[0m\u001b[1;33m)\u001b[0m\u001b[1;33m\u001b[0m\u001b[0m\n\u001b[0;32m   4373\u001b[0m         \u001b[1;32melse\u001b[0m\u001b[1;33m:\u001b[0m\u001b[1;33m\u001b[0m\u001b[0m\n\u001b[1;32m-> 4374\u001b[1;33m             \u001b[1;32mif\u001b[0m \u001b[0mself\u001b[0m\u001b[1;33m.\u001b[0m\u001b[0m_info_axis\u001b[0m\u001b[1;33m.\u001b[0m\u001b[0m_can_hold_identifiers_and_holds_name\u001b[0m\u001b[1;33m(\u001b[0m\u001b[0mname\u001b[0m\u001b[1;33m)\u001b[0m\u001b[1;33m:\u001b[0m\u001b[1;33m\u001b[0m\u001b[0m\n\u001b[0m\u001b[0;32m   4375\u001b[0m                 \u001b[1;32mreturn\u001b[0m \u001b[0mself\u001b[0m\u001b[1;33m[\u001b[0m\u001b[0mname\u001b[0m\u001b[1;33m]\u001b[0m\u001b[1;33m\u001b[0m\u001b[0m\n\u001b[0;32m   4376\u001b[0m             \u001b[1;32mreturn\u001b[0m \u001b[0mobject\u001b[0m\u001b[1;33m.\u001b[0m\u001b[0m__getattribute__\u001b[0m\u001b[1;33m(\u001b[0m\u001b[0mself\u001b[0m\u001b[1;33m,\u001b[0m \u001b[0mname\u001b[0m\u001b[1;33m)\u001b[0m\u001b[1;33m\u001b[0m\u001b[0m\n",
      "\u001b[1;32m~\\Anaconda3\\lib\\site-packages\\pandas\\core\\indexes\\base.py\u001b[0m in \u001b[0;36m_can_hold_identifiers_and_holds_name\u001b[1;34m(self, name)\u001b[0m\n\u001b[0;32m   2108\u001b[0m         \u001b[0mhttps\u001b[0m\u001b[1;33m:\u001b[0m\u001b[1;33m//\u001b[0m\u001b[0mgithub\u001b[0m\u001b[1;33m.\u001b[0m\u001b[0mcom\u001b[0m\u001b[1;33m/\u001b[0m\u001b[0mpandas\u001b[0m\u001b[1;33m-\u001b[0m\u001b[0mdev\u001b[0m\u001b[1;33m/\u001b[0m\u001b[0mpandas\u001b[0m\u001b[1;33m/\u001b[0m\u001b[0missues\u001b[0m\u001b[1;33m/\u001b[0m\u001b[1;36m19764\u001b[0m\u001b[1;33m\u001b[0m\u001b[0m\n\u001b[0;32m   2109\u001b[0m         \"\"\"\n\u001b[1;32m-> 2110\u001b[1;33m         \u001b[1;32mif\u001b[0m \u001b[0mself\u001b[0m\u001b[1;33m.\u001b[0m\u001b[0mis_object\u001b[0m\u001b[1;33m(\u001b[0m\u001b[1;33m)\u001b[0m \u001b[1;32mor\u001b[0m \u001b[0mself\u001b[0m\u001b[1;33m.\u001b[0m\u001b[0mis_categorical\u001b[0m\u001b[1;33m(\u001b[0m\u001b[1;33m)\u001b[0m\u001b[1;33m:\u001b[0m\u001b[1;33m\u001b[0m\u001b[0m\n\u001b[0m\u001b[0;32m   2111\u001b[0m             \u001b[1;32mreturn\u001b[0m \u001b[0mname\u001b[0m \u001b[1;32min\u001b[0m \u001b[0mself\u001b[0m\u001b[1;33m\u001b[0m\u001b[0m\n\u001b[0;32m   2112\u001b[0m         \u001b[1;32mreturn\u001b[0m \u001b[1;32mFalse\u001b[0m\u001b[1;33m\u001b[0m\u001b[0m\n",
      "\u001b[1;32m~\\Anaconda3\\lib\\site-packages\\pandas\\core\\indexes\\base.py\u001b[0m in \u001b[0;36mis_object\u001b[1;34m(self)\u001b[0m\n\u001b[0;32m   1589\u001b[0m \u001b[1;33m\u001b[0m\u001b[0m\n\u001b[0;32m   1590\u001b[0m     \u001b[1;32mdef\u001b[0m \u001b[0mis_object\u001b[0m\u001b[1;33m(\u001b[0m\u001b[0mself\u001b[0m\u001b[1;33m)\u001b[0m\u001b[1;33m:\u001b[0m\u001b[1;33m\u001b[0m\u001b[0m\n\u001b[1;32m-> 1591\u001b[1;33m         \u001b[1;32mreturn\u001b[0m \u001b[0mis_object_dtype\u001b[0m\u001b[1;33m(\u001b[0m\u001b[0mself\u001b[0m\u001b[1;33m.\u001b[0m\u001b[0mdtype\u001b[0m\u001b[1;33m)\u001b[0m\u001b[1;33m\u001b[0m\u001b[0m\n\u001b[0m\u001b[0;32m   1592\u001b[0m \u001b[1;33m\u001b[0m\u001b[0m\n\u001b[0;32m   1593\u001b[0m     \u001b[1;32mdef\u001b[0m \u001b[0mis_categorical\u001b[0m\u001b[1;33m(\u001b[0m\u001b[0mself\u001b[0m\u001b[1;33m)\u001b[0m\u001b[1;33m:\u001b[0m\u001b[1;33m\u001b[0m\u001b[0m\n",
      "\u001b[1;32m~\\Anaconda3\\lib\\site-packages\\pandas\\core\\dtypes\\common.py\u001b[0m in \u001b[0;36mis_object_dtype\u001b[1;34m(arr_or_dtype)\u001b[0m\n\u001b[0;32m    116\u001b[0m     \u001b[1;32mif\u001b[0m \u001b[0marr_or_dtype\u001b[0m \u001b[1;32mis\u001b[0m \u001b[1;32mNone\u001b[0m\u001b[1;33m:\u001b[0m\u001b[1;33m\u001b[0m\u001b[0m\n\u001b[0;32m    117\u001b[0m         \u001b[1;32mreturn\u001b[0m \u001b[1;32mFalse\u001b[0m\u001b[1;33m\u001b[0m\u001b[0m\n\u001b[1;32m--> 118\u001b[1;33m     \u001b[0mtipo\u001b[0m \u001b[1;33m=\u001b[0m \u001b[0m_get_dtype_type\u001b[0m\u001b[1;33m(\u001b[0m\u001b[0marr_or_dtype\u001b[0m\u001b[1;33m)\u001b[0m\u001b[1;33m\u001b[0m\u001b[0m\n\u001b[0m\u001b[0;32m    119\u001b[0m     \u001b[1;32mreturn\u001b[0m \u001b[0missubclass\u001b[0m\u001b[1;33m(\u001b[0m\u001b[0mtipo\u001b[0m\u001b[1;33m,\u001b[0m \u001b[0mnp\u001b[0m\u001b[1;33m.\u001b[0m\u001b[0mobject_\u001b[0m\u001b[1;33m)\u001b[0m\u001b[1;33m\u001b[0m\u001b[0m\n\u001b[0;32m    120\u001b[0m \u001b[1;33m\u001b[0m\u001b[0m\n",
      "\u001b[1;32m~\\Anaconda3\\lib\\site-packages\\pandas\\core\\dtypes\\common.py\u001b[0m in \u001b[0;36m_get_dtype_type\u001b[1;34m(arr_or_dtype)\u001b[0m\n\u001b[0;32m   1849\u001b[0m     \"\"\"\n\u001b[0;32m   1850\u001b[0m \u001b[1;33m\u001b[0m\u001b[0m\n\u001b[1;32m-> 1851\u001b[1;33m     \u001b[1;32mif\u001b[0m \u001b[0misinstance\u001b[0m\u001b[1;33m(\u001b[0m\u001b[0marr_or_dtype\u001b[0m\u001b[1;33m,\u001b[0m \u001b[0mnp\u001b[0m\u001b[1;33m.\u001b[0m\u001b[0mdtype\u001b[0m\u001b[1;33m)\u001b[0m\u001b[1;33m:\u001b[0m\u001b[1;33m\u001b[0m\u001b[0m\n\u001b[0m\u001b[0;32m   1852\u001b[0m         \u001b[1;32mreturn\u001b[0m \u001b[0marr_or_dtype\u001b[0m\u001b[1;33m.\u001b[0m\u001b[0mtype\u001b[0m\u001b[1;33m\u001b[0m\u001b[0m\n\u001b[0;32m   1853\u001b[0m     \u001b[1;32melif\u001b[0m \u001b[0misinstance\u001b[0m\u001b[1;33m(\u001b[0m\u001b[0marr_or_dtype\u001b[0m\u001b[1;33m,\u001b[0m \u001b[0mtype\u001b[0m\u001b[1;33m)\u001b[0m\u001b[1;33m:\u001b[0m\u001b[1;33m\u001b[0m\u001b[0m\n",
      "\u001b[1;31mKeyboardInterrupt\u001b[0m: "
     ]
    }
   ],
   "source": [
    "appRating=[]\n",
    "for i in range(len(data)):\n",
    "    for j in range(len(appNames)):\n",
    "        if data.app_name[i]==appNames[j]:\n",
    "            appRating.append(data.rating[i])\n",
    "            "
   ]
  },
  {
   "cell_type": "code",
   "execution_count": null,
   "metadata": {},
   "outputs": [],
   "source": []
  },
  {
   "cell_type": "code",
   "execution_count": 13,
   "metadata": {},
   "outputs": [
    {
     "data": {
      "text/plain": [
       "cetagory                 rating  app_name                                          \n",
       "Arcade                   0       Jewels Legend                                            1\n",
       "                                 Leps World 2                                             1\n",
       "                         1       Snow Bros                                              379\n",
       "                                 Subway Princess Runner                                 281\n",
       "                                 Bubble Shooter 2                                       256\n",
       "                                 Super Jabber Jump 3                                    221\n",
       "                                 Subway Surfers                                         194\n",
       "                                 Angry Birds Rio                                        192\n",
       "                                 Temple Run 2                                           185\n",
       "                                 Space Shooter                                          143\n",
       "                                 Leps World 2                                           118\n",
       "                                 Jewels Legend                                          104\n",
       "                                 Sonic Dash                                              43\n",
       "                         2       Snow Bros                                              128\n",
       "                                 Bubble Shooter 2                                       119\n",
       "                                 Angry Birds Rio                                         78\n",
       "                                 Jewels Legend                                           77\n",
       "                                 Subway Princess Runner                                  74\n",
       "                                 Subway Surfers                                          66\n",
       "                                 Space Shooter                                           60\n",
       "                                 Super Jabber Jump 3                                     58\n",
       "                                 Temple Run 2                                            57\n",
       "                                 Leps World 2                                            30\n",
       "                                 Sonic Dash                                              24\n",
       "                         3       Bubble Shooter 2                                       361\n",
       "                                 Jewels Legend                                          278\n",
       "                                 Angry Birds Rio                                        252\n",
       "                                 Subway Surfers                                         252\n",
       "                                 Snow Bros                                              231\n",
       "                                 Super Jabber Jump 3                                    216\n",
       "                                 Subway Princess Runner                                 206\n",
       "                                 Space Shooter                                          190\n",
       "                                 Temple Run 2                                           181\n",
       "                                 Sonic Dash                                             143\n",
       "                                 Leps World 2                                           123\n",
       "                         4       Jewels Legend                                          762\n",
       "                                 Bubble Shooter 2                                       671\n",
       "                                 Sonic Dash                                             639\n",
       "                                 Angry Birds Rio                                        570\n",
       "                                 Subway Surfers                                         527\n",
       "                                 Space Shooter                                          500\n",
       "                                 Temple Run 2                                           364\n",
       "                                 Super Jabber Jump 3                                    361\n",
       "                                 Snow Bros                                              345\n",
       "                                 Leps World 2                                           315\n",
       "                                 Subway Princess Runner                                 298\n",
       "                         5       Sonic Dash                                            3631\n",
       "                                 Space Shooter                                         3507\n",
       "                                 Subway Surfers                                        3441\n",
       "                                 Angry Birds Rio                                       3388\n",
       "                                 Jewels Legend                                         2778\n",
       "                                 Bubble Shooter 2                                      2593\n",
       "                                 Leps World 2                                          2413\n",
       "                                 Temple Run 2                                          2213\n",
       "                                 Subway Princess Runner                                2141\n",
       "                                 Super Jabber Jump 3                                   2055\n",
       "                                 Snow Bros                                             1917\n",
       "Casual                   1       Minion Rush: Despicable Me Official Game               523\n",
       "                                 Board Kings™                                           475\n",
       "                                 Pou                                                    309\n",
       "                                 Shopping Mall Girl - Dress Up & Style Game             226\n",
       "                                 Hay Day                                                217\n",
       "                                 My Talking Tom                                         214\n",
       "                                 Bubble Shooter                                         194\n",
       "                                 Angry Birds POP Bubble Shooter                         165\n",
       "                                 Gardenscapes                                           164\n",
       "                                 Candy Crush Saga                                       148\n",
       "                                 BLUK - Physics Jump Adventure                           94\n",
       "                                 Farm Heroes Super Saga                                  69\n",
       "                         2       Board Kings™                                           212\n",
       "                                 Bubble Shooter                                         159\n",
       "                                 Minion Rush: Despicable Me Official Game               134\n",
       "                                 Gardenscapes                                           107\n",
       "                                 Angry Birds POP Bubble Shooter                         100\n",
       "                                 Hay Day                                                 84\n",
       "                                 Pou                                                     81\n",
       "                                 Candy Crush Saga                                        80\n",
       "                                 Farm Heroes Super Saga                                  72\n",
       "                                 Shopping Mall Girl - Dress Up & Style Game              69\n",
       "                                 My Talking Tom                                          61\n",
       "                                 BLUK - Physics Jump Adventure                           41\n",
       "                         3       Bubble Shooter                                         374\n",
       "                                 Board Kings™                                           335\n",
       "                                 Gardenscapes                                           301\n",
       "                                 Shopping Mall Girl - Dress Up & Style Game             287\n",
       "                                 Farm Heroes Super Saga                                 265\n",
       "                                 My Talking Tom                                         237\n",
       "                                 Minion Rush: Despicable Me Official Game               235\n",
       "                                 Pou                                                    227\n",
       "                                 Angry Birds POP Bubble Shooter                         225\n",
       "                                 Candy Crush Saga                                       224\n",
       "                                 Hay Day                                                213\n",
       "                                 BLUK - Physics Jump Adventure                           77\n",
       "                         4       Farm Heroes Super Saga                                 678\n",
       "                                 Bubble Shooter                                         669\n",
       "                                 Candy Crush Saga                                       651\n",
       "                                 Gardenscapes                                           622\n",
       "                                 Shopping Mall Girl - Dress Up & Style Game             563\n",
       "                                 Angry Birds POP Bubble Shooter                         527\n",
       "                                 Hay Day                                                494\n",
       "                                 My Talking Tom                                         488\n",
       "                                 Pou                                                    466\n",
       "                                 Minion Rush: Despicable Me Official Game               403\n",
       "                                 BLUK - Physics Jump Adventure                          376\n",
       "                                 Board Kings™                                           367\n",
       "                         5       My Talking Tom                                        3480\n",
       "                                 Hay Day                                               3472\n",
       "                                 Angry Birds POP Bubble Shooter                        3463\n",
       "                                 Pou                                                   3397\n",
       "                                 Farm Heroes Super Saga                                3396\n",
       "                                 Candy Crush Saga                                      3377\n",
       "                                 Shopping Mall Girl - Dress Up & Style Game            3335\n",
       "                                 Gardenscapes                                          3286\n",
       "                                 Minion Rush: Despicable Me Official Game              3185\n",
       "                                 Board Kings™                                          3091\n",
       "                                 Bubble Shooter                                        3084\n",
       "                                 BLUK - Physics Jump Adventure                         2692\n",
       "Communication            1       WeChat                                                1196\n",
       "                                 Dolphin Browser                                       1155\n",
       "                                 Hangouts Dialer                                        774\n",
       "                                 LINE                                                   769\n",
       "                                 KakaoTalk                                              503\n",
       "                                 UC Browser Mini                                        346\n",
       "                                 Firefox Browser                                        312\n",
       "                                 Messenger Lite                                         257\n",
       "                                 Google Duo                                             106\n",
       "                                 Opera Mini browser beta                                 92\n",
       "                         2       LINE                                                   409\n",
       "                                 Dolphin Browser                                        402\n",
       "                                 Hangouts Dialer                                        332\n",
       "                                 WeChat                                                 227\n",
       "                                 KakaoTalk                                              221\n",
       "                                 Firefox Browser                                        170\n",
       "                                 Messenger Lite                                         137\n",
       "                                 UC Browser Mini                                         76\n",
       "                                 Google Duo                                              64\n",
       "                                 Opera Mini browser beta                                 36\n",
       "                         3       LINE                                                   472\n",
       "                                 Hangouts Dialer                                        414\n",
       "                                 KakaoTalk                                              357\n",
       "                                 Dolphin Browser                                        309\n",
       "                                 Messenger Lite                                         302\n",
       "                                 WeChat                                                 270\n",
       "                                 Firefox Browser                                        221\n",
       "                                 Google Duo                                             204\n",
       "                                 UC Browser Mini                                        201\n",
       "                                 Opera Mini browser beta                                144\n",
       "                         4       Google Duo                                             579\n",
       "                                 Messenger Lite                                         421\n",
       "                                 KakaoTalk                                              419\n",
       "                                 Firefox Browser                                        414\n",
       "                                 Hangouts Dialer                                        392\n",
       "                                 Opera Mini browser beta                                369\n",
       "                                 UC Browser Mini                                        369\n",
       "                                 LINE                                                   367\n",
       "                                 Dolphin Browser                                        252\n",
       "                                 WeChat                                                 242\n",
       "                         5       Opera Mini browser beta                               2359\n",
       "                                 Google Duo                                            2047\n",
       "                                 UC Browser Mini                                       2008\n",
       "                                 Firefox Browser                                       1883\n",
       "                                 Messenger Lite                                        1883\n",
       "                                 KakaoTalk                                             1500\n",
       "                                 Hangouts Dialer                                       1088\n",
       "                                 WeChat                                                1065\n",
       "                                 LINE                                                   983\n",
       "                                 Dolphin Browser                                        882\n",
       "Finance                  1       bKash                                                 2271\n",
       "                                 CAIXA                                                  829\n",
       "                                 QIWI Wallet                                            684\n",
       "                                 PhonePe – UPI Payments, Recharges & Money Transfer     630\n",
       "                                 FNB Banking App                                        454\n",
       "                                 Yahoo Finance                                          237\n",
       "                                 Stocks, Forex, Finance, Markets: Portfolio & News      202\n",
       "                                 Garanti Mobile Banking                                 191\n",
       "                                 Yap? Kredi Mobile                                      159\n",
       "                                 CEPTETEB                                               138\n",
       "                                 MSN Money- Stock Quotes & News                         118\n",
       "                                 Nubank                                                  96\n",
       "                                 monobank                                                21\n",
       "                         2       bKash                                                  211\n",
       "                                 FNB Banking App                                        163\n",
       "                                 Yahoo Finance                                          148\n",
       "                                 PhonePe – UPI Payments, Recharges & Money Transfer     134\n",
       "                                 CAIXA                                                  126\n",
       "                                 QIWI Wallet                                            119\n",
       "                                 MSN Money- Stock Quotes & News                         117\n",
       "                                 Stocks, Forex, Finance, Markets: Portfolio & News       79\n",
       "                                 Yap? Kredi Mobile                                       68\n",
       "                                 Garanti Mobile Banking                                  58\n",
       "                                 CEPTETEB                                                36\n",
       "                                 Nubank                                                  35\n",
       "                                 monobank                                                 9\n",
       "                         3       bKash                                                  346\n",
       "                                 PhonePe – UPI Payments, Recharges & Money Transfer     261\n",
       "                                 FNB Banking App                                        248\n",
       "                                 MSN Money- Stock Quotes & News                         228\n",
       "                                 Yahoo Finance                                          176\n",
       "                                 Stocks, Forex, Finance, Markets: Portfolio & News      172\n",
       "                                 QIWI Wallet                                            128\n",
       "                                 Yap? Kredi Mobile                                      113\n",
       "                                 CAIXA                                                  101\n",
       "                                 Garanti Mobile Banking                                  94\n",
       "                                 Nubank                                                  63\n",
       "                                 CEPTETEB                                                47\n",
       "                                 monobank                                                16\n",
       "                         4       MSN Money- Stock Quotes & News                         722\n",
       "                                 Yahoo Finance                                          704\n",
       "                                 PhonePe – UPI Payments, Recharges & Money Transfer     611\n",
       "                                 Stocks, Forex, Finance, Markets: Portfolio & News      463\n",
       "                                 bKash                                                  348\n",
       "                                 Yap? Kredi Mobile                                      325\n",
       "                                 FNB Banking App                                        269\n",
       "                                 Nubank                                                 143\n",
       "                                 CEPTETEB                                               116\n",
       "                                 QIWI Wallet                                            111\n",
       "                                 Garanti Mobile Banking                                 101\n",
       "                                 CAIXA                                                   51\n",
       "                                 monobank                                                46\n",
       "                         5       PhonePe – UPI Payments, Recharges & Money Transfer    2364\n",
       "                                 Stocks, Forex, Finance, Markets: Portfolio & News     2084\n",
       "                                 MSN Money- Stock Quotes & News                        1815\n",
       "                                 Yahoo Finance                                         1735\n",
       "                                 bKash                                                 1304\n",
       "                                 Yap? Kredi Mobile                                     1286\n",
       "                                 Nubank                                                1275\n",
       "                                 FNB Banking App                                       1066\n",
       "                                 QIWI Wallet                                            558\n",
       "                                 monobank                                               512\n",
       "                                 Garanti Mobile Banking                                 414\n",
       "                                 CEPTETEB                                               359\n",
       "                                 CAIXA                                                  112\n",
       "Health & Fitness         0       Home Workout - No Equipment                              1\n",
       "                         1       Lose It! - Calorie Counter                             245\n",
       "                                 Seven - 7 Minute Workout Training Challenge            163\n",
       "                                 YAZIO Calorie Counter, Nutrition Diary & Diet Plan     158\n",
       "                                 Nike+ Run Club                                          83\n",
       "                                 Water Drink Reminder                                    59\n",
       "                                 Home Workout - No Equipment                             46\n",
       "                                 Lose Weight in 30 Days                                  39\n",
       "                                 Lose Belly Fat in 30 Days - Flat Stomach                31\n",
       "                                 Six Pack in 30 Days - Abs Workout                       24\n",
       "                                 Home Workout for Men - Bodybuilding                     12\n",
       "                         2       Lose It! - Calorie Counter                             143\n",
       "                                 Seven - 7 Minute Workout Training Challenge            116\n",
       "                                 YAZIO Calorie Counter, Nutrition Diary & Diet Plan      92\n",
       "                                 Nike+ Run Club                                          52\n",
       "                                 Water Drink Reminder                                    41\n",
       "                                 Home Workout - No Equipment                             30\n",
       "                                 Lose Weight in 30 Days                                  29\n",
       "                                 Six Pack in 30 Days - Abs Workout                       14\n",
       "                                 Lose Belly Fat in 30 Days - Flat Stomach                12\n",
       "                                 Home Workout for Men - Bodybuilding                      2\n",
       "                         3       Seven - 7 Minute Workout Training Challenge            281\n",
       "                                 Lose It! - Calorie Counter                             262\n",
       "                                 YAZIO Calorie Counter, Nutrition Diary & Diet Plan     142\n",
       "                                 Lose Weight in 30 Days                                 112\n",
       "                                 Nike+ Run Club                                         102\n",
       "                                 Water Drink Reminder                                    92\n",
       "                                 Home Workout - No Equipment                             68\n",
       "                                 Six Pack in 30 Days - Abs Workout                       54\n",
       "                                 Lose Belly Fat in 30 Days - Flat Stomach                44\n",
       "                                 Home Workout for Men - Bodybuilding                     20\n",
       "                         4       Seven - 7 Minute Workout Training Challenge            941\n",
       "                                 Lose It! - Calorie Counter                             706\n",
       "                                 YAZIO Calorie Counter, Nutrition Diary & Diet Plan     389\n",
       "                                 Home Workout - No Equipment                            368\n",
       "                                 Water Drink Reminder                                   350\n",
       "                                 Lose Weight in 30 Days                                 346\n",
       "                                 Nike+ Run Club                                         268\n",
       "                                 Lose Belly Fat in 30 Days - Flat Stomach               206\n",
       "                                 Six Pack in 30 Days - Abs Workout                      198\n",
       "                                 Home Workout for Men - Bodybuilding                     85\n",
       "                         5       Lose Belly Fat in 30 Days - Flat Stomach              4187\n",
       "                                 Home Workout - No Equipment                           3967\n",
       "                                 Lose Weight in 30 Days                                3954\n",
       "                                 Water Drink Reminder                                  3938\n",
       "                                 Six Pack in 30 Days - Abs Workout                     3510\n",
       "                                 Seven - 7 Minute Workout Training Challenge           2923\n",
       "                                 Lose It! - Calorie Counter                            2644\n",
       "                                 Home Workout for Men - Bodybuilding                   1043\n",
       "                                 Nike+ Run Club                                        1015\n",
       "                                 YAZIO Calorie Counter, Nutrition Diary & Diet Plan     808\n",
       "Medical                  1       Epocrates                                              180\n",
       "                                 Anatomy Learning - 3D Atlas                            170\n",
       "                                 Diseases Dictionary                                     91\n",
       "                                 Figure 1 - Medical Images                               72\n",
       "                                 Medical Terminology Dictionary:Search&Vocabulary        65\n",
       "                                 WikiMed                                                 65\n",
       "                                 Drugs.com Medication Guide                              56\n",
       "                                 Pharmapedia Pakistan                                    44\n",
       "                                 Disorder & Diseases Dictionary                          26\n",
       "                                 Prognosis : Your Diagnosis                              11\n",
       "                         2       Epocrates                                               64\n",
       "                                 Diseases Dictionary                                     55\n",
       "                                 Figure 1 - Medical Images                               42\n",
       "                                 Anatomy Learning - 3D Atlas                             37\n",
       "                                 Pharmapedia Pakistan                                    35\n",
       "                                 Medical Terminology Dictionary:Search&Vocabulary        26\n",
       "                                 Drugs.com Medication Guide                              22\n",
       "                                 WikiMed                                                 22\n",
       "                                 Disorder & Diseases Dictionary                          14\n",
       "                                 Prognosis : Your Diagnosis                               5\n",
       "                         3       Diseases Dictionary                                    181\n",
       "                                 Pharmapedia Pakistan                                   136\n",
       "                                 WikiMed                                                 84\n",
       "                                 Disorder & Diseases Dictionary                          79\n",
       "                                 Figure 1 - Medical Images                               78\n",
       "                                 Medical Terminology Dictionary:Search&Vocabulary        76\n",
       "                                 Epocrates                                               72\n",
       "                                 Anatomy Learning - 3D Atlas                             61\n",
       "                                 Drugs.com Medication Guide                              60\n",
       "                                 Prognosis : Your Diagnosis                              31\n",
       "                         4       Diseases Dictionary                                    768\n",
       "                                 Pharmapedia Pakistan                                   604\n",
       "                                 Disorder & Diseases Dictionary                         486\n",
       "                                 WikiMed                                                431\n",
       "                                 Drugs.com Medication Guide                             377\n",
       "                                 Prognosis : Your Diagnosis                             329\n",
       "                                 Anatomy Learning - 3D Atlas                            304\n",
       "                                 Medical Terminology Dictionary:Search&Vocabulary       296\n",
       "                                 Figure 1 - Medical Images                              205\n",
       "                                 Epocrates                                              141\n",
       "                         5       Pharmapedia Pakistan                                  3314\n",
       "                                 WikiMed                                               2598\n",
       "                                 Diseases Dictionary                                   2105\n",
       "                                 Prognosis : Your Diagnosis                            2024\n",
       "                                 Drugs.com Medication Guide                            1885\n",
       "                                 Anatomy Learning - 3D Atlas                           1828\n",
       "                                 Disorder & Diseases Dictionary                        1795\n",
       "                                 Figure 1 - Medical Images                             1025\n",
       "                                 Medical Terminology Dictionary:Search&Vocabulary       984\n",
       "                                 Epocrates                                              543\n",
       "Racing                   1       Racing in Car 2                                        760\n",
       "                                 Bike Stunt Master                                      450\n",
       "                                 Trial Xtreme 4                                         397\n",
       "                                 Extreme Car Driving Simulator                          347\n",
       "                                 Asphalt Nitro                                          315\n",
       "                                 Dr. Driving 2                                          218\n",
       "                                 Bike Mayhem Free                                       217\n",
       "                                 Beach Buggy Racing                                     212\n",
       "                                 Hill Climb Racing 2                                    206\n",
       "                                 Racing Fever: Moto                                     167\n",
       "                         2       Racing in Car 2                                        182\n",
       "                                 Trial Xtreme 4                                         106\n",
       "                                 Bike Stunt Master                                       88\n",
       "                                 Extreme Car Driving Simulator                           76\n",
       "                                 Dr. Driving 2                                           72\n",
       "                                 Asphalt Nitro                                           71\n",
       "                                 Hill Climb Racing 2                                     69\n",
       "                                 Bike Mayhem Free                                        64\n",
       "                                 Racing Fever: Moto                                      54\n",
       "                                 Beach Buggy Racing                                      48\n",
       "                         3       Racing in Car 2                                        441\n",
       "                                 Extreme Car Driving Simulator                          417\n",
       "                                 Dr. Driving 2                                          303\n",
       "                                 Asphalt Nitro                                          230\n",
       "                                 Bike Mayhem Free                                       225\n",
       "                                 Racing Fever: Moto                                     221\n",
       "                                 Hill Climb Racing 2                                    209\n",
       "                                 Bike Stunt Master                                      185\n",
       "                                 Trial Xtreme 4                                         170\n",
       "                                 Beach Buggy Racing                                     120\n",
       "                         4       Racing Fever: Moto                                     735\n",
       "                                 Trial Xtreme 4                                         626\n",
       "                                 Dr. Driving 2                                          601\n",
       "                                 Bike Mayhem Free                                       591\n",
       "                                 Hill Climb Racing 2                                    589\n",
       "                                 Racing in Car 2                                        568\n",
       "                                 Asphalt Nitro                                          559\n",
       "                                 Extreme Car Driving Simulator                          508\n",
       "                                 Beach Buggy Racing                                     475\n",
       "                                 Bike Stunt Master                                      196\n",
       "                         5       Beach Buggy Racing                                    3625\n",
       "                                 Bike Mayhem Free                                      3383\n",
       "                                 Asphalt Nitro                                         3305\n",
       "                                 Racing Fever: Moto                                    3303\n",
       "                                 Dr. Driving 2                                         3286\n",
       "                                 Trial Xtreme 4                                        3181\n",
       "                                 Extreme Car Driving Simulator                         3132\n",
       "                                 Hill Climb Racing 2                                   2727\n",
       "                                 Racing in Car 2                                       2529\n",
       "                                 Bike Stunt Master                                     1825\n",
       "Shopping                 1       Snapdeal Online Shopping App                          1619\n",
       "                                 Club Factory                                          1530\n",
       "                                 ShopClues: Online Shopping App                        1267\n",
       "                                 Amazon for Tablets                                    1265\n",
       "                                 Flipkart Online Shopping App                           848\n",
       "                                 Digikala                                               659\n",
       "                                 Myntra Online Shopping App                             537\n",
       "                                 Divar                                                  415\n",
       "                                 Bikroy                                                 369\n",
       "                                 AliExpress                                             271\n",
       "                                 Lazada                                                 175\n",
       "                         2       Amazon for Tablets                                     469\n",
       "                                 Digikala                                               217\n",
       "                                 Myntra Online Shopping App                             182\n",
       "                                 Club Factory                                           174\n",
       "                                 Flipkart Online Shopping App                           172\n",
       "                                 Snapdeal Online Shopping App                           134\n",
       "                                 ShopClues: Online Shopping App                         123\n",
       "                                 Divar                                                  112\n",
       "                                 Bikroy                                                  75\n",
       "                                 AliExpress                                              70\n",
       "                                 Lazada                                                  65\n",
       "                         3       Myntra Online Shopping App                             502\n",
       "                                 Amazon for Tablets                                     405\n",
       "                                 Digikala                                               316\n",
       "                                 Club Factory                                           314\n",
       "                                 Flipkart Online Shopping App                           292\n",
       "                                 Divar                                                  285\n",
       "                                 ShopClues: Online Shopping App                         246\n",
       "                                 Lazada                                                 166\n",
       "                                 Snapdeal Online Shopping App                           160\n",
       "                                 Bikroy                                                 152\n",
       "                                 AliExpress                                             120\n",
       "                         4       Myntra Online Shopping App                            1081\n",
       "                                 Flipkart Online Shopping App                           884\n",
       "                                 Lazada                                                 585\n",
       "                                 Club Factory                                           581\n",
       "                                 AliExpress                                             526\n",
       "                                 Divar                                                  505\n",
       "                                 Snapdeal Online Shopping App                           466\n",
       "                                 Digikala                                               460\n",
       "                                 ShopClues: Online Shopping App                         435\n",
       "                                 Amazon for Tablets                                     387\n",
       "                                 Bikroy                                                 274\n",
       "                         5       Bikroy                                                3610\n",
       "                                 AliExpress                                            3493\n",
       "                                 Lazada                                                3489\n",
       "                                 Divar                                                 2683\n",
       "                                 ShopClues: Online Shopping App                        2409\n",
       "                                 Digikala                                              2348\n",
       "                                 Flipkart Online Shopping App                          2284\n",
       "                                 Myntra Online Shopping App                            2178\n",
       "                                 Snapdeal Online Shopping App                          2101\n",
       "                                 Amazon for Tablets                                    1954\n",
       "                                 Club Factory                                          1401\n",
       "Sports                   1       Real Football                                          621\n",
       "                                 Athletics2: Summer Sports Free                         540\n",
       "                                 Pool Billiards Pro                                     509\n",
       "                                 Table Tennis 3D™ 18                                    441\n",
       "                                 Real Cricket™ 18                                       393\n",
       "                                 Score! Hero                                            237\n",
       "                                 3D Tennis                                              236\n",
       "                                 FVolleyball Champions 3D                               212\n",
       "                                 Billiards City                                         190\n",
       "                                 Snooker Stars                                          125\n",
       "                         2       Athletics2: Summer Sports Free                         210\n",
       "                                 Real Football                                          148\n",
       "                                 Pool Billiards Pro                                     133\n",
       "                                 Table Tennis 3D™ 18                                    124\n",
       "                                 FVolleyball Champions 3D                               113\n",
       "                                 Real Cricket™ 18                                       113\n",
       "                                 Score! Hero                                             66\n",
       "                                 3D Tennis                                               62\n",
       "                                 Billiards City                                          61\n",
       "                                 Snooker Stars                                           50\n",
       "                         3       Athletics2: Summer Sports Free                         550\n",
       "                                 FVolleyball Champions 3D                               359\n",
       "                                 Table Tennis 3D™ 18                                    353\n",
       "                                 Billiards City                                         322\n",
       "                                 Pool Billiards Pro                                     289\n",
       "                                 Real Cricket™ 18                                       267\n",
       "                                 Real Football                                          258\n",
       "                                 3D Tennis                                              206\n",
       "                                 Snooker Stars                                          174\n",
       "                                 Score! Hero                                            149\n",
       "                         4       Billiards City                                         781\n",
       "                                 FVolleyball Champions 3D                               680\n",
       "                                 Table Tennis 3D™ 18                                    664\n",
       "                                 Athletics2: Summer Sports Free                         617\n",
       "                                 Real Cricket™ 18                                       546\n",
       "                                 Snooker Stars                                          532\n",
       "                                 3D Tennis                                              531\n",
       "                                 Pool Billiards Pro                                     517\n",
       "                                 Score! Hero                                            397\n",
       "                                 Real Football                                          361\n",
       "                         5       Billiards City                                        3126\n",
       "                                 Pool Billiards Pro                                    2552\n",
       "                                 Score! Hero                                           2151\n",
       "                                 3D Tennis                                             1965\n",
       "                                 Snooker Stars                                         1919\n",
       "                                 Real Cricket™ 18                                      1681\n",
       "                                 FVolleyball Champions 3D                              1636\n",
       "                                 Real Football                                         1612\n",
       "                                 Table Tennis 3D™ 18                                   1418\n",
       "                                 Athletics2: Summer Sports Free                        1083\n",
       "Video Players & Editors  1       Media Player                                           627\n",
       "                                 MX Player                                              430\n",
       "                                 Video player KM                                        279\n",
       "                                 Youtube                                                235\n",
       "                                 VivaVideo                                              124\n",
       "                                 PowerDirector Video Editor App                         103\n",
       "                                 KineMaster                                              90\n",
       "                                 VideoShow                                               87\n",
       "                                 Video Player All Format                                 24\n",
       "                                 YouCut App                                              19\n",
       "                         2       MX Player                                              176\n",
       "                                 Video player KM                                        135\n",
       "                                 Media Player                                           106\n",
       "                                 Youtube                                                 92\n",
       "                                 VivaVideo                                               42\n",
       "                                 PowerDirector Video Editor App                          41\n",
       "                                 KineMaster                                              23\n",
       "                                 VideoShow                                               18\n",
       "                                 YouCut App                                               8\n",
       "                                 Video Player All Format                                  7\n",
       "                         3       Video player KM                                        290\n",
       "                                 MX Player                                              278\n",
       "                                 Media Player                                           189\n",
       "                                 VivaVideo                                              180\n",
       "                                 Youtube                                                163\n",
       "                                 PowerDirector Video Editor App                          93\n",
       "                                 KineMaster                                              67\n",
       "                                 VideoShow                                               67\n",
       "                                 Video Player All Format                                 52\n",
       "                                 YouCut App                                              21\n",
       "                         4       Video player KM                                        582\n",
       "                                 VivaVideo                                              574\n",
       "                                 MX Player                                              413\n",
       "                                 Media Player                                           379\n",
       "                                 PowerDirector Video Editor App                         223\n",
       "                                 KineMaster                                             204\n",
       "                                 Video Player All Format                                189\n",
       "                                 VideoShow                                              171\n",
       "                                 Youtube                                                161\n",
       "                                 YouCut App                                             148\n",
       "                         5       VivaVideo                                             3269\n",
       "                                 Video player KM                                       1714\n",
       "                                 MX Player                                             1703\n",
       "                                 Media Player                                          1411\n",
       "                                 PowerDirector Video Editor App                        1180\n",
       "                                 KineMaster                                            1056\n",
       "                                 YouCut App                                            1044\n",
       "                                 VideoShow                                              977\n",
       "                                 Video Player All Format                                768\n",
       "                                 Youtube                                                549\n",
       "Weather                  0       Yandex.Weather                                           3\n",
       "                         1       The Weather Channel                                    432\n",
       "                                 NOAA Weather Radar & Alerts                            429\n",
       "                                 Yahoo Weather                                          263\n",
       "                                 Weather & Clock Widget for Android                     217\n",
       "                                 Yandex.Weather                                         216\n",
       "                                 Weather & Radar - Free                                 188\n",
       "                                 Weather Live Free                                      131\n",
       "                                 Transparent clock & weather                             59\n",
       "                                 Weather XL PRO                                          57\n",
       "                                 Weather forecast                                        24\n",
       "                         2       The Weather Channel                                    199\n",
       "                                 Yahoo Weather                                          177\n",
       "                                 Weather & Clock Widget for Android                     152\n",
       "                                 NOAA Weather Radar & Alerts                            118\n",
       "                                 Yandex.Weather                                          96\n",
       "                                 Weather & Radar - Free                                  93\n",
       "                                 Weather Live Free                                       64\n",
       "                                 Transparent clock & weather                             61\n",
       "                                 Weather XL PRO                                          34\n",
       "                                 Weather forecast                                        26\n",
       "                         3       Weather & Clock Widget for Android                     346\n",
       "                                 Yahoo Weather                                          319\n",
       "                                 The Weather Channel                                    276\n",
       "                                 NOAA Weather Radar & Alerts                            251\n",
       "                                 Weather & Radar - Free                                 186\n",
       "                                 Weather Live Free                                      124\n",
       "                                 Yandex.Weather                                         121\n",
       "                                 Transparent clock & weather                             88\n",
       "                                 Weather XL PRO                                          56\n",
       "                                 Weather forecast                                        47\n",
       "                         4       Weather & Clock Widget for Android                     985\n",
       "                                 Yahoo Weather                                          837\n",
       "                                 NOAA Weather Radar & Alerts                            692\n",
       "                                 Weather & Radar - Free                                 668\n",
       "                                 The Weather Channel                                    525\n",
       "                                 Weather Live Free                                      324\n",
       "                                 Weather XL PRO                                         311\n",
       "                                 Transparent clock & weather                            297\n",
       "                                 Weather forecast                                       207\n",
       "                                 Yandex.Weather                                         170\n",
       "                         5       Weather & Clock Widget for Android                    2780\n",
       "                                 Yahoo Weather                                         2764\n",
       "                                 The Weather Channel                                   2568\n",
       "                                 Weather & Radar - Free                                2465\n",
       "                                 NOAA Weather Radar & Alerts                           2110\n",
       "                                 Weather forecast                                      1376\n",
       "                                 Weather Live Free                                     1077\n",
       "                                 Weather XL PRO                                         942\n",
       "                                 Transparent clock & weather                            935\n",
       "                                 Yandex.Weather                                         438\n",
       "action                   1       Metal Soldiers                                         937\n",
       "                                 Zombie Frontier 3                                      712\n",
       "                                 Gun Shot Fire War                                      659\n",
       "                                 Real Gangster Crime                                    640\n",
       "                                 WARSHIP BATTLE                                         428\n",
       "                                 Bus Rush                                               420\n",
       "                                 Shadow Fight 2                                         380\n",
       "                                 N.O.V.A. Legacy                                        307\n",
       "                                 Sniper 3D Gun Shooter                                  257\n",
       "                                 Zombie Hunter King                                     193\n",
       "                                 Talking Tom Gold Run                                    99\n",
       "                         2       Zombie Frontier 3                                      225\n",
       "                                 Metal Soldiers                                         194\n",
       "                                 Gun Shot Fire War                                      128\n",
       "                                 Bus Rush                                               126\n",
       "                                 WARSHIP BATTLE                                         124\n",
       "                                 Real Gangster Crime                                    113\n",
       "                                 N.O.V.A. Legacy                                        104\n",
       "                                 Sniper 3D Gun Shooter                                   88\n",
       "                                 Shadow Fight 2                                          84\n",
       "                                 Zombie Hunter King                                      71\n",
       "                                 Talking Tom Gold Run                                    41\n",
       "                         3       Zombie Frontier 3                                      397\n",
       "                                 Metal Soldiers                                         366\n",
       "                                 Sniper 3D Gun Shooter                                  351\n",
       "                                 Zombie Hunter King                                     298\n",
       "                                 Gun Shot Fire War                                      296\n",
       "                                 Real Gangster Crime                                    277\n",
       "                                 Bus Rush                                               261\n",
       "                                 N.O.V.A. Legacy                                        241\n",
       "                                 WARSHIP BATTLE                                         240\n",
       "                                 Shadow Fight 2                                         170\n",
       "                                 Talking Tom Gold Run                                   123\n",
       "                         4       Sniper 3D Gun Shooter                                  818\n",
       "                                 N.O.V.A. Legacy                                        585\n",
       "                                 Zombie Hunter King                                     531\n",
       "                                 WARSHIP BATTLE                                         516\n",
       "                                 Bus Rush                                               459\n",
       "                                 Metal Soldiers                                         447\n",
       "                                 Zombie Frontier 3                                      447\n",
       "                                 Talking Tom Gold Run                                   384\n",
       "                                 Shadow Fight 2                                         370\n",
       "                                 Real Gangster Crime                                    316\n",
       "                                 Gun Shot Fire War                                      311\n",
       "                         5       Shadow Fight 2                                        3476\n",
       "                                 Talking Tom Gold Run                                  3353\n",
       "                                 N.O.V.A. Legacy                                       3163\n",
       "                                 Sniper 3D Gun Shooter                                 2966\n",
       "                                 Bus Rush                                              2734\n",
       "                                 WARSHIP BATTLE                                        2692\n",
       "                                 Zombie Hunter King                                    2688\n",
       "                                 Real Gangster Crime                                   2654\n",
       "                                 Zombie Frontier 3                                     2219\n",
       "                                 Metal Soldiers                                        2056\n",
       "                                 Gun Shot Fire War                                     1606\n",
       "card                     0       Gin Rummy                                                1\n",
       "                         1       Card Wars Kingdom                                      736\n",
       "                                 Gin Rummy                                              711\n",
       "                                 29 Card Game                                           437\n",
       "                                 World Series of Poker                                  318\n",
       "                                 Callbreak Multiplayer                                  297\n",
       "                                 Card game 29                                           283\n",
       "                                 Teen Patti Gold                                        219\n",
       "                                 Black Jack                                             143\n",
       "                                 Spider Solitaire                                        97\n",
       "                                 Black Jack 21                                           80\n",
       "                         2       Gin Rummy                                              373\n",
       "                                 Card Wars Kingdom                                      243\n",
       "                                 29 Card Game                                           151\n",
       "                                 World Series of Poker                                  127\n",
       "                                 Card game 29                                           107\n",
       "                                 Callbreak Multiplayer                                   97\n",
       "                                 Black Jack                                              54\n",
       "                                 Spider Solitaire                                        51\n",
       "                                 Black Jack 21                                           35\n",
       "                                 Teen Patti Gold                                         33\n",
       "                         3       Gin Rummy                                              445\n",
       "                                 Card Wars Kingdom                                      365\n",
       "                                 Callbreak Multiplayer                                  324\n",
       "                                 29 Card Game                                           304\n",
       "                                 Card game 29                                           285\n",
       "                                 World Series of Poker                                  210\n",
       "                                 Teen Patti Gold                                        178\n",
       "                                 Black Jack                                             152\n",
       "                                 Spider Solitaire                                       102\n",
       "                                 Black Jack 21                                           65\n",
       "                         4       Black Jack                                             966\n",
       "                                 29 Card Game                                           666\n",
       "                                 Callbreak Multiplayer                                  560\n",
       "                                 Gin Rummy                                              552\n",
       "                                 Card game 29                                           489\n",
       "                                 Card Wars Kingdom                                      486\n",
       "                                 World Series of Poker                                  470\n",
       "                                 Teen Patti Gold                                        394\n",
       "                                 Spider Solitaire                                       369\n",
       "                                 Black Jack 21                                          156\n",
       "                         5       Teen Patti Gold                                       3656\n",
       "                                 Black Jack                                            3165\n",
       "                                 World Series of Poker                                 2875\n",
       "                                 Callbreak Multiplayer                                 2722\n",
       "                                 Card Wars Kingdom                                     2650\n",
       "                                 29 Card Game                                          2442\n",
       "                                 Spider Solitaire                                      2181\n",
       "                                 Card game 29                                          1901\n",
       "                                 Gin Rummy                                             1533\n",
       "                                 Black Jack 21                                         1264\n",
       "photography              1       Motorola Camera                                       1554\n",
       "                                 B612 - Beauty & Filter Camera                          406\n",
       "                                 BeautyCam                                              293\n",
       "                                 HDCamera                                               267\n",
       "                                 Google Photos                                          201\n",
       "                                 Sweet Selfie                                           168\n",
       "                                 Candy Camera                                           158\n",
       "                                 Sweet Snap                                             149\n",
       "                                 Music Video Maker                                      105\n",
       "                                 BeautyPlus                                              78\n",
       "                         2       Motorola Camera                                        820\n",
       "                                 B612 - Beauty & Filter Camera                          130\n",
       "                                 BeautyCam                                              109\n",
       "                                 Google Photos                                          105\n",
       "                                 HDCamera                                                73\n",
       "                                 Candy Camera                                            60\n",
       "                                 Sweet Selfie                                            48\n",
       "                                 BeautyPlus                                              47\n",
       "                                 Sweet Snap                                              39\n",
       "                                 Music Video Maker                                       33\n",
       "                         3       Motorola Camera                                        829\n",
       "                                 Candy Camera                                           278\n",
       "                                 B612 - Beauty & Filter Camera                          255\n",
       "                                 Sweet Selfie                                           241\n",
       "                                 Google Photos                                          226\n",
       "                                 BeautyCam                                              216\n",
       "                                 HDCamera                                               215\n",
       "                                 Music Video Maker                                      205\n",
       "                                 BeautyPlus                                             197\n",
       "                                 Sweet Snap                                             151\n",
       "                         4       HDCamera                                               639\n",
       "                                 Music Video Maker                                      630\n",
       "                                 Candy Camera                                           624\n",
       "                                 Sweet Selfie                                           615\n",
       "                                 Google Photos                                          612\n",
       "                                 BeautyPlus                                             560\n",
       "                                 Sweet Snap                                             485\n",
       "                                 B612 - Beauty & Filter Camera                          484\n",
       "                                 BeautyCam                                              456\n",
       "                                 Motorola Camera                                        416\n",
       "                         5       Sweet Selfie                                          3408\n",
       "                                 Candy Camera                                          3360\n",
       "                                 Google Photos                                         3336\n",
       "                                 Sweet Snap                                            3176\n",
       "                                 BeautyPlus                                            3118\n",
       "                                 Music Video Maker                                     3027\n",
       "                                 BeautyCam                                             2926\n",
       "                                 HDCamera                                              2806\n",
       "                                 B612 - Beauty & Filter Camera                         2725\n",
       "                                 Motorola Camera                                        381\n",
       "Name: app_name, dtype: int64"
      ]
     },
     "execution_count": 13,
     "metadata": {},
     "output_type": "execute_result"
    }
   ],
   "source": [
    "pd.options.display.max_rows = 4000\n",
    "data.groupby(['cetagory','rating'])['app_name'].value_counts()"
   ]
  },
  {
   "cell_type": "code",
   "execution_count": 6,
   "metadata": {},
   "outputs": [
    {
     "data": {
      "text/plain": [
       "cetagory                 app_name                                          \n",
       "Arcade                   Angry Birds Rio                                       4480\n",
       "                         Sonic Dash                                            4480\n",
       "                         Subway Surfers                                        4480\n",
       "                         Space Shooter                                         4400\n",
       "                         Bubble Shooter 2                                      4000\n",
       "                         Jewels Legend                                         4000\n",
       "                         Leps World 2                                          3000\n",
       "                         Snow Bros                                             3000\n",
       "                         Subway Princess Runner                                3000\n",
       "                         Temple Run 2                                          3000\n",
       "                         Super Jabber Jump 3                                   2911\n",
       "Casual                   Angry Birds POP Bubble Shooter                        4480\n",
       "                         Board Kings™                                          4480\n",
       "                         Bubble Shooter                                        4480\n",
       "                         Candy Crush Saga                                      4480\n",
       "                         Farm Heroes Super Saga                                4480\n",
       "                         Gardenscapes                                          4480\n",
       "                         Hay Day                                               4480\n",
       "                         Minion Rush: Despicable Me Official Game              4480\n",
       "                         My Talking Tom                                        4480\n",
       "                         Pou                                                   4480\n",
       "                         Shopping Mall Girl - Dress Up & Style Game            4480\n",
       "                         BLUK - Physics Jump Adventure                         3280\n",
       "Communication            Dolphin Browser                                       3000\n",
       "                         Firefox Browser                                       3000\n",
       "                         Google Duo                                            3000\n",
       "                         Hangouts Dialer                                       3000\n",
       "                         KakaoTalk                                             3000\n",
       "                         LINE                                                  3000\n",
       "                         Messenger Lite                                        3000\n",
       "                         Opera Mini browser beta                               3000\n",
       "                         UC Browser Mini                                       3000\n",
       "                         WeChat                                                3000\n",
       "Finance                  bKash                                                 4480\n",
       "                         PhonePe – UPI Payments, Recharges & Money Transfer    4000\n",
       "                         MSN Money- Stock Quotes & News                        3000\n",
       "                         Stocks, Forex, Finance, Markets: Portfolio & News     3000\n",
       "                         Yahoo Finance                                         3000\n",
       "                         FNB Banking App                                       2200\n",
       "                         Yap? Kredi Mobile                                     1951\n",
       "                         Nubank                                                1612\n",
       "                         QIWI Wallet                                           1600\n",
       "                         CAIXA                                                 1219\n",
       "                         Garanti Mobile Banking                                 858\n",
       "                         CEPTETEB                                               696\n",
       "                         monobank                                               604\n",
       "Health & Fitness         Home Workout - No Equipment                           4480\n",
       "                         Lose Belly Fat in 30 Days - Flat Stomach              4480\n",
       "                         Lose Weight in 30 Days                                4480\n",
       "                         Water Drink Reminder                                  4480\n",
       "                         Seven - 7 Minute Workout Training Challenge           4424\n",
       "                         Lose It! - Calorie Counter                            4000\n",
       "                         Six Pack in 30 Days - Abs Workout                     3800\n",
       "                         YAZIO Calorie Counter, Nutrition Diary & Diet Plan    1589\n",
       "                         Nike+ Run Club                                        1520\n",
       "                         Home Workout for Men - Bodybuilding                   1162\n",
       "Medical                  Pharmapedia Pakistan                                  4133\n",
       "                         Diseases Dictionary                                   3200\n",
       "                         WikiMed                                               3200\n",
       "                         Anatomy Learning - 3D Atlas                           2400\n",
       "                         Disorder & Diseases Dictionary                        2400\n",
       "                         Drugs.com Medication Guide                            2400\n",
       "                         Prognosis : Your Diagnosis                            2400\n",
       "                         Medical Terminology Dictionary:Search&Vocabulary      1447\n",
       "                         Figure 1 - Medical Images                             1422\n",
       "                         Epocrates                                             1000\n",
       "Racing                   Asphalt Nitro                                         4480\n",
       "                         Beach Buggy Racing                                    4480\n",
       "                         Bike Mayhem Free                                      4480\n",
       "                         Dr. Driving 2                                         4480\n",
       "                         Extreme Car Driving Simulator                         4480\n",
       "                         Racing Fever: Moto                                    4480\n",
       "                         Racing in Car 2                                       4480\n",
       "                         Trial Xtreme 4                                        4480\n",
       "                         Hill Climb Racing 2                                   3800\n",
       "                         Bike Stunt Master                                     2744\n",
       "Shopping                 AliExpress                                            4480\n",
       "                         Amazon for Tablets                                    4480\n",
       "                         Bikroy                                                4480\n",
       "                         Flipkart Online Shopping App                          4480\n",
       "                         Lazada                                                4480\n",
       "                         Myntra Online Shopping App                            4480\n",
       "                         ShopClues: Online Shopping App                        4480\n",
       "                         Snapdeal Online Shopping App                          4480\n",
       "                         Club Factory                                          4000\n",
       "                         Digikala                                              4000\n",
       "                         Divar                                                 4000\n",
       "Sports                   Billiards City                                        4480\n",
       "                         Pool Billiards Pro                                    4000\n",
       "                         3D Tennis                                             3000\n",
       "                         Athletics2: Summer Sports Free                        3000\n",
       "                         FVolleyball Champions 3D                              3000\n",
       "                         Real Cricket™ 18                                      3000\n",
       "                         Real Football                                         3000\n",
       "                         Score! Hero                                           3000\n",
       "                         Table Tennis 3D™ 18                                   3000\n",
       "                         Snooker Stars                                         2800\n",
       "Video Players & Editors  VivaVideo                                             4189\n",
       "                         MX Player                                             3000\n",
       "                         Video player KM                                       3000\n",
       "                         Media Player                                          2712\n",
       "                         PowerDirector Video Editor App                        1640\n",
       "                         KineMaster                                            1440\n",
       "                         VideoShow                                             1320\n",
       "                         YouCut App                                            1240\n",
       "                         Youtube                                               1200\n",
       "                         Video Player All Format                               1040\n",
       "Weather                  Weather & Clock Widget for Android                    4480\n",
       "                         Yahoo Weather                                         4360\n",
       "                         The Weather Channel                                   4000\n",
       "                         NOAA Weather Radar & Alerts                           3600\n",
       "                         Weather & Radar - Free                                3600\n",
       "                         Weather Live Free                                     1720\n",
       "                         Weather forecast                                      1680\n",
       "                         Transparent clock & weather                           1440\n",
       "                         Weather XL PRO                                        1400\n",
       "                         Yandex.Weather                                        1044\n",
       "action                   Shadow Fight 2                                        4480\n",
       "                         Sniper 3D Gun Shooter                                 4480\n",
       "                         N.O.V.A. Legacy                                       4400\n",
       "                         Bus Rush                                              4000\n",
       "                         Metal Soldiers                                        4000\n",
       "                         Real Gangster Crime                                   4000\n",
       "                         Talking Tom Gold Run                                  4000\n",
       "                         WARSHIP BATTLE                                        4000\n",
       "                         Zombie Frontier 3                                     4000\n",
       "                         Zombie Hunter King                                    3781\n",
       "                         Gun Shot Fire War                                     3000\n",
       "card                     Black Jack                                            4480\n",
       "                         Card Wars Kingdom                                     4480\n",
       "                         Teen Patti Gold                                       4480\n",
       "                         29 Card Game                                          4000\n",
       "                         Callbreak Multiplayer                                 4000\n",
       "                         World Series of Poker                                 4000\n",
       "                         Gin Rummy                                             3615\n",
       "                         Card game 29                                          3065\n",
       "                         Spider Solitaire                                      2800\n",
       "                         Black Jack 21                                         1600\n",
       "photography              Candy Camera                                          4480\n",
       "                         Google Photos                                         4480\n",
       "                         Sweet Selfie                                          4480\n",
       "                         B612 - Beauty & Filter Camera                         4000\n",
       "                         BeautyCam                                             4000\n",
       "                         BeautyPlus                                            4000\n",
       "                         HDCamera                                              4000\n",
       "                         Motorola Camera                                       4000\n",
       "                         Music Video Maker                                     4000\n",
       "                         Sweet Snap                                            4000\n",
       "Name: app_name, dtype: int64"
      ]
     },
     "execution_count": 6,
     "metadata": {},
     "output_type": "execute_result"
    }
   ],
   "source": [
    "pd.options.display.max_rows = 4000\n",
    "data.groupby('cetagory')['app_name'].value_counts()"
   ]
  },
  {
   "cell_type": "code",
   "execution_count": 51,
   "metadata": {},
   "outputs": [
    {
     "data": {
      "text/plain": [
       "cetagory                 rating\n",
       "Arcade                   5         30077\n",
       "                         4          5352\n",
       "                         3          2433\n",
       "                         1          2116\n",
       "                         2           771\n",
       "                         0             2\n",
       "Casual                   5         39258\n",
       "                         4          6304\n",
       "                         3          3000\n",
       "                         1          2798\n",
       "                         2          1200\n",
       "Communication            5         15698\n",
       "                         1          5510\n",
       "                         4          3824\n",
       "                         3          2894\n",
       "                         2          2074\n",
       "Finance                  5         14884\n",
       "                         1          6030\n",
       "                         4          4010\n",
       "                         3          1993\n",
       "                         2          1303\n",
       "Health & Fitness         5         27989\n",
       "                         4          3857\n",
       "                         3          1177\n",
       "                         1           860\n",
       "                         2           531\n",
       "                         0             1\n",
       "Medical                  5         18101\n",
       "                         4          3941\n",
       "                         3           858\n",
       "                         1           780\n",
       "                         2           322\n",
       "Racing                   5         30296\n",
       "                         4          5448\n",
       "                         1          3289\n",
       "                         3          2521\n",
       "                         2           830\n",
       "Shopping                 5         27950\n",
       "                         1          8955\n",
       "                         4          6184\n",
       "                         3          2958\n",
       "                         2          1793\n",
       "Sports                   5         19143\n",
       "                         4          5626\n",
       "                         1          3504\n",
       "                         3          2927\n",
       "                         2          1080\n",
       "Video Players & Editors  5         13671\n",
       "                         4          3044\n",
       "                         1          2018\n",
       "                         3          1400\n",
       "                         2           648\n",
       "Weather                  5         17455\n",
       "                         4          5016\n",
       "                         1          2016\n",
       "                         3          1814\n",
       "                         2          1020\n",
       "                         0             3\n",
       "action                   5         29607\n",
       "                         4          5184\n",
       "                         1          5032\n",
       "                         3          3020\n",
       "                         2          1298\n",
       "card                     5         24389\n",
       "                         4          5108\n",
       "                         1          3321\n",
       "                         3          2430\n",
       "                         2          1271\n",
       "                         0             1\n",
       "photography              5         28263\n",
       "                         4          5521\n",
       "                         1          3379\n",
       "                         3          2813\n",
       "                         2          1464\n",
       "Name: rating, dtype: int64"
      ]
     },
     "execution_count": 51,
     "metadata": {},
     "output_type": "execute_result"
    }
   ],
   "source": [
    "pd.options.display.max_rows = 4000\n",
    "data.groupby('cetagory')['rating'].value_counts()"
   ]
  },
  {
   "cell_type": "code",
   "execution_count": 10,
   "metadata": {},
   "outputs": [
    {
     "data": {
      "text/plain": [
       "Casual                     52560\n",
       "Shopping                   47840\n",
       "action                     44141\n",
       "Racing                     42384\n",
       "photography                41440\n",
       "Arcade                     40751\n",
       "card                       36520\n",
       "Health & Fitness           34415\n",
       "Sports                     32280\n",
       "Communication              30000\n",
       "Finance                    28220\n",
       "Weather                    27324\n",
       "Medical                    24002\n",
       "Video Players & Editors    20781\n",
       "Name: cetagory, dtype: int64"
      ]
     },
     "execution_count": 10,
     "metadata": {},
     "output_type": "execute_result"
    }
   ],
   "source": [
    "data.cetagory.value_counts()"
   ]
  },
  {
   "cell_type": "code",
   "execution_count": 58,
   "metadata": {},
   "outputs": [
    {
     "data": {
      "text/plain": [
       "cetagory                 app_name                                          \n",
       "Arcade                   Angry Birds Rio                                       4480\n",
       "                         Sonic Dash                                            4480\n",
       "                         Subway Surfers                                        4480\n",
       "                         Space Shooter                                         4400\n",
       "                         Bubble Shooter 2                                      4000\n",
       "                         Jewels Legend                                         4000\n",
       "                         Leps World 2                                          3000\n",
       "                         Snow Bros                                             3000\n",
       "                         Subway Princess Runner                                3000\n",
       "                         Temple Run 2                                          3000\n",
       "                         Super Jabber Jump 3                                   2911\n",
       "Casual                   Angry Birds POP Bubble Shooter                        4480\n",
       "                         Board Kings™                                          4480\n",
       "                         Bubble Shooter                                        4480\n",
       "                         Candy Crush Saga                                      4480\n",
       "                         Farm Heroes Super Saga                                4480\n",
       "                         Gardenscapes                                          4480\n",
       "                         Hay Day                                               4480\n",
       "                         Minion Rush: Despicable Me Official Game              4480\n",
       "                         My Talking Tom                                        4480\n",
       "                         Pou                                                   4480\n",
       "                         Shopping Mall Girl - Dress Up & Style Game            4480\n",
       "                         BLUK - Physics Jump Adventure                         3280\n",
       "Communication            Dolphin Browser                                       3000\n",
       "                         Firefox Browser                                       3000\n",
       "                         Google Duo                                            3000\n",
       "                         Hangouts Dialer                                       3000\n",
       "                         KakaoTalk                                             3000\n",
       "                         LINE                                                  3000\n",
       "                         Messenger Lite                                        3000\n",
       "                         Opera Mini browser beta                               3000\n",
       "                         UC Browser Mini                                       3000\n",
       "                         WeChat                                                3000\n",
       "Finance                  bKash                                                 4480\n",
       "                         PhonePe – UPI Payments, Recharges & Money Transfer    4000\n",
       "                         MSN Money- Stock Quotes & News                        3000\n",
       "                         Stocks, Forex, Finance, Markets: Portfolio & News     3000\n",
       "                         Yahoo Finance                                         3000\n",
       "                         FNB Banking App                                       2200\n",
       "                         Yap? Kredi Mobile                                     1951\n",
       "                         Nubank                                                1612\n",
       "                         QIWI Wallet                                           1600\n",
       "                         CAIXA                                                 1219\n",
       "                         Garanti Mobile Banking                                 858\n",
       "                         CEPTETEB                                               696\n",
       "                         monobank                                               604\n",
       "Health & Fitness         Home Workout - No Equipment                           4480\n",
       "                         Lose Belly Fat in 30 Days - Flat Stomach              4480\n",
       "                         Lose Weight in 30 Days                                4480\n",
       "                         Water Drink Reminder                                  4480\n",
       "                         Seven - 7 Minute Workout Training Challenge           4424\n",
       "                         Lose It! - Calorie Counter                            4000\n",
       "                         Six Pack in 30 Days - Abs Workout                     3800\n",
       "                         YAZIO Calorie Counter, Nutrition Diary & Diet Plan    1589\n",
       "                         Nike+ Run Club                                        1520\n",
       "                         Home Workout for Men - Bodybuilding                   1162\n",
       "Medical                  Pharmapedia Pakistan                                  4133\n",
       "                         Diseases Dictionary                                   3200\n",
       "                         WikiMed                                               3200\n",
       "                         Anatomy Learning - 3D Atlas                           2400\n",
       "                         Disorder & Diseases Dictionary                        2400\n",
       "                         Drugs.com Medication Guide                            2400\n",
       "                         Prognosis : Your Diagnosis                            2400\n",
       "                         Medical Terminology Dictionary:Search&Vocabulary      1447\n",
       "                         Figure 1 - Medical Images                             1422\n",
       "                         Epocrates                                             1000\n",
       "Racing                   Asphalt Nitro                                         4480\n",
       "                         Beach Buggy Racing                                    4480\n",
       "                         Bike Mayhem Free                                      4480\n",
       "                         Dr. Driving 2                                         4480\n",
       "                         Extreme Car Driving Simulator                         4480\n",
       "                         Racing Fever: Moto                                    4480\n",
       "                         Racing in Car 2                                       4480\n",
       "                         Trial Xtreme 4                                        4480\n",
       "                         Hill Climb Racing 2                                   3800\n",
       "                         Bike Stunt Master                                     2744\n",
       "Shopping                 AliExpress                                            4480\n",
       "                         Amazon for Tablets                                    4480\n",
       "                         Bikroy                                                4480\n",
       "                         Flipkart Online Shopping App                          4480\n",
       "                         Lazada                                                4480\n",
       "                         Myntra Online Shopping App                            4480\n",
       "                         ShopClues: Online Shopping App                        4480\n",
       "                         Snapdeal Online Shopping App                          4480\n",
       "                         Club Factory                                          4000\n",
       "                         Digikala                                              4000\n",
       "                         Divar                                                 4000\n",
       "Sports                   Billiards City                                        4480\n",
       "                         Pool Billiards Pro                                    4000\n",
       "                         3D Tennis                                             3000\n",
       "                         Athletics2: Summer Sports Free                        3000\n",
       "                         FVolleyball Champions 3D                              3000\n",
       "                         Real Cricket™ 18                                      3000\n",
       "                         Real Football                                         3000\n",
       "                         Score! Hero                                           3000\n",
       "                         Table Tennis 3D™ 18                                   3000\n",
       "                         Snooker Stars                                         2800\n",
       "Video Players & Editors  VivaVideo                                             4189\n",
       "                         MX Player                                             3000\n",
       "                         Video player KM                                       3000\n",
       "                         Media Player                                          2712\n",
       "                         PowerDirector Video Editor App                        1640\n",
       "                         KineMaster                                            1440\n",
       "                         VideoShow                                             1320\n",
       "                         YouCut App                                            1240\n",
       "                         Youtube                                               1200\n",
       "                         Video Player All Format                               1040\n",
       "Weather                  Weather & Clock Widget for Android                    4480\n",
       "                         Yahoo Weather                                         4360\n",
       "                         The Weather Channel                                   4000\n",
       "                         NOAA Weather Radar & Alerts                           3600\n",
       "                         Weather & Radar - Free                                3600\n",
       "                         Weather Live Free                                     1720\n",
       "                         Weather forecast                                      1680\n",
       "                         Transparent clock & weather                           1440\n",
       "                         Weather XL PRO                                        1400\n",
       "                         Yandex.Weather                                        1044\n",
       "action                   Shadow Fight 2                                        4480\n",
       "                         Sniper 3D Gun Shooter                                 4480\n",
       "                         N.O.V.A. Legacy                                       4400\n",
       "                         Bus Rush                                              4000\n",
       "                         Metal Soldiers                                        4000\n",
       "                         Real Gangster Crime                                   4000\n",
       "                         Talking Tom Gold Run                                  4000\n",
       "                         WARSHIP BATTLE                                        4000\n",
       "                         Zombie Frontier 3                                     4000\n",
       "                         Zombie Hunter King                                    3781\n",
       "                         Gun Shot Fire War                                     3000\n",
       "card                     Black Jack                                            4480\n",
       "                         Card Wars Kingdom                                     4480\n",
       "                         Teen Patti Gold                                       4480\n",
       "                         29 Card Game                                          4000\n",
       "                         Callbreak Multiplayer                                 4000\n",
       "                         World Series of Poker                                 4000\n",
       "                         Gin Rummy                                             3615\n",
       "                         Card game 29                                          3065\n",
       "                         Spider Solitaire                                      2800\n",
       "                         Black Jack 21                                         1600\n",
       "photography              Candy Camera                                          4480\n",
       "                         Google Photos                                         4480\n",
       "                         Sweet Selfie                                          4480\n",
       "                         B612 - Beauty & Filter Camera                         4000\n",
       "                         BeautyCam                                             4000\n",
       "                         BeautyPlus                                            4000\n",
       "                         HDCamera                                              4000\n",
       "                         Motorola Camera                                       4000\n",
       "                         Music Video Maker                                     4000\n",
       "                         Sweet Snap                                            4000\n",
       "Name: app_name, dtype: int64"
      ]
     },
     "execution_count": 58,
     "metadata": {},
     "output_type": "execute_result"
    }
   ],
   "source": [
    "pd.options.display.max_rows = 4000\n",
    "data.groupby('cetagory')['app_name'].value_counts()"
   ]
  },
  {
   "cell_type": "code",
   "execution_count": 28,
   "metadata": {},
   "outputs": [
    {
     "data": {
      "text/html": [
       "<script>requirejs.config({paths: { 'plotly': ['https://cdn.plot.ly/plotly-latest.min']},});if(!window.Plotly) {{require(['plotly'],function(plotly) {window.Plotly=plotly;});}}</script>"
      ],
      "text/vnd.plotly.v1+html": [
       "<script>requirejs.config({paths: { 'plotly': ['https://cdn.plot.ly/plotly-latest.min']},});if(!window.Plotly) {{require(['plotly'],function(plotly) {window.Plotly=plotly;});}}</script>"
      ]
     },
     "metadata": {},
     "output_type": "display_data"
    },
    {
     "data": {
      "application/vnd.plotly.v1+json": {
       "data": [
        {
         "hoverinfo": "label+value",
         "labels": [
          "Video Players & Editors",
          "Medical",
          "Weather",
          "Finance",
          "Communication",
          "Sports",
          "Health & Fitness",
          "card",
          "Arcade",
          "photography",
          "Racing",
          "action",
          "Shopping",
          "Casual"
         ],
         "type": "pie",
         "values": [
          20781,
          24002,
          27324,
          28220,
          30000,
          32280,
          34415,
          36520,
          40751,
          41440,
          42384,
          44141,
          47840,
          52560
         ]
        }
       ],
       "layout": {}
      },
      "text/html": [
       "<div id=\"4f6c998c-cbad-42d5-801c-a83afe0be155\" style=\"height: 525px; width: 100%;\" class=\"plotly-graph-div\"></div><script type=\"text/javascript\">require([\"plotly\"], function(Plotly) { window.PLOTLYENV=window.PLOTLYENV || {};window.PLOTLYENV.BASE_URL=\"https://plot.ly\";Plotly.newPlot(\"4f6c998c-cbad-42d5-801c-a83afe0be155\", [{\"labels\": [\"Video Players & Editors\", \"Medical\", \"Weather\", \"Finance\", \"Communication\", \"Sports\", \"Health & Fitness\", \"card\", \"Arcade\", \"photography\", \"Racing\", \"action\", \"Shopping\", \"Casual\"], \"type\": \"pie\", \"values\": [20781, 24002, 27324, 28220, 30000, 32280, 34415, 36520, 40751, 41440, 42384, 44141, 47840, 52560], \"hoverinfo\": \"label+value\"}], {}, {\"linkText\": \"Export to plot.ly\", \"showLink\": true})});</script>"
      ],
      "text/vnd.plotly.v1+html": [
       "<div id=\"4f6c998c-cbad-42d5-801c-a83afe0be155\" style=\"height: 525px; width: 100%;\" class=\"plotly-graph-div\"></div><script type=\"text/javascript\">require([\"plotly\"], function(Plotly) { window.PLOTLYENV=window.PLOTLYENV || {};window.PLOTLYENV.BASE_URL=\"https://plot.ly\";Plotly.newPlot(\"4f6c998c-cbad-42d5-801c-a83afe0be155\", [{\"labels\": [\"Video Players & Editors\", \"Medical\", \"Weather\", \"Finance\", \"Communication\", \"Sports\", \"Health & Fitness\", \"card\", \"Arcade\", \"photography\", \"Racing\", \"action\", \"Shopping\", \"Casual\"], \"type\": \"pie\", \"values\": [20781, 24002, 27324, 28220, 30000, 32280, 34415, 36520, 40751, 41440, 42384, 44141, 47840, 52560], \"hoverinfo\": \"label+value\"}], {}, {\"linkText\": \"Export to plot.ly\", \"showLink\": true})});</script>"
      ]
     },
     "metadata": {},
     "output_type": "display_data"
    }
   ],
   "source": [
    "import plotly\n",
    "import matplotlib.pyplot as plt\n",
    "# connected=True means it will download the latest version of plotly javascript library.\n",
    "plotly.offline.init_notebook_mode(connected=True)\n",
    "import plotly.graph_objs as go\n",
    "\n",
    "import plotly.figure_factory as ff\n",
    "number_of_apps_in_category = data['cetagory'].value_counts().sort_values(ascending=True)\n",
    "\n",
    "data = [go.Pie(\n",
    "        labels = number_of_apps_in_category.index,\n",
    "        values = number_of_apps_in_category.values,\n",
    "        hoverinfo = 'label+value'\n",
    "    \n",
    ")]\n",
    "\n",
    "plotly.offline.iplot(data, filename='active_category')\n",
    "plt.savefig('pie_chart.pdf')"
   ]
  },
  {
   "cell_type": "code",
   "execution_count": 98,
   "metadata": {},
   "outputs": [
    {
     "data": {
      "image/png": "[encoded data removed]",
      "text/plain": [
       "<matplotlib.figure.Figure at 0x86f6abf60>"
      ]
     },
     "metadata": {},
     "output_type": "display_data"
    }
   ],
   "source": [
    "from wordcloud import WordCloud, STOPWORDS\n",
    "from PIL import Image\n",
    "import urllib\n",
    "import requests\n",
    "import numpy as np\n",
    "import matplotlib.pyplot as plt\n",
    "\n",
    "#words = 'access guest guest apartment area area bathroom bed bed bed bed bed bedroom block coffee coffee coffee coffee entrance entry francisco free garden guest home house kettle kettle kitchen kitchen kitchen kitchen kitchen kitchenliving located microwave neighborhood new park parking place privacy private queen room san separate seperate shared space space space street suite time welcome'\n",
    "mask = np.array(Image.open(requests.get('http://www.clker.com/cliparts/O/i/x/Y/q/P/yellow-house-hi.png', stream=True).raw))\n",
    "\n",
    "# This function takes in your text and your mask and generates a wordcloud. \n",
    "def generate_wordcloud(str1, mask):\n",
    "    word_cloud = WordCloud(width = 512, height = 512, background_color='white', stopwords=STOPWORDS, mask=mask).generate(str1)\n",
    "    plt.figure(figsize=(10,8),facecolor = 'white', edgecolor='blue')\n",
    "    plt.imshow(word_cloud)\n",
    "    plt.axis('off')\n",
    "    plt.tight_layout(pad=0)\n",
    "    plt.show()\n",
    "    \n",
    "#Run the following to generate your wordcloud\n",
    "generate_wordcloud(str1, mask)"
   ]
  },
  {
   "cell_type": "code",
   "execution_count": 26,
   "metadata": {},
   "outputs": [],
   "source": [
    "# using the variable sw to hold all stopwords that are in English\n",
    "sw = stopwords.words('english')\n",
    "TEXT=[]\n",
    "#Rating=[]\n",
    "for i in range(len(data)):\n",
    "    #if data['cetagory'][i]=='Racing':\n",
    "    review = re.sub('[^a-zA-Z]', ' ',data['reviews'][i])\n",
    "    #review = re.sub('[/(){}\\[\\]\\|@!,;]', ' ',data['reviews'][i])\n",
    "    #review = re.sub('[^0-9a-zA-Z #+_♥️]', ' ',data['reviews'][i])#Remove bad symbols\n",
    "    review = re.sub(r'\\d+', '',review)\n",
    "    review = review.lower()\n",
    "    review = review.split()\n",
    "\n",
    "    review = [token for token in review if token not in sw]\n",
    "    review=' '.join(review)\n",
    "    TEXT.append(review)\n",
    "    #Rating.append(data['rating'][i])"
   ]
  },
  {
   "cell_type": "code",
   "execution_count": 26,
   "metadata": {},
   "outputs": [],
   "source": [
    "y =data.rating\n",
    "X=TEXT\n",
    "X_train, X_test, y_train, y_test = train_test_split(X, y, test_size=0.3)\n",
    "from sklearn.feature_extraction.text import TfidfVectorizer\n",
    "\n",
    "vectorizer = TfidfVectorizer(ngram_range=(3,3))\n",
    "X_train= vectorizer.fit_transform(X_train)\n",
    "X_test=vectorizer.transform(X_test)\n"
   ]
  },
  {
   "cell_type": "code",
   "execution_count": 27,
   "metadata": {},
   "outputs": [],
   "source": [
    "y =data.rating\n",
    "X=TEXT\n",
    "X_train, X_test, y_train, y_test = train_test_split(X, y, test_size=0.3)\n",
    "from sklearn.feature_extraction.text import CountVectorizer\n",
    "\n",
    "vectorizer = CountVectorizer()\n",
    "X_train= vectorizer.fit_transform(X_train)\n",
    "X_test=vectorizer.transform(X_test)\n"
   ]
  },
  {
   "cell_type": "code",
   "execution_count": 23,
   "metadata": {},
   "outputs": [
    {
     "name": "stdout",
     "output_type": "stream",
     "text": [
      "Random Forest\n",
      "0.7167933261714347\n",
      "              precision    recall  f1-score   support\n",
      "\n",
      "           1       0.59      0.59      0.59     14908\n",
      "           2       0.28      0.02      0.04      4632\n",
      "           3       0.32      0.05      0.08      9568\n",
      "           4       0.35      0.04      0.08     20615\n",
      "           5       0.74      0.97      0.84    101075\n",
      "\n",
      "    accuracy                           0.72    150798\n",
      "   macro avg       0.46      0.33      0.33    150798\n",
      "weighted avg       0.63      0.72      0.64    150798\n",
      "\n"
     ]
    }
   ],
   "source": [
    "#Uni-gram TF/IDF\n",
    "from sklearn.ensemble import RandomForestClassifier\n",
    "from sklearn.ensemble import GradientBoostingClassifier\n",
    "from sklearn.ensemble import ExtraTreesClassifier\n",
    "from sklearn.linear_model import LogisticRegression\n",
    "from sklearn.naive_bayes import MultinomialNB\n",
    "from sklearn.naive_bayes import BernoulliNB\n",
    "from sklearn.metrics import confusion_matrix, classification_report, accuracy_score\n",
    "rfc = RandomForestClassifier(n_estimators=100,n_jobs=-1,random_state=2)\n",
    "#etc = ExtraTreesClassifier(n_estimators=100,n_jobs=-1,random_state=2)\n",
    "#gb = GradientBoostingClassifier(n_estimators=5, learning_rate = 0.1)\n",
    "#clf= LogisticRegression()\n",
    "#gnb = BernoulliNB()\n",
    "preds = rfc.fit(X_train, y_train).predict(X_test)\n",
    "#predsGB = gb.fit(X_train, y_train).predict(X_test)\n",
    "#predsLR = clf.fit(X_train, y_train).predict(X_test)\n",
    "#predsGNB = gnb.fit(X_train, y_train).predict(X_test)\n",
    "#predsETC = etc.fit(X_train, y_train).predict(X_test)\n",
    "print(\"Random Forest\")\n",
    "print(accuracy_score(y_test, preds))\n",
    "print(classification_report(y_test, preds))\n",
    "#print(\"Extra Tree\")\n",
    "#print(accuracy_score(y_test, predsETC))\n",
    "#print(\"GBM\")\n",
    "#print(accuracy_score(y_test, predsGB))\n",
    "#print(\"LR\")\n",
    "#print(accuracy_score(y_test, predsLR))\n",
    "#print(\"NB\")\n",
    "#print(accuracy_score(y_test, predsGNB))"
   ]
  },
  {
   "cell_type": "code",
   "execution_count": 25,
   "metadata": {},
   "outputs": [
    {
     "name": "stdout",
     "output_type": "stream",
     "text": [
      "Random Forest\n",
      "0.6891470709160599\n",
      "              precision    recall  f1-score   support\n",
      "\n",
      "           0       0.00      0.00      0.00         1\n",
      "           1       0.53      0.39      0.45     14882\n",
      "           2       0.16      0.04      0.06      4663\n",
      "           3       0.24      0.07      0.11      9614\n",
      "           4       0.27      0.07      0.11     20592\n",
      "           5       0.74      0.95      0.83    101046\n",
      "\n",
      "    accuracy                           0.69    150798\n",
      "   macro avg       0.32      0.25      0.26    150798\n",
      "weighted avg       0.60      0.69      0.62    150798\n",
      "\n"
     ]
    }
   ],
   "source": [
    "#Bi-gram TF/IDF\n",
    "from sklearn.ensemble import RandomForestClassifier\n",
    "from sklearn.ensemble import GradientBoostingClassifier\n",
    "from sklearn.ensemble import ExtraTreesClassifier\n",
    "from sklearn.linear_model import LogisticRegression\n",
    "from sklearn.naive_bayes import MultinomialNB\n",
    "from sklearn.naive_bayes import BernoulliNB\n",
    "from sklearn.metrics import confusion_matrix, classification_report, accuracy_score\n",
    "rfc = RandomForestClassifier(n_estimators=10,n_jobs=-1,random_state=2)\n",
    "#etc = ExtraTreesClassifier(n_estimators=100,n_jobs=-1,random_state=2)\n",
    "#gb = GradientBoostingClassifier(n_estimators=5, learning_rate = 0.1)\n",
    "#clf= LogisticRegression()\n",
    "#gnb = BernoulliNB()\n",
    "preds = rfc.fit(X_train, y_train).predict(X_test)\n",
    "#predsGB = gb.fit(X_train, y_train).predict(X_test)\n",
    "#predsLR = clf.fit(X_train, y_train).predict(X_test)\n",
    "#predsGNB = gnb.fit(X_train, y_train).predict(X_test)\n",
    "#predsETC = etc.fit(X_train, y_train).predict(X_test)\n",
    "print(\"Random Forest\")\n",
    "print(accuracy_score(y_test, preds))\n",
    "print(classification_report(y_test, preds))\n",
    "#print(\"Extra Tree\")\n",
    "#print(accuracy_score(y_test, predsETC))\n",
    "#print(\"GBM\")\n",
    "#print(accuracy_score(y_test, predsGB))\n",
    "#print(\"LR\")\n",
    "#print(accuracy_score(y_test, predsLR))\n",
    "#print(\"NB\")\n",
    "#print(accuracy_score(y_test, predsGNB))"
   ]
  },
  {
   "cell_type": "code",
   "execution_count": 28,
   "metadata": {},
   "outputs": [
    {
     "name": "stdout",
     "output_type": "stream",
     "text": [
      "Random Forest\n",
      "0.6751879998408467\n",
      "              precision    recall  f1-score   support\n",
      "\n",
      "           0       0.00      0.00      0.00         2\n",
      "           1       0.58      0.13      0.21     14870\n",
      "           2       0.19      0.02      0.04      4719\n",
      "           3       0.24      0.03      0.05      9782\n",
      "           4       0.31      0.05      0.08     20499\n",
      "           5       0.69      0.98      0.81    100926\n",
      "\n",
      "    accuracy                           0.68    150798\n",
      "   macro avg       0.34      0.20      0.20    150798\n",
      "weighted avg       0.58      0.68      0.58    150798\n",
      "\n"
     ]
    }
   ],
   "source": [
    "#Tri-gram TF/IDF\n",
    "from sklearn.ensemble import RandomForestClassifier\n",
    "from sklearn.ensemble import GradientBoostingClassifier\n",
    "from sklearn.ensemble import ExtraTreesClassifier\n",
    "from sklearn.linear_model import LogisticRegression\n",
    "from sklearn.naive_bayes import MultinomialNB\n",
    "from sklearn.naive_bayes import BernoulliNB\n",
    "from sklearn.metrics import confusion_matrix, classification_report, accuracy_score\n",
    "rfc = RandomForestClassifier(n_estimators=10,n_jobs=-1,random_state=2)\n",
    "#etc = ExtraTreesClassifier(n_estimators=100,n_jobs=-1,random_state=2)\n",
    "#gb = GradientBoostingClassifier(n_estimators=5, learning_rate = 0.1)\n",
    "#clf= LogisticRegression()\n",
    "#gnb = BernoulliNB()\n",
    "preds = rfc.fit(X_train, y_train).predict(X_test)\n",
    "#predsGB = gb.fit(X_train, y_train).predict(X_test)\n",
    "#predsLR = clf.fit(X_train, y_train).predict(X_test)\n",
    "#predsGNB = gnb.fit(X_train, y_train).predict(X_test)\n",
    "#predsETC = etc.fit(X_train, y_train).predict(X_test)\n",
    "print(\"Random Forest\")\n",
    "print(accuracy_score(y_test, preds))\n",
    "print(classification_report(y_test, preds))\n",
    "#print(\"Extra Tree\")\n",
    "#print(accuracy_score(y_test, predsETC))\n",
    "#print(\"GBM\")\n",
    "#print(accuracy_score(y_test, predsGB))\n",
    "#print(\"LR\")\n",
    "#print(accuracy_score(y_test, predsLR))\n",
    "#print(\"NB\")\n",
    "#print(accuracy_score(y_test, predsGNB))"
   ]
  },
  {
   "cell_type": "code",
   "execution_count": 28,
   "metadata": {},
   "outputs": [
    {
     "name": "stdout",
     "output_type": "stream",
     "text": [
      "Random Forest\n",
      "0.6994920357033912\n"
     ]
    },
    {
     "name": "stderr",
     "output_type": "stream",
     "text": [
      "C:\\Users\\Muhammad Umer\\Anaconda3\\lib\\site-packages\\sklearn\\metrics\\classification.py:1437: UndefinedMetricWarning: Precision and F-score are ill-defined and being set to 0.0 in labels with no predicted samples.\n",
      "  'precision', 'predicted', average, warn_for)\n"
     ]
    },
    {
     "name": "stdout",
     "output_type": "stream",
     "text": [
      "              precision    recall  f1-score   support\n",
      "\n",
      "           0       0.00      0.00      0.00         3\n",
      "           1       0.53      0.55      0.54     14675\n",
      "           2       0.18      0.04      0.07      4718\n",
      "           3       0.23      0.08      0.12      9659\n",
      "           4       0.27      0.09      0.13     20584\n",
      "           5       0.76      0.94      0.84    101159\n",
      "\n",
      "    accuracy                           0.70    150798\n",
      "   macro avg       0.33      0.28      0.28    150798\n",
      "weighted avg       0.62      0.70      0.64    150798\n",
      "\n"
     ]
    }
   ],
   "source": [
    "#TF\n",
    "from sklearn.ensemble import RandomForestClassifier\n",
    "from sklearn.ensemble import GradientBoostingClassifier\n",
    "from sklearn.ensemble import ExtraTreesClassifier\n",
    "from sklearn.linear_model import LogisticRegression\n",
    "from sklearn.naive_bayes import MultinomialNB\n",
    "from sklearn.naive_bayes import BernoulliNB\n",
    "from sklearn.metrics import confusion_matrix, classification_report, accuracy_score\n",
    "rfc = RandomForestClassifier(n_estimators=10,n_jobs=-1,random_state=2)\n",
    "#etc = ExtraTreesClassifier(n_estimators=100,n_jobs=-1,random_state=2)\n",
    "#gb = GradientBoostingClassifier(n_estimators=5, learning_rate = 0.1)\n",
    "#clf= LogisticRegression()\n",
    "#gnb = BernoulliNB()\n",
    "preds = rfc.fit(X_train, y_train).predict(X_test)\n",
    "#predsGB = gb.fit(X_train, y_train).predict(X_test)\n",
    "#predsLR = clf.fit(X_train, y_train).predict(X_test)\n",
    "#predsGNB = gnb.fit(X_train, y_train).predict(X_test)\n",
    "#predsETC = etc.fit(X_train, y_train).predict(X_test)\n",
    "print(\"Random Forest\")\n",
    "print(accuracy_score(y_test, preds))\n",
    "print(classification_report(y_test, preds))\n",
    "#print(\"Extra Tree\")\n",
    "#print(accuracy_score(y_test, predsETC))\n",
    "#print(\"GBM\")\n",
    "#print(accuracy_score(y_test, predsGB))\n",
    "#print(\"LR\")\n",
    "#print(accuracy_score(y_test, predsLR))\n",
    "#print(\"NB\")\n",
    "#print(accuracy_score(y_test, predsGNB))"
   ]
  },
  {
   "cell_type": "code",
   "execution_count": 30,
   "metadata": {},
   "outputs": [
    {
     "name": "stderr",
     "output_type": "stream",
     "text": [
      "C:\\Users\\Muhammad Umer\\Anaconda3\\lib\\site-packages\\ipykernel\\__main__.py:14: DeprecationWarning: Call to deprecated `__getitem__` (Method will be removed in 4.0.0, use self.wv.__getitem__() instead).\n"
     ]
    }
   ],
   "source": [
    "from gensim.models import Word2Vec\n",
    "from sklearn import preprocessing\n",
    "lab_enc = preprocessing.LabelEncoder()\n",
    "lab_enc.fit(data['reviews'])\n",
    "data = data\n",
    "tokenized_data = data['reviews'].apply(lambda x: x.split())\n",
    "model_w2v = Word2Vec( tokenized_data, size=200, window=5, min_count=2,sg = 1, hs = 0, negative = 10, workers= 2, seed = 34)\n",
    "model_w2v.train(tokenized_data, total_examples= len(data['reviews']), epochs=20)\n",
    "def word_vector(tokens, size):\n",
    "    vec = np.zeros(size).reshape((1, size))\n",
    "    count = 0.\n",
    "    for word in tokens:\n",
    "        try:\n",
    "            vec += model_w2v[word].reshape((1, size))\n",
    "            count += 1.\n",
    "        except KeyError:\n",
    "            continue\n",
    "    if count != 0:\n",
    "        vec /= count\n",
    "        return vec\n",
    "wordvec_arrays = np.zeros((len(tokenized_data), 200))\n",
    "for i in range(len(tokenized_data)):\n",
    "    wordvec_arrays[i,:] = word_vector(tokenized_data[i], 200)\n",
    "data_feature_3 = pd.DataFrame(wordvec_arrays)\n",
    "df_tex = data_feature_3\n",
    "df_cat = data['rating']\n",
    "x_train, x_test, y_train, y_test = train_test_split(df_tex, df_cat, test_size=0.3, random_state=2, stratify=df_cat)\n",
    "y_train = y_train.astype('int')\n"
   ]
  },
  {
   "cell_type": "code",
   "execution_count": 32,
   "metadata": {},
   "outputs": [],
   "source": [
    "x_test=x_test.fillna(x_test.mean())\n",
    "x_train=x_train.fillna(x_train.mean())"
   ]
  },
  {
   "cell_type": "code",
   "execution_count": 33,
   "metadata": {},
   "outputs": [
    {
     "name": "stdout",
     "output_type": "stream",
     "text": [
      "0.6959707688430881\n"
     ]
    },
    {
     "name": "stderr",
     "output_type": "stream",
     "text": [
      "C:\\Users\\Muhammad Umer\\Anaconda3\\lib\\site-packages\\sklearn\\metrics\\classification.py:1437: UndefinedMetricWarning: Precision and F-score are ill-defined and being set to 0.0 in labels with no predicted samples.\n",
      "  'precision', 'predicted', average, warn_for)\n"
     ]
    },
    {
     "name": "stdout",
     "output_type": "stream",
     "text": [
      "              precision    recall  f1-score   support\n",
      "\n",
      "           0       0.00      0.00      0.00         2\n",
      "           1       0.54      0.34      0.41     14882\n",
      "           2       0.00      0.00      0.00      4682\n",
      "           3       0.44      0.01      0.02      9671\n",
      "           4       0.00      0.00      0.00     20526\n",
      "           5       0.71      0.99      0.82    101035\n",
      "\n",
      "    accuracy                           0.70    150798\n",
      "   macro avg       0.28      0.22      0.21    150798\n",
      "weighted avg       0.55      0.70      0.59    150798\n",
      "\n"
     ]
    }
   ],
   "source": [
    "from sklearn.ensemble import RandomForestClassifier\n",
    "from sklearn.metrics import accuracy_score,classification_report\n",
    "rfc = RandomForestClassifier(n_estimators=10, random_state=52,max_depth=10) \n",
    "predRfc=rfc.fit(x_train, y_train).predict(x_test)\n",
    "print(accuracy_score(y_test,predRfc))\n",
    "print(classification_report(y_test,predRfc))"
   ]
  },
  {
   "cell_type": "code",
   "execution_count": 34,
   "metadata": {},
   "outputs": [
    {
     "name": "stdout",
     "output_type": "stream",
     "text": [
      "0.69632223239035\n"
     ]
    },
    {
     "name": "stderr",
     "output_type": "stream",
     "text": [
      "C:\\Users\\Muhammad Umer\\Anaconda3\\lib\\site-packages\\sklearn\\metrics\\classification.py:1437: UndefinedMetricWarning: Precision and F-score are ill-defined and being set to 0.0 in labels with no predicted samples.\n",
      "  'precision', 'predicted', average, warn_for)\n"
     ]
    },
    {
     "name": "stdout",
     "output_type": "stream",
     "text": [
      "              precision    recall  f1-score   support\n",
      "\n",
      "           0       0.00      0.00      0.00         2\n",
      "           1       0.56      0.32      0.41     14882\n",
      "           2       0.00      0.00      0.00      4682\n",
      "           3       0.45      0.01      0.02      9671\n",
      "           4       0.00      0.00      0.00     20526\n",
      "           5       0.71      0.99      0.82    101035\n",
      "\n",
      "    accuracy                           0.70    150798\n",
      "   macro avg       0.29      0.22      0.21    150798\n",
      "weighted avg       0.56      0.70      0.59    150798\n",
      "\n"
     ]
    }
   ],
   "source": [
    "from sklearn.ensemble import RandomForestClassifier\n",
    "from sklearn.metrics import accuracy_score,classification_report\n",
    "rfc = RandomForestClassifier(n_estimators=100, random_state=52,max_depth=10) \n",
    "predRfc=rfc.fit(x_train, y_train).predict(x_test)\n",
    "print(accuracy_score(y_test,predRfc))\n",
    "print(classification_report(y_test,predRfc))"
   ]
  },
  {
   "cell_type": "code",
   "execution_count": null,
   "metadata": {},
   "outputs": [],
   "source": [
    "predictions=gb.predict(testData)"
   ]
  },
  {
   "cell_type": "code",
   "execution_count": 95,
   "metadata": {},
   "outputs": [
    {
     "name": "stdout",
     "output_type": "stream",
     "text": [
      "4.822544642857143\n"
     ]
    }
   ],
   "source": [
    "print(sum(predictions)/len(predictions))"
   ]
  },
  {
   "cell_type": "code",
   "execution_count": 97,
   "metadata": {},
   "outputs": [
    {
     "ename": "ValueError",
     "evalue": "Found input variables with inconsistent numbers of samples: [12716, 4480]",
     "output_type": "error",
     "traceback": [
      "\u001b[1;31m---------------------------------------------------------------------------\u001b[0m",
      "\u001b[1;31mValueError\u001b[0m                                Traceback (most recent call last)",
      "\u001b[1;32m<ipython-input-97-6feda6a90093>\u001b[0m in \u001b[0;36m<module>\u001b[1;34m()\u001b[0m\n\u001b[0;32m      1\u001b[0m \u001b[1;32mfrom\u001b[0m \u001b[0msklearn\u001b[0m\u001b[1;33m.\u001b[0m\u001b[0mmetrics\u001b[0m \u001b[1;32mimport\u001b[0m \u001b[0mconfusion_matrix\u001b[0m\u001b[1;33m\u001b[0m\u001b[0m\n\u001b[1;32m----> 2\u001b[1;33m \u001b[0mconfusion_matrix\u001b[0m\u001b[1;33m(\u001b[0m\u001b[0my_test\u001b[0m\u001b[1;33m,\u001b[0m \u001b[0mpredictions\u001b[0m\u001b[1;33m)\u001b[0m\u001b[1;33m\u001b[0m\u001b[0m\n\u001b[0m",
      "\u001b[1;32m~\\Anaconda3\\lib\\site-packages\\sklearn\\metrics\\classification.py\u001b[0m in \u001b[0;36mconfusion_matrix\u001b[1;34m(y_true, y_pred, labels, sample_weight)\u001b[0m\n\u001b[0;32m    251\u001b[0m \u001b[1;33m\u001b[0m\u001b[0m\n\u001b[0;32m    252\u001b[0m     \"\"\"\n\u001b[1;32m--> 253\u001b[1;33m     \u001b[0my_type\u001b[0m\u001b[1;33m,\u001b[0m \u001b[0my_true\u001b[0m\u001b[1;33m,\u001b[0m \u001b[0my_pred\u001b[0m \u001b[1;33m=\u001b[0m \u001b[0m_check_targets\u001b[0m\u001b[1;33m(\u001b[0m\u001b[0my_true\u001b[0m\u001b[1;33m,\u001b[0m \u001b[0my_pred\u001b[0m\u001b[1;33m)\u001b[0m\u001b[1;33m\u001b[0m\u001b[0m\n\u001b[0m\u001b[0;32m    254\u001b[0m     \u001b[1;32mif\u001b[0m \u001b[0my_type\u001b[0m \u001b[1;32mnot\u001b[0m \u001b[1;32min\u001b[0m \u001b[1;33m(\u001b[0m\u001b[1;34m\"binary\"\u001b[0m\u001b[1;33m,\u001b[0m \u001b[1;34m\"multiclass\"\u001b[0m\u001b[1;33m)\u001b[0m\u001b[1;33m:\u001b[0m\u001b[1;33m\u001b[0m\u001b[0m\n\u001b[0;32m    255\u001b[0m         \u001b[1;32mraise\u001b[0m \u001b[0mValueError\u001b[0m\u001b[1;33m(\u001b[0m\u001b[1;34m\"%s is not supported\"\u001b[0m \u001b[1;33m%\u001b[0m \u001b[0my_type\u001b[0m\u001b[1;33m)\u001b[0m\u001b[1;33m\u001b[0m\u001b[0m\n",
      "\u001b[1;32m~\\Anaconda3\\lib\\site-packages\\sklearn\\metrics\\classification.py\u001b[0m in \u001b[0;36m_check_targets\u001b[1;34m(y_true, y_pred)\u001b[0m\n\u001b[0;32m     69\u001b[0m     \u001b[0my_pred\u001b[0m \u001b[1;33m:\u001b[0m \u001b[0marray\u001b[0m \u001b[1;32mor\u001b[0m \u001b[0mindicator\u001b[0m \u001b[0mmatrix\u001b[0m\u001b[1;33m\u001b[0m\u001b[0m\n\u001b[0;32m     70\u001b[0m     \"\"\"\n\u001b[1;32m---> 71\u001b[1;33m     \u001b[0mcheck_consistent_length\u001b[0m\u001b[1;33m(\u001b[0m\u001b[0my_true\u001b[0m\u001b[1;33m,\u001b[0m \u001b[0my_pred\u001b[0m\u001b[1;33m)\u001b[0m\u001b[1;33m\u001b[0m\u001b[0m\n\u001b[0m\u001b[0;32m     72\u001b[0m     \u001b[0mtype_true\u001b[0m \u001b[1;33m=\u001b[0m \u001b[0mtype_of_target\u001b[0m\u001b[1;33m(\u001b[0m\u001b[0my_true\u001b[0m\u001b[1;33m)\u001b[0m\u001b[1;33m\u001b[0m\u001b[0m\n\u001b[0;32m     73\u001b[0m     \u001b[0mtype_pred\u001b[0m \u001b[1;33m=\u001b[0m \u001b[0mtype_of_target\u001b[0m\u001b[1;33m(\u001b[0m\u001b[0my_pred\u001b[0m\u001b[1;33m)\u001b[0m\u001b[1;33m\u001b[0m\u001b[0m\n",
      "\u001b[1;32m~\\Anaconda3\\lib\\site-packages\\sklearn\\utils\\validation.py\u001b[0m in \u001b[0;36mcheck_consistent_length\u001b[1;34m(*arrays)\u001b[0m\n\u001b[0;32m    228\u001b[0m     \u001b[1;32mif\u001b[0m \u001b[0mlen\u001b[0m\u001b[1;33m(\u001b[0m\u001b[0muniques\u001b[0m\u001b[1;33m)\u001b[0m \u001b[1;33m>\u001b[0m \u001b[1;36m1\u001b[0m\u001b[1;33m:\u001b[0m\u001b[1;33m\u001b[0m\u001b[0m\n\u001b[0;32m    229\u001b[0m         raise ValueError(\"Found input variables with inconsistent numbers of\"\n\u001b[1;32m--> 230\u001b[1;33m                          \" samples: %r\" % [int(l) for l in lengths])\n\u001b[0m\u001b[0;32m    231\u001b[0m \u001b[1;33m\u001b[0m\u001b[0m\n\u001b[0;32m    232\u001b[0m \u001b[1;33m\u001b[0m\u001b[0m\n",
      "\u001b[1;31mValueError\u001b[0m: Found input variables with inconsistent numbers of samples: [12716, 4480]"
     ]
    }
   ],
   "source": [
    "from sklearn.metrics import confusion_matrix\n",
    "confusion_matrix(y_test, predictions)\n"
   ]
  },
  {
   "cell_type": "code",
   "execution_count": 77,
   "metadata": {},
   "outputs": [],
   "source": [
    "testData=vectorizer.transform(TEXTfinal)"
   ]
  },
  {
   "cell_type": "code",
   "execution_count": 75,
   "metadata": {},
   "outputs": [],
   "source": [
    "RacingText=[]\n",
    "for i in range(len(data)):\n",
    "    if data['app_id'][i]=='com.ffgames.racingincar2':\n",
    "        RacingText.append(data['reviews'][i])"
   ]
  },
  {
   "cell_type": "code",
   "execution_count": 76,
   "metadata": {},
   "outputs": [],
   "source": [
    "# using the variable sw to hold all stopwords that are in English\n",
    "sw = stopwords.words('english')\n",
    "TEXTfinal=[]\n",
    "for i in range(len(RacingText)):\n",
    "    review = re.sub('[^a-zA-Z]', ' ',RacingText[i])\n",
    "    review = re.sub('[/(){}\\[\\]\\|@!,;]', ' ',RacingText[i])\n",
    "    review = re.sub('[^0-9a-zA-Z #+_♥️]', ' ',RacingText[i])#Remove bad symbols\n",
    "    review = re.sub(r'\\d+', '',review)\n",
    "    review = review.lower()\n",
    "    review = review.split()\n",
    "\n",
    "    review = [token for token in review if token not in sw]\n",
    "    review=' '.join(review)\n",
    "    TEXTfinal.append(review)"
   ]
  },
  {
   "cell_type": "code",
   "execution_count": 14,
   "metadata": {},
   "outputs": [
    {
     "data": {
      "text/plain": [
       "'longer fan racing game one addictive beautiful race maps graphics baam boom shoot racing kart game made laugh fun worthy five star gave coz trust'"
      ]
     },
     "execution_count": 14,
     "metadata": {},
     "output_type": "execute_result"
    }
   ],
   "source": [
    "TEXTfinal[1]"
   ]
  },
  {
   "cell_type": "code",
   "execution_count": 11,
   "metadata": {},
   "outputs": [
    {
     "name": "stdout",
     "output_type": "stream",
     "text": [
      "LR Bi-gram\n",
      "0.6976153529887664\n"
     ]
    }
   ],
   "source": [
    "from sklearn.ensemble import RandomForestClassifier\n",
    "from sklearn.ensemble import GradientBoostingClassifier\n",
    "from sklearn.ensemble import ExtraTreesClassifier\n",
    "from sklearn.linear_model import LogisticRegression\n",
    "from sklearn.naive_bayes import MultinomialNB\n",
    "from sklearn.naive_bayes import BernoulliNB\n",
    "from sklearn.metrics import confusion_matrix, classification_report, accuracy_score\n",
    "#rfc = RandomForestClassifier(n_estimators=100,n_jobs=-1,random_state=2)\n",
    "#etc = ExtraTreesClassifier(n_estimators=100,n_jobs=-1,random_state=2)\n",
    "#gb = GradientBoostingClassifier(n_estimators=100, learning_rate = 0.1,random_state=2)\n",
    "clf= LogisticRegression()\n",
    "#gnb = BernoulliNB()\n",
    "#preds = rfc.fit(X_train, y_train).predict(X_test)\n",
    "#predsGB = gb.fit(X_train, y_train).predict(X_test)\n",
    "predsLR = clf.fit(X_train, y_train).predict(X_test)\n",
    "#predsGNB = gnb.fit(X_train, y_train).predict(X_test)\n",
    "#predsETC = etc.fit(X_train, y_train).predict(X_test)\n",
    "#print(\"Random Forest\")\n",
    "#print(accuracy_score(y_test, preds))\n",
    "#print(\"Extra Tree\")\n",
    "#print(accuracy_score(y_test, predsETC))\n",
    "#print(\"GBM\")\n",
    "#print(accuracy_score(y_test, predsGB))\n",
    "print(\"LR Bi-gram\")\n",
    "print(accuracy_score(y_test, predsLR))\n",
    "#print(\"NB\")\n",
    "#print(accuracy_score(y_test, predsGNB))\n"
   ]
  },
  {
   "cell_type": "code",
   "execution_count": 14,
   "metadata": {},
   "outputs": [
    {
     "name": "stdout",
     "output_type": "stream",
     "text": [
      "LR Bi-gram\n",
      "0.6758113502831603\n"
     ]
    }
   ],
   "source": [
    "from sklearn.ensemble import RandomForestClassifier\n",
    "from sklearn.ensemble import GradientBoostingClassifier\n",
    "from sklearn.ensemble import ExtraTreesClassifier\n",
    "from sklearn.linear_model import LogisticRegression\n",
    "from sklearn.naive_bayes import MultinomialNB\n",
    "from sklearn.naive_bayes import BernoulliNB\n",
    "from sklearn.metrics import confusion_matrix, classification_report, accuracy_score\n",
    "#rfc = RandomForestClassifier(n_estimators=100,n_jobs=-1,random_state=2)\n",
    "#etc = ExtraTreesClassifier(n_estimators=100,n_jobs=-1,random_state=2)\n",
    "#gb = GradientBoostingClassifier(n_estimators=100, learning_rate = 0.1,random_state=2)\n",
    "clf= LogisticRegression()\n",
    "#gnb = BernoulliNB()\n",
    "#preds = rfc.fit(X_train, y_train).predict(X_test)\n",
    "#predsGB = gb.fit(X_train, y_train).predict(X_test)\n",
    "predsLR = clf.fit(X_train, y_train).predict(X_test)\n",
    "#predsGNB = gnb.fit(X_train, y_train).predict(X_test)\n",
    "#predsETC = etc.fit(X_train, y_train).predict(X_test)\n",
    "#print(\"Random Forest\")\n",
    "#print(accuracy_score(y_test, preds))\n",
    "#print(\"Extra Tree\")\n",
    "#print(accuracy_score(y_test, predsETC))\n",
    "#print(\"GBM\")\n",
    "#print(accuracy_score(y_test, predsGB))\n",
    "print(\"LR Bi-gram\")\n",
    "print(accuracy_score(y_test, predsLR))\n",
    "#print(\"NB\")\n",
    "#print(accuracy_score(y_test, predsGNB))\n"
   ]
  },
  {
   "cell_type": "code",
   "execution_count": 8,
   "metadata": {},
   "outputs": [
    {
     "name": "stdout",
     "output_type": "stream",
     "text": [
      "Extra Tree\n",
      "0.7139550922426027\n"
     ]
    }
   ],
   "source": [
    "from sklearn.ensemble import RandomForestClassifier\n",
    "from sklearn.ensemble import GradientBoostingClassifier\n",
    "from sklearn.ensemble import ExtraTreesClassifier\n",
    "from sklearn.linear_model import LogisticRegression\n",
    "from sklearn.naive_bayes import MultinomialNB\n",
    "from sklearn.naive_bayes import BernoulliNB\n",
    "from sklearn.metrics import confusion_matrix, classification_report, accuracy_score\n",
    "#rfc = RandomForestClassifier(n_estimators=100,n_jobs=-1,random_state=2)\n",
    "etc = ExtraTreesClassifier(n_estimators=100,n_jobs=-1,random_state=2)\n",
    "#gb = GradientBoostingClassifier(n_estimators=100, learning_rate = 0.1,random_state=2)\n",
    "#clf= LogisticRegression()\n",
    "#gnb = BernoulliNB()\n",
    "#preds = rfc.fit(X_train, y_train).predict(X_test)\n",
    "#predsGB = gb.fit(X_train, y_train).predict(X_test)\n",
    "#predsLR = clf.fit(X_train, y_train).predict(X_test)\n",
    "#predsGNB = gnb.fit(X_train, y_train).predict(X_test)\n",
    "predsETC = etc.fit(X_train, y_train).predict(X_test)\n",
    "#print(\"Random Forest\")\n",
    "#print(accuracy_score(y_test, preds))\n",
    "print(\"Extra Tree\")\n",
    "print(accuracy_score(y_test, predsETC))\n",
    "#print(\"GBM\")\n",
    "#print(accuracy_score(y_test, predsGB))\n",
    "#print(\"LR\")\n",
    "#print(accuracy_score(y_test, predsLR))\n",
    "#print(\"NB\")\n",
    "#print(accuracy_score(y_test, predsGNB))\n"
   ]
  },
  {
   "cell_type": "code",
   "execution_count": 16,
   "metadata": {},
   "outputs": [
    {
     "ename": "KeyboardInterrupt",
     "evalue": "",
     "output_type": "error",
     "traceback": [
      "\u001b[0;31m---------------------------------------------------------------------------\u001b[0m",
      "\u001b[0;31mKeyboardInterrupt\u001b[0m                         Traceback (most recent call last)",
      "\u001b[0;32m<ipython-input-16-84a7c8f40f87>\u001b[0m in \u001b[0;36m<module>\u001b[0;34m()\u001b[0m\n\u001b[1;32m     15\u001b[0m \u001b[1;31m#predsLR = clf.fit(X_train, y_train).predict(X_test)\u001b[0m\u001b[1;33m\u001b[0m\u001b[1;33m\u001b[0m\u001b[0m\n\u001b[1;32m     16\u001b[0m \u001b[1;31m#predsGNB = gnb.fit(X_train, y_train).predict(X_test)\u001b[0m\u001b[1;33m\u001b[0m\u001b[1;33m\u001b[0m\u001b[0m\n\u001b[0;32m---> 17\u001b[0;31m \u001b[0mpredsETC\u001b[0m \u001b[1;33m=\u001b[0m \u001b[0metc\u001b[0m\u001b[1;33m.\u001b[0m\u001b[0mfit\u001b[0m\u001b[1;33m(\u001b[0m\u001b[0mX_train\u001b[0m\u001b[1;33m,\u001b[0m \u001b[0my_train\u001b[0m\u001b[1;33m)\u001b[0m\u001b[1;33m.\u001b[0m\u001b[0mpredict\u001b[0m\u001b[1;33m(\u001b[0m\u001b[0mX_test\u001b[0m\u001b[1;33m)\u001b[0m\u001b[1;33m\u001b[0m\u001b[0m\n\u001b[0m\u001b[1;32m     18\u001b[0m \u001b[1;31m#print(\"Random Forest\")\u001b[0m\u001b[1;33m\u001b[0m\u001b[1;33m\u001b[0m\u001b[0m\n\u001b[1;32m     19\u001b[0m \u001b[1;31m#print(accuracy_score(y_test, preds))\u001b[0m\u001b[1;33m\u001b[0m\u001b[1;33m\u001b[0m\u001b[0m\n",
      "\u001b[0;32mC:\\Users\\Muhammad Umer\\Anaconda3\\lib\\site-packages\\sklearn\\ensemble\\forest.py\u001b[0m in \u001b[0;36mfit\u001b[0;34m(self, X, y, sample_weight)\u001b[0m\n\u001b[1;32m    325\u001b[0m                     \u001b[0mt\u001b[0m\u001b[1;33m,\u001b[0m \u001b[0mself\u001b[0m\u001b[1;33m,\u001b[0m \u001b[0mX\u001b[0m\u001b[1;33m,\u001b[0m \u001b[0my\u001b[0m\u001b[1;33m,\u001b[0m \u001b[0msample_weight\u001b[0m\u001b[1;33m,\u001b[0m \u001b[0mi\u001b[0m\u001b[1;33m,\u001b[0m \u001b[0mlen\u001b[0m\u001b[1;33m(\u001b[0m\u001b[0mtrees\u001b[0m\u001b[1;33m)\u001b[0m\u001b[1;33m,\u001b[0m\u001b[1;33m\u001b[0m\u001b[0m\n\u001b[1;32m    326\u001b[0m                     verbose=self.verbose, class_weight=self.class_weight)\n\u001b[0;32m--> 327\u001b[0;31m                 for i, t in enumerate(trees))\n\u001b[0m\u001b[1;32m    328\u001b[0m \u001b[1;33m\u001b[0m\u001b[0m\n\u001b[1;32m    329\u001b[0m             \u001b[1;31m# Collect newly grown trees\u001b[0m\u001b[1;33m\u001b[0m\u001b[1;33m\u001b[0m\u001b[0m\n",
      "\u001b[0;32mC:\\Users\\Muhammad Umer\\Anaconda3\\lib\\site-packages\\sklearn\\externals\\joblib\\parallel.py\u001b[0m in \u001b[0;36m__call__\u001b[0;34m(self, iterable)\u001b[0m\n\u001b[1;32m    787\u001b[0m                 \u001b[1;31m# consumption.\u001b[0m\u001b[1;33m\u001b[0m\u001b[1;33m\u001b[0m\u001b[0m\n\u001b[1;32m    788\u001b[0m                 \u001b[0mself\u001b[0m\u001b[1;33m.\u001b[0m\u001b[0m_iterating\u001b[0m \u001b[1;33m=\u001b[0m \u001b[1;32mFalse\u001b[0m\u001b[1;33m\u001b[0m\u001b[0m\n\u001b[0;32m--> 789\u001b[0;31m             \u001b[0mself\u001b[0m\u001b[1;33m.\u001b[0m\u001b[0mretrieve\u001b[0m\u001b[1;33m(\u001b[0m\u001b[1;33m)\u001b[0m\u001b[1;33m\u001b[0m\u001b[0m\n\u001b[0m\u001b[1;32m    790\u001b[0m             \u001b[1;31m# Make sure that we get a last message telling us we are done\u001b[0m\u001b[1;33m\u001b[0m\u001b[1;33m\u001b[0m\u001b[0m\n\u001b[1;32m    791\u001b[0m             \u001b[0melapsed_time\u001b[0m \u001b[1;33m=\u001b[0m \u001b[0mtime\u001b[0m\u001b[1;33m.\u001b[0m\u001b[0mtime\u001b[0m\u001b[1;33m(\u001b[0m\u001b[1;33m)\u001b[0m \u001b[1;33m-\u001b[0m \u001b[0mself\u001b[0m\u001b[1;33m.\u001b[0m\u001b[0m_start_time\u001b[0m\u001b[1;33m\u001b[0m\u001b[0m\n",
      "\u001b[0;32mC:\\Users\\Muhammad Umer\\Anaconda3\\lib\\site-packages\\sklearn\\externals\\joblib\\parallel.py\u001b[0m in \u001b[0;36mretrieve\u001b[0;34m(self)\u001b[0m\n\u001b[1;32m    697\u001b[0m             \u001b[1;32mtry\u001b[0m\u001b[1;33m:\u001b[0m\u001b[1;33m\u001b[0m\u001b[0m\n\u001b[1;32m    698\u001b[0m                 \u001b[1;32mif\u001b[0m \u001b[0mgetattr\u001b[0m\u001b[1;33m(\u001b[0m\u001b[0mself\u001b[0m\u001b[1;33m.\u001b[0m\u001b[0m_backend\u001b[0m\u001b[1;33m,\u001b[0m \u001b[1;34m'supports_timeout'\u001b[0m\u001b[1;33m,\u001b[0m \u001b[1;32mFalse\u001b[0m\u001b[1;33m)\u001b[0m\u001b[1;33m:\u001b[0m\u001b[1;33m\u001b[0m\u001b[0m\n\u001b[0;32m--> 699\u001b[0;31m                     \u001b[0mself\u001b[0m\u001b[1;33m.\u001b[0m\u001b[0m_output\u001b[0m\u001b[1;33m.\u001b[0m\u001b[0mextend\u001b[0m\u001b[1;33m(\u001b[0m\u001b[0mjob\u001b[0m\u001b[1;33m.\u001b[0m\u001b[0mget\u001b[0m\u001b[1;33m(\u001b[0m\u001b[0mtimeout\u001b[0m\u001b[1;33m=\u001b[0m\u001b[0mself\u001b[0m\u001b[1;33m.\u001b[0m\u001b[0mtimeout\u001b[0m\u001b[1;33m)\u001b[0m\u001b[1;33m)\u001b[0m\u001b[1;33m\u001b[0m\u001b[0m\n\u001b[0m\u001b[1;32m    700\u001b[0m                 \u001b[1;32melse\u001b[0m\u001b[1;33m:\u001b[0m\u001b[1;33m\u001b[0m\u001b[0m\n\u001b[1;32m    701\u001b[0m                     \u001b[0mself\u001b[0m\u001b[1;33m.\u001b[0m\u001b[0m_output\u001b[0m\u001b[1;33m.\u001b[0m\u001b[0mextend\u001b[0m\u001b[1;33m(\u001b[0m\u001b[0mjob\u001b[0m\u001b[1;33m.\u001b[0m\u001b[0mget\u001b[0m\u001b[1;33m(\u001b[0m\u001b[1;33m)\u001b[0m\u001b[1;33m)\u001b[0m\u001b[1;33m\u001b[0m\u001b[0m\n",
      "\u001b[0;32mC:\\Users\\Muhammad Umer\\Anaconda3\\lib\\multiprocessing\\pool.py\u001b[0m in \u001b[0;36mget\u001b[0;34m(self, timeout)\u001b[0m\n\u001b[1;32m    636\u001b[0m \u001b[1;33m\u001b[0m\u001b[0m\n\u001b[1;32m    637\u001b[0m     \u001b[1;32mdef\u001b[0m \u001b[0mget\u001b[0m\u001b[1;33m(\u001b[0m\u001b[0mself\u001b[0m\u001b[1;33m,\u001b[0m \u001b[0mtimeout\u001b[0m\u001b[1;33m=\u001b[0m\u001b[1;32mNone\u001b[0m\u001b[1;33m)\u001b[0m\u001b[1;33m:\u001b[0m\u001b[1;33m\u001b[0m\u001b[0m\n\u001b[0;32m--> 638\u001b[0;31m         \u001b[0mself\u001b[0m\u001b[1;33m.\u001b[0m\u001b[0mwait\u001b[0m\u001b[1;33m(\u001b[0m\u001b[0mtimeout\u001b[0m\u001b[1;33m)\u001b[0m\u001b[1;33m\u001b[0m\u001b[0m\n\u001b[0m\u001b[1;32m    639\u001b[0m         \u001b[1;32mif\u001b[0m \u001b[1;32mnot\u001b[0m \u001b[0mself\u001b[0m\u001b[1;33m.\u001b[0m\u001b[0mready\u001b[0m\u001b[1;33m(\u001b[0m\u001b[1;33m)\u001b[0m\u001b[1;33m:\u001b[0m\u001b[1;33m\u001b[0m\u001b[0m\n\u001b[1;32m    640\u001b[0m             \u001b[1;32mraise\u001b[0m \u001b[0mTimeoutError\u001b[0m\u001b[1;33m\u001b[0m\u001b[0m\n",
      "\u001b[0;32mC:\\Users\\Muhammad Umer\\Anaconda3\\lib\\multiprocessing\\pool.py\u001b[0m in \u001b[0;36mwait\u001b[0;34m(self, timeout)\u001b[0m\n\u001b[1;32m    633\u001b[0m \u001b[1;33m\u001b[0m\u001b[0m\n\u001b[1;32m    634\u001b[0m     \u001b[1;32mdef\u001b[0m \u001b[0mwait\u001b[0m\u001b[1;33m(\u001b[0m\u001b[0mself\u001b[0m\u001b[1;33m,\u001b[0m \u001b[0mtimeout\u001b[0m\u001b[1;33m=\u001b[0m\u001b[1;32mNone\u001b[0m\u001b[1;33m)\u001b[0m\u001b[1;33m:\u001b[0m\u001b[1;33m\u001b[0m\u001b[0m\n\u001b[0;32m--> 635\u001b[0;31m         \u001b[0mself\u001b[0m\u001b[1;33m.\u001b[0m\u001b[0m_event\u001b[0m\u001b[1;33m.\u001b[0m\u001b[0mwait\u001b[0m\u001b[1;33m(\u001b[0m\u001b[0mtimeout\u001b[0m\u001b[1;33m)\u001b[0m\u001b[1;33m\u001b[0m\u001b[0m\n\u001b[0m\u001b[1;32m    636\u001b[0m \u001b[1;33m\u001b[0m\u001b[0m\n\u001b[1;32m    637\u001b[0m     \u001b[1;32mdef\u001b[0m \u001b[0mget\u001b[0m\u001b[1;33m(\u001b[0m\u001b[0mself\u001b[0m\u001b[1;33m,\u001b[0m \u001b[0mtimeout\u001b[0m\u001b[1;33m=\u001b[0m\u001b[1;32mNone\u001b[0m\u001b[1;33m)\u001b[0m\u001b[1;33m:\u001b[0m\u001b[1;33m\u001b[0m\u001b[0m\n",
      "\u001b[0;32mC:\\Users\\Muhammad Umer\\Anaconda3\\lib\\threading.py\u001b[0m in \u001b[0;36mwait\u001b[0;34m(self, timeout)\u001b[0m\n\u001b[1;32m    547\u001b[0m             \u001b[0msignaled\u001b[0m \u001b[1;33m=\u001b[0m \u001b[0mself\u001b[0m\u001b[1;33m.\u001b[0m\u001b[0m_flag\u001b[0m\u001b[1;33m\u001b[0m\u001b[0m\n\u001b[1;32m    548\u001b[0m             \u001b[1;32mif\u001b[0m \u001b[1;32mnot\u001b[0m \u001b[0msignaled\u001b[0m\u001b[1;33m:\u001b[0m\u001b[1;33m\u001b[0m\u001b[0m\n\u001b[0;32m--> 549\u001b[0;31m                 \u001b[0msignaled\u001b[0m \u001b[1;33m=\u001b[0m \u001b[0mself\u001b[0m\u001b[1;33m.\u001b[0m\u001b[0m_cond\u001b[0m\u001b[1;33m.\u001b[0m\u001b[0mwait\u001b[0m\u001b[1;33m(\u001b[0m\u001b[0mtimeout\u001b[0m\u001b[1;33m)\u001b[0m\u001b[1;33m\u001b[0m\u001b[0m\n\u001b[0m\u001b[1;32m    550\u001b[0m             \u001b[1;32mreturn\u001b[0m \u001b[0msignaled\u001b[0m\u001b[1;33m\u001b[0m\u001b[0m\n\u001b[1;32m    551\u001b[0m \u001b[1;33m\u001b[0m\u001b[0m\n",
      "\u001b[0;32mC:\\Users\\Muhammad Umer\\Anaconda3\\lib\\threading.py\u001b[0m in \u001b[0;36mwait\u001b[0;34m(self, timeout)\u001b[0m\n\u001b[1;32m    291\u001b[0m         \u001b[1;32mtry\u001b[0m\u001b[1;33m:\u001b[0m    \u001b[1;31m# restore state no matter what (e.g., KeyboardInterrupt)\u001b[0m\u001b[1;33m\u001b[0m\u001b[0m\n\u001b[1;32m    292\u001b[0m             \u001b[1;32mif\u001b[0m \u001b[0mtimeout\u001b[0m \u001b[1;32mis\u001b[0m \u001b[1;32mNone\u001b[0m\u001b[1;33m:\u001b[0m\u001b[1;33m\u001b[0m\u001b[0m\n\u001b[0;32m--> 293\u001b[0;31m                 \u001b[0mwaiter\u001b[0m\u001b[1;33m.\u001b[0m\u001b[0macquire\u001b[0m\u001b[1;33m(\u001b[0m\u001b[1;33m)\u001b[0m\u001b[1;33m\u001b[0m\u001b[0m\n\u001b[0m\u001b[1;32m    294\u001b[0m                 \u001b[0mgotit\u001b[0m \u001b[1;33m=\u001b[0m \u001b[1;32mTrue\u001b[0m\u001b[1;33m\u001b[0m\u001b[0m\n\u001b[1;32m    295\u001b[0m             \u001b[1;32melse\u001b[0m\u001b[1;33m:\u001b[0m\u001b[1;33m\u001b[0m\u001b[0m\n",
      "\u001b[0;31mKeyboardInterrupt\u001b[0m: "
     ]
    }
   ],
   "source": [
    "from sklearn.ensemble import RandomForestClassifier\n",
    "from sklearn.ensemble import GradientBoostingClassifier\n",
    "from sklearn.ensemble import ExtraTreesClassifier\n",
    "from sklearn.linear_model import LogisticRegression\n",
    "from sklearn.naive_bayes import MultinomialNB\n",
    "from sklearn.naive_bayes import BernoulliNB\n",
    "from sklearn.metrics import confusion_matrix, classification_report, accuracy_score\n",
    "#rfc = RandomForestClassifier(n_estimators=100,n_jobs=-1,random_state=2)\n",
    "etc = ExtraTreesClassifier(n_estimators=100,n_jobs=-1,random_state=2)\n",
    "#gb = GradientBoostingClassifier(n_estimators=100, learning_rate = 0.1,random_state=2)\n",
    "#clf= LogisticRegression()\n",
    "#gnb = BernoulliNB()\n",
    "#preds = rfc.fit(X_train, y_train).predict(X_test)\n",
    "#predsGB = gb.fit(X_train, y_train).predict(X_test)\n",
    "#predsLR = clf.fit(X_train, y_train).predict(X_test)\n",
    "#predsGNB = gnb.fit(X_train, y_train).predict(X_test)\n",
    "predsETC = etc.fit(X_train, y_train).predict(X_test)\n",
    "#print(\"Random Forest\")\n",
    "#print(accuracy_score(y_test, preds))\n",
    "print(\"Extra Tree Tri-gram\")\n",
    "print(accuracy_score(y_test, predsETC))\n",
    "#print(\"GBM\")\n",
    "#print(accuracy_score(y_test, predsGB))\n",
    "#print(\"LR\")\n",
    "#print(accuracy_score(y_test, predsLR))\n",
    "#print(\"NB\")\n",
    "#print(accuracy_score(y_test, predsGNB))\n"
   ]
  },
  {
   "cell_type": "code",
   "execution_count": null,
   "metadata": {
    "collapsed": true
   },
   "outputs": [],
   "source": [
    "from sklearn.ensemble import RandomForestClassifier\n",
    "from sklearn.ensemble import GradientBoostingClassifier\n",
    "from sklearn.ensemble import ExtraTreesClassifier\n",
    "from sklearn.linear_model import LogisticRegression\n",
    "from sklearn.naive_bayes import MultinomialNB\n",
    "from sklearn.naive_bayes import BernoulliNB\n",
    "from sklearn.metrics import confusion_matrix, classification_report, accuracy_score\n",
    "#rfc = RandomForestClassifier(n_estimators=100,n_jobs=-1,random_state=2)\n",
    "etc = ExtraTreesClassifier(n_estimators=100,n_jobs=-1,random_state=2)\n",
    "#gb = GradientBoostingClassifier(n_estimators=100, learning_rate = 0.1,random_state=2)\n",
    "#clf= LogisticRegression()\n",
    "#gnb = BernoulliNB()\n",
    "#preds = rfc.fit(X_train, y_train).predict(X_test)\n",
    "#predsGB = gb.fit(X_train, y_train).predict(X_test)\n",
    "#predsLR = clf.fit(X_train, y_train).predict(X_test)\n",
    "#predsGNB = gnb.fit(X_train, y_train).predict(X_test)\n",
    "predsETC = etc.fit(X_train, y_train).predict(X_test)\n",
    "#print(\"Random Forest\")\n",
    "#print(accuracy_score(y_test, preds))\n",
    "print(\"Extra Tree Bi-gram\")\n",
    "print(accuracy_score(y_test, predsETC))\n",
    "#print(\"GBM\")\n",
    "#print(accuracy_score(y_test, predsGB))\n",
    "#print(\"LR\")\n",
    "#print(accuracy_score(y_test, predsLR))\n",
    "#print(\"NB\")\n",
    "#print(accuracy_score(y_test, predsGNB))\n"
   ]
  },
  {
   "cell_type": "code",
   "execution_count": 9,
   "metadata": {},
   "outputs": [
    {
     "name": "stdout",
     "output_type": "stream",
     "text": [
      "NB\n",
      "0.7054868101698961\n"
     ]
    }
   ],
   "source": [
    "from sklearn.ensemble import RandomForestClassifier\n",
    "from sklearn.ensemble import GradientBoostingClassifier\n",
    "from sklearn.ensemble import ExtraTreesClassifier\n",
    "from sklearn.linear_model import LogisticRegression\n",
    "from sklearn.naive_bayes import MultinomialNB\n",
    "from sklearn.naive_bayes import BernoulliNB\n",
    "from sklearn.metrics import confusion_matrix, classification_report, accuracy_score\n",
    "#rfc = RandomForestClassifier(n_estimators=100,n_jobs=-1,random_state=2)\n",
    "#etc = ExtraTreesClassifier(n_estimators=100,n_jobs=-1,random_state=2)\n",
    "#gb = GradientBoostingClassifier(n_estimators=100, learning_rate = 0.1,random_state=2)\n",
    "#clf= LogisticRegression()\n",
    "gnb = MultinomialNB()\n",
    "#preds = rfc.fit(X_train, y_train).predict(X_test)\n",
    "#predsGB = gb.fit(X_train, y_train).predict(X_test)\n",
    "#predsLR = clf.fit(X_train, y_train).predict(X_test)\n",
    "predsGNB = gnb.fit(X_train, y_train).predict(X_test)\n",
    "#predsETC = etc.fit(X_train, y_train).predict(X_test)\n",
    "#print(\"Random Forest\")\n",
    "#print(accuracy_score(y_test, preds))\n",
    "#print(\"Extra Tree\")\n",
    "#print(accuracy_score(y_test, predsETC))\n",
    "#print(\"GBM\")\n",
    "#print(accuracy_score(y_test, predsGB))\n",
    "#print(\"LR\")\n",
    "#print(accuracy_score(y_test, predsLR))\n",
    "print(\"NB\")\n",
    "print(accuracy_score(y_test, predsGNB))\n"
   ]
  },
  {
   "cell_type": "code",
   "execution_count": 12,
   "metadata": {},
   "outputs": [
    {
     "name": "stdout",
     "output_type": "stream",
     "text": [
      "NB Bi-gram\n",
      "0.6796973434660937\n"
     ]
    }
   ],
   "source": [
    "from sklearn.ensemble import RandomForestClassifier\n",
    "from sklearn.ensemble import GradientBoostingClassifier\n",
    "from sklearn.ensemble import ExtraTreesClassifier\n",
    "from sklearn.linear_model import LogisticRegression\n",
    "from sklearn.naive_bayes import MultinomialNB\n",
    "from sklearn.naive_bayes import BernoulliNB\n",
    "from sklearn.metrics import confusion_matrix, classification_report, accuracy_score\n",
    "#rfc = RandomForestClassifier(n_estimators=100,n_jobs=-1,random_state=2)\n",
    "#etc = ExtraTreesClassifier(n_estimators=100,n_jobs=-1,random_state=2)\n",
    "#gb = GradientBoostingClassifier(n_estimators=100, learning_rate = 0.1,random_state=2)\n",
    "#clf= LogisticRegression()\n",
    "gnb = MultinomialNB()\n",
    "#preds = rfc.fit(X_train, y_train).predict(X_test)\n",
    "#predsGB = gb.fit(X_train, y_train).predict(X_test)\n",
    "#predsLR = clf.fit(X_train, y_train).predict(X_test)\n",
    "predsGNB = gnb.fit(X_train, y_train).predict(X_test)\n",
    "#predsETC = etc.fit(X_train, y_train).predict(X_test)\n",
    "#print(\"Random Forest\")\n",
    "#print(accuracy_score(y_test, preds))\n",
    "#print(\"Extra Tree\")\n",
    "#print(accuracy_score(y_test, predsETC))\n",
    "#print(\"GBM\")\n",
    "#print(accuracy_score(y_test, predsGB))\n",
    "#print(\"LR\")\n",
    "#print(accuracy_score(y_test, predsLR))\n",
    "print(\"NB Bi-gram\")\n",
    "print(accuracy_score(y_test, predsGNB))\n"
   ]
  },
  {
   "cell_type": "code",
   "execution_count": 15,
   "metadata": {},
   "outputs": [
    {
     "name": "stdout",
     "output_type": "stream",
     "text": [
      "NB Tri-gram\n",
      "0.6719518826509635\n"
     ]
    }
   ],
   "source": [
    "from sklearn.ensemble import RandomForestClassifier\n",
    "from sklearn.ensemble import GradientBoostingClassifier\n",
    "from sklearn.ensemble import ExtraTreesClassifier\n",
    "from sklearn.linear_model import LogisticRegression\n",
    "from sklearn.naive_bayes import MultinomialNB\n",
    "from sklearn.naive_bayes import BernoulliNB\n",
    "from sklearn.metrics import confusion_matrix, classification_report, accuracy_score\n",
    "#rfc = RandomForestClassifier(n_estimators=100,n_jobs=-1,random_state=2)\n",
    "#etc = ExtraTreesClassifier(n_estimators=100,n_jobs=-1,random_state=2)\n",
    "#gb = GradientBoostingClassifier(n_estimators=100, learning_rate = 0.1,random_state=2)\n",
    "#clf= LogisticRegression()\n",
    "gnb = MultinomialNB()\n",
    "#preds = rfc.fit(X_train, y_train).predict(X_test)\n",
    "#predsGB = gb.fit(X_train, y_train).predict(X_test)\n",
    "#predsLR = clf.fit(X_train, y_train).predict(X_test)\n",
    "predsGNB = gnb.fit(X_train, y_train).predict(X_test)\n",
    "#predsETC = etc.fit(X_train, y_train).predict(X_test)\n",
    "#print(\"Random Forest\")\n",
    "#print(accuracy_score(y_test, preds))\n",
    "#print(\"Extra Tree\")\n",
    "#print(accuracy_score(y_test, predsETC))\n",
    "#print(\"GBM\")\n",
    "#print(accuracy_score(y_test, predsGB))\n",
    "#print(\"LR\")\n",
    "#print(accuracy_score(y_test, predsLR))\n",
    "print(\"NB Tri-gram\")\n",
    "print(accuracy_score(y_test, predsGNB))\n"
   ]
  },
  {
   "cell_type": "code",
   "execution_count": 7,
   "metadata": {},
   "outputs": [
    {
     "name": "stdout",
     "output_type": "stream",
     "text": [
      "LR CV\n",
      "0.7203610127455271\n",
      "NB CV\n",
      "0.7131062746190268\n"
     ]
    }
   ],
   "source": [
    "from sklearn.ensemble import RandomForestClassifier\n",
    "from sklearn.ensemble import GradientBoostingClassifier\n",
    "from sklearn.ensemble import ExtraTreesClassifier\n",
    "from sklearn.linear_model import LogisticRegression\n",
    "from sklearn.naive_bayes import MultinomialNB\n",
    "from sklearn.naive_bayes import BernoulliNB\n",
    "from sklearn.metrics import confusion_matrix, classification_report, accuracy_score\n",
    "#rfc = RandomForestClassifier(n_estimators=100,n_jobs=-1,random_state=2)\n",
    "#etc = ExtraTreesClassifier(n_estimators=100,n_jobs=-1,random_state=2)\n",
    "#gb = GradientBoostingClassifier(n_estimators=100, learning_rate = 0.1,random_state=2)\n",
    "clf= LogisticRegression()\n",
    "gnb = MultinomialNB()\n",
    "#preds = rfc.fit(X_train, y_train).predict(X_test)\n",
    "#predsGB = gb.fit(X_train, y_train).predict(X_test)\n",
    "predsLR = clf.fit(X_train, y_train).predict(X_test)\n",
    "predsGNB = gnb.fit(X_train, y_train).predict(X_test)\n",
    "#predsETC = etc.fit(X_train, y_train).predict(X_test)\n",
    "#print(\"Random Forest\")\n",
    "#print(accuracy_score(y_test, preds))\n",
    "#print(\"Extra Tree CV\")\n",
    "#print(accuracy_score(y_test, predsETC))\n",
    "#print(\"GBM\")\n",
    "#print(accuracy_score(y_test, predsGB))\n",
    "print(\"LR CV\")\n",
    "print(accuracy_score(y_test, predsLR))\n",
    "print(\"NB CV\")\n",
    "print(accuracy_score(y_test, predsGNB))\n"
   ]
  },
  {
   "cell_type": "code",
   "execution_count": 95,
   "metadata": {},
   "outputs": [
    {
     "name": "stdout",
     "output_type": "stream",
     "text": [
      "Random Forest\n",
      "Extra Tree\n",
      "GBM\n",
      "LR\n",
      "NB\n"
     ]
    }
   ],
   "source": [
    "pred = rfc.predict(X_test)\n",
    "#print(pred)\n",
    "print(\"Random Forest\")\n",
    "pred1 = etc.predict(X_test)\n",
    "print(\"Extra Tree\")\n",
    "pred2 = gb.predict(X_test)\n",
    "print(\"GBM\")\n",
    "pred3 = clf.predict(X_test)\n",
    "print(\"LR\")\n",
    "pred4 = gnb.predict(X_test)\n",
    "print(\"NB\")\n"
   ]
  },
  {
   "cell_type": "code",
   "execution_count": 102,
   "metadata": {},
   "outputs": [
    {
     "name": "stdout",
     "output_type": "stream",
     "text": [
      "4.928225806451613\n",
      "4.875806451612903\n",
      "4.981451612903226\n",
      "4.957258064516129\n",
      "4.901612903225806\n"
     ]
    }
   ],
   "source": [
    "print(sum(preds)/len(preds))\n",
    "print(sum(predsGB)/len(predsGB))\n",
    "print(sum(predsLR)/len(predsLR))\n",
    "print(sum(predsGNB)/len(predsETC))\n",
    "print(sum(predsETC)/len(predsETC))"
   ]
  },
  {
   "cell_type": "code",
   "execution_count": 48,
   "metadata": {},
   "outputs": [
    {
     "data": {
      "text/plain": [
       "6582"
      ]
     },
     "execution_count": 48,
     "metadata": {},
     "output_type": "execute_result"
    }
   ],
   "source": [
    "total"
   ]
  },
  {
   "cell_type": "code",
   "execution_count": 80,
   "metadata": {},
   "outputs": [
    {
     "name": "stdout",
     "output_type": "stream",
     "text": [
      "3.875892857142857\n",
      "4480\n",
      "17364\n"
     ]
    }
   ],
   "source": [
    "count=0\n",
    "values=0\n",
    "for i in range(len(data)):\n",
    "    if data['app_id'][i]=='com.ffgames.racingincar2':\n",
    "        values=values+1\n",
    "        #print(data['rating'][i])\n",
    "        count =count+data['rating'][i]\n",
    "print(count/values)\n",
    "print(values)\n",
    "print(count)"
   ]
  },
  {
   "cell_type": "code",
   "execution_count": 72,
   "metadata": {},
   "outputs": [
    {
     "name": "stderr",
     "output_type": "stream",
     "text": [
      "C:\\Users\\Muhammad Umer\\Anaconda3\\lib\\site-packages\\sklearn\\feature_extraction\\text.py:1089: FutureWarning:\n",
      "\n",
      "Conversion of the second argument of issubdtype from `float` to `np.floating` is deprecated. In future, it will be treated as `np.float64 == np.dtype(float).type`.\n",
      "\n"
     ]
    },
    {
     "name": "stdout",
     "output_type": "stream",
     "text": [
      "Random Forest\n",
      "0.6301111111111111\n",
      "             precision    recall  f1-score   support\n",
      "\n",
      "          1       0.52      0.72      0.60      1704\n",
      "          2       0.33      0.02      0.04       640\n",
      "          3       0.33      0.05      0.08       829\n",
      "          4       0.34      0.03      0.06      1177\n",
      "          5       0.68      0.94      0.79      4650\n",
      "\n",
      "avg / total       0.55      0.63      0.54      9000\n",
      "\n"
     ]
    }
   ],
   "source": [
    "CommunicationSentiment=[]\n",
    "CommunicationSentiment=[]\n",
    "for i in range(len(data)):\n",
    "        if data['cetagory'][i]==category[1]:\n",
    "            CommunicationSentiment.append(data['reviews'][i])\n",
    "            CommunicationSentiment.append(data['rating'][i])\n",
    "y =CommunicationSentiment\n",
    "X=CommunicationSentiment\n",
    "X_train, X_test, y_train, y_test = train_test_split(X, y, test_size=0.3)\n",
    "from sklearn.feature_extraction.text import TfidfVectorizer\n",
    "\n",
    "vectorizer = TfidfVectorizer()\n",
    "X_train= vectorizer.fit_transform(X_train)\n",
    "X_test=vectorizer.transform(X_test)\n",
    "\n",
    "from sklearn.ensemble import RandomForestClassifier\n",
    "from sklearn.metrics import confusion_matrix, classification_report, accuracy_score\n",
    "rfc = RandomForestClassifier(n_estimators=100,n_jobs=-1,random_state=2)\n",
    "preds = rfc.fit(X_train, y_train).predict(X_test)\n",
    "print(\"Random Forest\")\n",
    "print(accuracy_score(y_test, preds))\n",
    "print(classification_report(y_test,preds))"
   ]
  },
  {
   "cell_type": "code",
   "execution_count": 79,
   "metadata": {},
   "outputs": [
    {
     "name": "stderr",
     "output_type": "stream",
     "text": [
      "C:\\Users\\Muhammad Umer\\Anaconda3\\lib\\site-packages\\sklearn\\feature_extraction\\text.py:1089: FutureWarning:\n",
      "\n",
      "Conversion of the second argument of issubdtype from `float` to `np.floating` is deprecated. In future, it will be treated as `np.float64 == np.dtype(float).type`.\n",
      "\n"
     ]
    },
    {
     "name": "stdout",
     "output_type": "stream",
     "text": [
      "Random Forest\n",
      "0.7051272370308842\n",
      "             precision    recall  f1-score   support\n",
      "\n",
      "          1       0.68      0.45      0.54      1583\n",
      "          2       0.33      0.02      0.04       377\n",
      "          3       0.35      0.06      0.10       925\n",
      "          4       0.30      0.03      0.05      1589\n",
      "          5       0.72      0.97      0.83      8769\n",
      "\n",
      "avg / total       0.63      0.71      0.63     13243\n",
      "\n"
     ]
    }
   ],
   "source": [
    "ActionSentiment=[]\n",
    "ActionRating=[]\n",
    "for i in range(len(data)):\n",
    "        if data['cetagory'][i]==category[2]:\n",
    "            ActionSentiment.append(data['reviews'][i])\n",
    "            ActionRating.append(data['rating'][i])\n",
    "y =ActionRating\n",
    "X=ActionSentiment\n",
    "X_train, X_test, y_train, y_test = train_test_split(X, y, test_size=0.3)\n",
    "from sklearn.feature_extraction.text import TfidfVectorizer\n",
    "\n",
    "vectorizer = TfidfVectorizer()\n",
    "X_train= vectorizer.fit_transform(X_train)\n",
    "X_test=vectorizer.transform(X_test)\n",
    "\n",
    "from sklearn.ensemble import RandomForestClassifier\n",
    "from sklearn.metrics import confusion_matrix, classification_report, accuracy_score\n",
    "rfc = RandomForestClassifier(n_estimators=100,n_jobs=-1,random_state=2)\n",
    "preds = rfc.fit(X_train, y_train).predict(X_test)\n",
    "print(\"Random Forest\")\n",
    "print(accuracy_score(y_test, preds))\n",
    "print(classification_report(y_test,preds))"
   ]
  },
  {
   "cell_type": "code",
   "execution_count": 80,
   "metadata": {},
   "outputs": [
    {
     "name": "stderr",
     "output_type": "stream",
     "text": [
      "C:\\Users\\Muhammad Umer\\Anaconda3\\lib\\site-packages\\sklearn\\feature_extraction\\text.py:1089: FutureWarning:\n",
      "\n",
      "Conversion of the second argument of issubdtype from `float` to `np.floating` is deprecated. In future, it will be treated as `np.float64 == np.dtype(float).type`.\n",
      "\n"
     ]
    },
    {
     "name": "stdout",
     "output_type": "stream",
     "text": [
      "Random Forest\n",
      "0.7430884999182071\n",
      "             precision    recall  f1-score   support\n",
      "\n",
      "          1       0.64      0.26      0.37       660\n",
      "          2       0.32      0.03      0.06       230\n",
      "          3       0.34      0.08      0.13       739\n",
      "          4       0.35      0.04      0.08      1612\n",
      "          5       0.76      0.98      0.85      8985\n",
      "\n",
      "avg / total       0.67      0.74      0.67     12226\n",
      "\n"
     ]
    }
   ],
   "source": [
    "ArcadeSentiment=[]\n",
    "ArcadeRating=[]\n",
    "for i in range(len(data)):\n",
    "        if data['cetagory'][i]==category[3]:\n",
    "            ArcadeSentiment.append(data['reviews'][i])\n",
    "            ArcadeRating.append(data['rating'][i])\n",
    "y =ArcadeRating\n",
    "X=ArcadeSentiment\n",
    "X_train, X_test, y_train, y_test = train_test_split(X, y, test_size=0.3)\n",
    "from sklearn.feature_extraction.text import TfidfVectorizer\n",
    "\n",
    "vectorizer = TfidfVectorizer()\n",
    "X_train= vectorizer.fit_transform(X_train)\n",
    "X_test=vectorizer.transform(X_test)\n",
    "\n",
    "from sklearn.ensemble import RandomForestClassifier\n",
    "from sklearn.metrics import confusion_matrix, classification_report, accuracy_score\n",
    "rfc = RandomForestClassifier(n_estimators=100,n_jobs=-1,random_state=2)\n",
    "preds = rfc.fit(X_train, y_train).predict(X_test)\n",
    "print(\"Random Forest\")\n",
    "print(accuracy_score(y_test, preds))\n",
    "print(classification_report(y_test,preds))"
   ]
  },
  {
   "cell_type": "code",
   "execution_count": 83,
   "metadata": {},
   "outputs": [
    {
     "name": "stderr",
     "output_type": "stream",
     "text": [
      "C:\\Users\\Muhammad Umer\\Anaconda3\\lib\\site-packages\\sklearn\\feature_extraction\\text.py:1089: FutureWarning:\n",
      "\n",
      "Conversion of the second argument of issubdtype from `float` to `np.floating` is deprecated. In future, it will be treated as `np.float64 == np.dtype(float).type`.\n",
      "\n"
     ]
    },
    {
     "name": "stdout",
     "output_type": "stream",
     "text": [
      "Random Forest\n",
      "0.6899759422614274\n",
      "             precision    recall  f1-score   support\n",
      "\n",
      "          1       0.52      0.49      0.50       591\n",
      "          2       0.20      0.01      0.02       199\n",
      "          3       0.33      0.05      0.08       459\n",
      "          4       0.31      0.04      0.07       891\n",
      "          5       0.72      0.97      0.83      4095\n",
      "\n",
      "avg / total       0.60      0.69      0.61      6235\n",
      "\n"
     ]
    }
   ],
   "source": [
    "CasualSentiment=[]\n",
    "CasualRating=[]\n",
    "for i in range(len(data)):\n",
    "        if data['cetagory'][i]==category[4]:\n",
    "            CasualSentiment.append(data['reviews'][i])\n",
    "            CasualRating.append(data['rating'][i])\n",
    "y =CasualRating\n",
    "X=CasualSentiment\n",
    "X_train, X_test, y_train, y_test = train_test_split(X, y, test_size=0.3)\n",
    "from sklearn.feature_extraction.text import TfidfVectorizer\n",
    "\n",
    "vectorizer = TfidfVectorizer()\n",
    "X_train= vectorizer.fit_transform(X_train)\n",
    "X_test=vectorizer.transform(X_test)\n",
    "\n",
    "from sklearn.ensemble import RandomForestClassifier\n",
    "from sklearn.metrics import confusion_matrix, classification_report, accuracy_score\n",
    "rfc = RandomForestClassifier(n_estimators=200,n_jobs=-1,random_state=10)\n",
    "preds = rfc.fit(X_train, y_train).predict(X_test)\n",
    "print(\"Random Forest\")\n",
    "print(accuracy_score(y_test, preds))\n",
    "print(classification_report(y_test,preds))"
   ]
  },
  {
   "cell_type": "code",
   "execution_count": 84,
   "metadata": {},
   "outputs": [
    {
     "name": "stderr",
     "output_type": "stream",
     "text": [
      "C:\\Users\\Muhammad Umer\\Anaconda3\\lib\\site-packages\\sklearn\\feature_extraction\\text.py:1089: FutureWarning:\n",
      "\n",
      "Conversion of the second argument of issubdtype from `float` to `np.floating` is deprecated. In future, it will be treated as `np.float64 == np.dtype(float).type`.\n",
      "\n"
     ]
    },
    {
     "name": "stdout",
     "output_type": "stream",
     "text": [
      "Random Forest\n",
      "0.6679677970236643\n",
      "             precision    recall  f1-score   support\n",
      "\n",
      "          0       0.00      0.00      0.00         0\n",
      "          1       0.58      0.32      0.41       594\n",
      "          2       0.26      0.03      0.05       314\n",
      "          3       0.28      0.06      0.09       516\n",
      "          4       0.37      0.10      0.16      1493\n",
      "          5       0.70      0.97      0.81      5281\n",
      "\n",
      "avg / total       0.58      0.67      0.59      8198\n",
      "\n"
     ]
    },
    {
     "name": "stderr",
     "output_type": "stream",
     "text": [
      "C:\\Users\\Muhammad Umer\\Anaconda3\\lib\\site-packages\\sklearn\\metrics\\classification.py:1137: UndefinedMetricWarning:\n",
      "\n",
      "Recall and F-score are ill-defined and being set to 0.0 in labels with no true samples.\n",
      "\n"
     ]
    }
   ],
   "source": [
    "WeatherSentiment=[]\n",
    "WeatherRating=[]\n",
    "for i in range(len(data)):\n",
    "        if data['cetagory'][i]==category[5]:\n",
    "            WeatherSentiment.append(data['reviews'][i])\n",
    "            WeatherRating.append(data['rating'][i])\n",
    "y =WeatherRating\n",
    "X=WeatherSentiment\n",
    "X_train, X_test, y_train, y_test = train_test_split(X, y, test_size=0.3)\n",
    "from sklearn.feature_extraction.text import TfidfVectorizer\n",
    "\n",
    "vectorizer = TfidfVectorizer()\n",
    "X_train= vectorizer.fit_transform(X_train)\n",
    "X_test=vectorizer.transform(X_test)\n",
    "\n",
    "from sklearn.ensemble import RandomForestClassifier\n",
    "from sklearn.metrics import confusion_matrix, classification_report, accuracy_score\n",
    "rfc = RandomForestClassifier(n_estimators=200,n_jobs=-1,random_state=10)\n",
    "preds = rfc.fit(X_train, y_train).predict(X_test)\n",
    "print(\"Random Forest\")\n",
    "print(accuracy_score(y_test, preds))\n",
    "print(classification_report(y_test,preds))"
   ]
  },
  {
   "cell_type": "code",
   "execution_count": 85,
   "metadata": {},
   "outputs": [
    {
     "data": {
      "text/plain": [
       "array(['Sports', 'Communication', 'action', 'Arcade',\n",
       "       'Video Players & Editors', 'Weather', 'card', 'photography',\n",
       "       'Shopping', 'Health & Fitness', 'Finance', 'Casual', 'Medical',\n",
       "       'Racing'], dtype=object)"
      ]
     },
     "execution_count": 85,
     "metadata": {},
     "output_type": "execute_result"
    }
   ],
   "source": [
    "category"
   ]
  },
  {
   "cell_type": "code",
   "execution_count": 86,
   "metadata": {},
   "outputs": [
    {
     "name": "stderr",
     "output_type": "stream",
     "text": [
      "C:\\Users\\Muhammad Umer\\Anaconda3\\lib\\site-packages\\sklearn\\feature_extraction\\text.py:1089: FutureWarning:\n",
      "\n",
      "Conversion of the second argument of issubdtype from `float` to `np.floating` is deprecated. In future, it will be treated as `np.float64 == np.dtype(float).type`.\n",
      "\n"
     ]
    },
    {
     "name": "stdout",
     "output_type": "stream",
     "text": [
      "Random Forest\n",
      "0.7016246805403432\n",
      "             precision    recall  f1-score   support\n",
      "\n",
      "          1       0.59      0.38      0.46      1008\n",
      "          2       0.41      0.02      0.04       378\n",
      "          3       0.40      0.05      0.09       708\n",
      "          4       0.35      0.04      0.07      1521\n",
      "          5       0.72      0.98      0.83      7341\n",
      "\n",
      "avg / total       0.62      0.70      0.61     10956\n",
      "\n"
     ]
    }
   ],
   "source": [
    "CardSentiment=[]\n",
    "CardRating=[]\n",
    "for i in range(len(data)):\n",
    "        if data['cetagory'][i]==category[6]:\n",
    "            CardSentiment.append(data['reviews'][i])\n",
    "            CardRating.append(data['rating'][i])\n",
    "y =CardRating\n",
    "X=CardSentiment\n",
    "X_train, X_test, y_train, y_test = train_test_split(X, y, test_size=0.3)\n",
    "from sklearn.feature_extraction.text import TfidfVectorizer\n",
    "\n",
    "vectorizer = TfidfVectorizer()\n",
    "X_train= vectorizer.fit_transform(X_train)\n",
    "X_test=vectorizer.transform(X_test)\n",
    "\n",
    "from sklearn.ensemble import RandomForestClassifier\n",
    "from sklearn.metrics import confusion_matrix, classification_report, accuracy_score\n",
    "rfc = RandomForestClassifier(n_estimators=200,n_jobs=-1,random_state=10)\n",
    "preds = rfc.fit(X_train, y_train).predict(X_test)\n",
    "print(\"Random Forest\")\n",
    "print(accuracy_score(y_test, preds))\n",
    "print(classification_report(y_test,preds))"
   ]
  },
  {
   "cell_type": "code",
   "execution_count": 87,
   "metadata": {},
   "outputs": [
    {
     "name": "stderr",
     "output_type": "stream",
     "text": [
      "C:\\Users\\Muhammad Umer\\Anaconda3\\lib\\site-packages\\sklearn\\feature_extraction\\text.py:1089: FutureWarning:\n",
      "\n",
      "Conversion of the second argument of issubdtype from `float` to `np.floating` is deprecated. In future, it will be treated as `np.float64 == np.dtype(float).type`.\n",
      "\n"
     ]
    },
    {
     "name": "stdout",
     "output_type": "stream",
     "text": [
      "Random Forest\n",
      "0.728925353925354\n",
      "             precision    recall  f1-score   support\n",
      "\n",
      "          1       0.54      0.60      0.57      1006\n",
      "          2       0.38      0.05      0.09       422\n",
      "          3       0.41      0.11      0.17       830\n",
      "          4       0.38      0.04      0.07      1679\n",
      "          5       0.76      0.98      0.86      8495\n",
      "\n",
      "avg / total       0.66      0.73      0.65     12432\n",
      "\n"
     ]
    }
   ],
   "source": [
    "PhotoSentiment=[]\n",
    "PhotoRating=[]\n",
    "for i in range(len(data)):\n",
    "        if data['cetagory'][i]==category[7]:\n",
    "            PhotoSentiment.append(data['reviews'][i])\n",
    "            PhotoRating.append(data['rating'][i])\n",
    "y =PhotoRating\n",
    "X=PhotoSentiment\n",
    "X_train, X_test, y_train, y_test = train_test_split(X, y, test_size=0.3)\n",
    "from sklearn.feature_extraction.text import TfidfVectorizer\n",
    "\n",
    "vectorizer = TfidfVectorizer()\n",
    "X_train= vectorizer.fit_transform(X_train)\n",
    "X_test=vectorizer.transform(X_test)\n",
    "\n",
    "from sklearn.ensemble import RandomForestClassifier\n",
    "from sklearn.metrics import confusion_matrix, classification_report, accuracy_score\n",
    "rfc = RandomForestClassifier(n_estimators=200,n_jobs=-1,random_state=10)\n",
    "preds = rfc.fit(X_train, y_train).predict(X_test)\n",
    "print(\"Random Forest\")\n",
    "print(accuracy_score(y_test, preds))\n",
    "print(classification_report(y_test,preds))"
   ]
  },
  {
   "cell_type": "code",
   "execution_count": 88,
   "metadata": {},
   "outputs": [
    {
     "name": "stderr",
     "output_type": "stream",
     "text": [
      "C:\\Users\\Muhammad Umer\\Anaconda3\\lib\\site-packages\\sklearn\\feature_extraction\\text.py:1089: FutureWarning:\n",
      "\n",
      "Conversion of the second argument of issubdtype from `float` to `np.floating` is deprecated. In future, it will be treated as `np.float64 == np.dtype(float).type`.\n",
      "\n"
     ]
    },
    {
     "name": "stdout",
     "output_type": "stream",
     "text": [
      "Random Forest\n",
      "0.699623745819398\n",
      "             precision    recall  f1-score   support\n",
      "\n",
      "          1       0.66      0.71      0.69      2716\n",
      "          2       0.42      0.01      0.03       548\n",
      "          3       0.43      0.06      0.11       901\n",
      "          4       0.51      0.06      0.11      1856\n",
      "          5       0.72      0.95      0.82      8331\n",
      "\n",
      "avg / total       0.65      0.70      0.63     14352\n",
      "\n"
     ]
    }
   ],
   "source": [
    "ShoppingSentiment=[]\n",
    "ShoppingRating=[]\n",
    "for i in range(len(data)):\n",
    "        if data['cetagory'][i]==category[8]:\n",
    "            ShoppingSentiment.append(data['reviews'][i])\n",
    "            ShoppingRating.append(data['rating'][i])\n",
    "y =ShoppingRating\n",
    "X=ShoppingSentiment\n",
    "X_train, X_test, y_train, y_test = train_test_split(X, y, test_size=0.3)\n",
    "from sklearn.feature_extraction.text import TfidfVectorizer\n",
    "\n",
    "vectorizer = TfidfVectorizer()\n",
    "X_train= vectorizer.fit_transform(X_train)\n",
    "X_test=vectorizer.transform(X_test)\n",
    "\n",
    "from sklearn.ensemble import RandomForestClassifier\n",
    "from sklearn.metrics import confusion_matrix, classification_report, accuracy_score\n",
    "rfc = RandomForestClassifier(n_estimators=200,n_jobs=-1,random_state=10)\n",
    "preds = rfc.fit(X_train, y_train).predict(X_test)\n",
    "print(\"Random Forest\")\n",
    "print(accuracy_score(y_test, preds))\n",
    "print(classification_report(y_test,preds))"
   ]
  },
  {
   "cell_type": "code",
   "execution_count": 89,
   "metadata": {},
   "outputs": [
    {
     "name": "stderr",
     "output_type": "stream",
     "text": [
      "C:\\Users\\Muhammad Umer\\Anaconda3\\lib\\site-packages\\sklearn\\feature_extraction\\text.py:1089: FutureWarning:\n",
      "\n",
      "Conversion of the second argument of issubdtype from `float` to `np.floating` is deprecated. In future, it will be treated as `np.float64 == np.dtype(float).type`.\n",
      "\n"
     ]
    },
    {
     "name": "stdout",
     "output_type": "stream",
     "text": [
      "Random Forest\n",
      "0.8116222760290557\n",
      "             precision    recall  f1-score   support\n",
      "\n",
      "          1       0.48      0.06      0.10       238\n",
      "          2       0.00      0.00      0.00       151\n",
      "          3       0.15      0.01      0.01       341\n",
      "          4       0.17      0.01      0.01      1197\n",
      "          5       0.82      1.00      0.90      8398\n",
      "\n",
      "avg / total       0.70      0.81      0.73     10325\n",
      "\n"
     ]
    },
    {
     "name": "stderr",
     "output_type": "stream",
     "text": [
      "C:\\Users\\Muhammad Umer\\Anaconda3\\lib\\site-packages\\sklearn\\metrics\\classification.py:1135: UndefinedMetricWarning:\n",
      "\n",
      "Precision and F-score are ill-defined and being set to 0.0 in labels with no predicted samples.\n",
      "\n"
     ]
    }
   ],
   "source": [
    "HealthSentiment=[]\n",
    "HealthRating=[]\n",
    "for i in range(len(data)):\n",
    "        if data['cetagory'][i]==category[9]:\n",
    "            HealthSentiment.append(data['reviews'][i])\n",
    "            HealthRating.append(data['rating'][i])\n",
    "y =HealthRating\n",
    "X=HealthSentiment\n",
    "X_train, X_test, y_train, y_test = train_test_split(X, y, test_size=0.3)\n",
    "from sklearn.feature_extraction.text import TfidfVectorizer\n",
    "\n",
    "vectorizer = TfidfVectorizer()\n",
    "X_train= vectorizer.fit_transform(X_train)\n",
    "X_test=vectorizer.transform(X_test)\n",
    "\n",
    "from sklearn.ensemble import RandomForestClassifier\n",
    "from sklearn.metrics import confusion_matrix, classification_report, accuracy_score\n",
    "rfc = RandomForestClassifier(n_estimators=200,n_jobs=-1,random_state=10)\n",
    "preds = rfc.fit(X_train, y_train).predict(X_test)\n",
    "print(\"Random Forest\")\n",
    "print(accuracy_score(y_test, preds))\n",
    "print(classification_report(y_test,preds))"
   ]
  },
  {
   "cell_type": "code",
   "execution_count": 90,
   "metadata": {},
   "outputs": [
    {
     "name": "stderr",
     "output_type": "stream",
     "text": [
      "C:\\Users\\Muhammad Umer\\Anaconda3\\lib\\site-packages\\sklearn\\feature_extraction\\text.py:1089: FutureWarning:\n",
      "\n",
      "Conversion of the second argument of issubdtype from `float` to `np.floating` is deprecated. In future, it will be treated as `np.float64 == np.dtype(float).type`.\n",
      "\n"
     ]
    },
    {
     "name": "stdout",
     "output_type": "stream",
     "text": [
      "Random Forest\n",
      "0.6387904559414127\n",
      "             precision    recall  f1-score   support\n",
      "\n",
      "          1       0.55      0.77      0.64      1802\n",
      "          2       0.20      0.01      0.02       367\n",
      "          3       0.21      0.01      0.02       591\n",
      "          4       0.40      0.06      0.10      1214\n",
      "          5       0.69      0.88      0.77      4492\n",
      "\n",
      "avg / total       0.56      0.64      0.56      8466\n",
      "\n"
     ]
    }
   ],
   "source": [
    "FinanceSentiment=[]\n",
    "FinanceRating=[]\n",
    "for i in range(len(data)):\n",
    "        if data['cetagory'][i]==category[10]:\n",
    "            FinanceSentiment.append(data['reviews'][i])\n",
    "            FinanceRating.append(data['rating'][i])\n",
    "y =FinanceRating\n",
    "X=FinanceSentiment\n",
    "X_train, X_test, y_train, y_test = train_test_split(X, y, test_size=0.3)\n",
    "from sklearn.feature_extraction.text import TfidfVectorizer\n",
    "\n",
    "vectorizer = TfidfVectorizer()\n",
    "X_train= vectorizer.fit_transform(X_train)\n",
    "X_test=vectorizer.transform(X_test)\n",
    "\n",
    "from sklearn.ensemble import RandomForestClassifier\n",
    "from sklearn.metrics import confusion_matrix, classification_report, accuracy_score\n",
    "rfc = RandomForestClassifier(n_estimators=200,n_jobs=-1,random_state=10)\n",
    "preds = rfc.fit(X_train, y_train).predict(X_test)\n",
    "print(\"Random Forest\")\n",
    "print(accuracy_score(y_test, preds))\n",
    "print(classification_report(y_test,preds))"
   ]
  },
  {
   "cell_type": "code",
   "execution_count": 91,
   "metadata": {},
   "outputs": [
    {
     "name": "stderr",
     "output_type": "stream",
     "text": [
      "C:\\Users\\Muhammad Umer\\Anaconda3\\lib\\site-packages\\sklearn\\feature_extraction\\text.py:1089: FutureWarning:\n",
      "\n",
      "Conversion of the second argument of issubdtype from `float` to `np.floating` is deprecated. In future, it will be treated as `np.float64 == np.dtype(float).type`.\n",
      "\n"
     ]
    },
    {
     "name": "stdout",
     "output_type": "stream",
     "text": [
      "Random Forest\n",
      "0.7534246575342466\n",
      "             precision    recall  f1-score   support\n",
      "\n",
      "          1       0.57      0.19      0.29       818\n",
      "          2       0.06      0.00      0.00       390\n",
      "          3       0.40      0.07      0.12       943\n",
      "          4       0.32      0.03      0.06      1832\n",
      "          5       0.77      0.98      0.86     11785\n",
      "\n",
      "avg / total       0.66      0.75      0.67     15768\n",
      "\n"
     ]
    }
   ],
   "source": [
    "CasualSentiment=[]\n",
    "CasualRating=[]\n",
    "for i in range(len(data)):\n",
    "        if data['cetagory'][i]==category[11]:\n",
    "            CasualSentiment.append(data['reviews'][i])\n",
    "            CasualRating.append(data['rating'][i])\n",
    "y =CasualRating\n",
    "X=CasualSentiment\n",
    "X_train, X_test, y_train, y_test = train_test_split(X, y, test_size=0.3)\n",
    "from sklearn.feature_extraction.text import TfidfVectorizer\n",
    "\n",
    "vectorizer = TfidfVectorizer()\n",
    "X_train= vectorizer.fit_transform(X_train)\n",
    "X_test=vectorizer.transform(X_test)\n",
    "\n",
    "from sklearn.ensemble import RandomForestClassifier\n",
    "from sklearn.metrics import confusion_matrix, classification_report, accuracy_score\n",
    "rfc = RandomForestClassifier(n_estimators=200,n_jobs=-1,random_state=10)\n",
    "preds = rfc.fit(X_train, y_train).predict(X_test)\n",
    "print(\"Random Forest\")\n",
    "print(accuracy_score(y_test, preds))\n",
    "print(classification_report(y_test,preds))"
   ]
  },
  {
   "cell_type": "code",
   "execution_count": 92,
   "metadata": {},
   "outputs": [
    {
     "name": "stderr",
     "output_type": "stream",
     "text": [
      "C:\\Users\\Muhammad Umer\\Anaconda3\\lib\\site-packages\\sklearn\\feature_extraction\\text.py:1089: FutureWarning:\n",
      "\n",
      "Conversion of the second argument of issubdtype from `float` to `np.floating` is deprecated. In future, it will be treated as `np.float64 == np.dtype(float).type`.\n",
      "\n"
     ]
    },
    {
     "name": "stdout",
     "output_type": "stream",
     "text": [
      "Random Forest\n",
      "0.7704485488126649\n",
      "             precision    recall  f1-score   support\n",
      "\n",
      "          1       0.61      0.32      0.42       222\n",
      "          2       0.14      0.01      0.02        96\n",
      "          3       0.45      0.04      0.07       241\n",
      "          4       0.44      0.06      0.10      1149\n",
      "          5       0.78      0.98      0.87      5493\n",
      "\n",
      "avg / total       0.70      0.77      0.70      7201\n",
      "\n"
     ]
    }
   ],
   "source": [
    "MedicalSentiment=[]\n",
    "MedicalRating=[]\n",
    "for i in range(len(data)):\n",
    "        if data['cetagory'][i]==category[12]:\n",
    "            MedicalSentiment.append(data['reviews'][i])\n",
    "            MedicalRating.append(data['rating'][i])\n",
    "y =MedicalRating\n",
    "X=MedicalSentiment\n",
    "X_train, X_test, y_train, y_test = train_test_split(X, y, test_size=0.3)\n",
    "from sklearn.feature_extraction.text import TfidfVectorizer\n",
    "\n",
    "vectorizer = TfidfVectorizer()\n",
    "X_train= vectorizer.fit_transform(X_train)\n",
    "X_test=vectorizer.transform(X_test)\n",
    "\n",
    "from sklearn.ensemble import RandomForestClassifier\n",
    "from sklearn.metrics import confusion_matrix, classification_report, accuracy_score\n",
    "rfc = RandomForestClassifier(n_estimators=200,n_jobs=-1,random_state=10)\n",
    "preds = rfc.fit(X_train, y_train).predict(X_test)\n",
    "print(\"Random Forest\")\n",
    "print(accuracy_score(y_test, preds))\n",
    "print(classification_report(y_test,preds))"
   ]
  },
  {
   "cell_type": "code",
   "execution_count": 93,
   "metadata": {},
   "outputs": [
    {
     "name": "stderr",
     "output_type": "stream",
     "text": [
      "C:\\Users\\Muhammad Umer\\Anaconda3\\lib\\site-packages\\sklearn\\feature_extraction\\text.py:1089: FutureWarning:\n",
      "\n",
      "Conversion of the second argument of issubdtype from `float` to `np.floating` is deprecated. In future, it will be treated as `np.float64 == np.dtype(float).type`.\n",
      "\n"
     ]
    },
    {
     "name": "stdout",
     "output_type": "stream",
     "text": [
      "Random Forest\n",
      "0.7408776344762504\n",
      "             precision    recall  f1-score   support\n",
      "\n",
      "          1       0.67      0.42      0.52       955\n",
      "          2       0.39      0.03      0.05       275\n",
      "          3       0.37      0.09      0.14       757\n",
      "          4       0.42      0.04      0.08      1631\n",
      "          5       0.75      0.98      0.85      9098\n",
      "\n",
      "avg / total       0.67      0.74      0.67     12716\n",
      "\n"
     ]
    }
   ],
   "source": [
    "RacingSentiment=[]\n",
    "RacingRating=[]\n",
    "for i in range(len(data)):\n",
    "        if data['cetagory'][i]==category[13]:\n",
    "            RacingSentiment.append(data['reviews'][i])\n",
    "            RacingRating.append(data['rating'][i])\n",
    "y =RacingRating\n",
    "X=RacingSentiment\n",
    "X_train, X_test, y_train, y_test = train_test_split(X, y, test_size=0.3)\n",
    "from sklearn.feature_extraction.text import TfidfVectorizer\n",
    "\n",
    "vectorizer = TfidfVectorizer()\n",
    "X_train= vectorizer.fit_transform(X_train)\n",
    "X_test=vectorizer.transform(X_test)\n",
    "\n",
    "from sklearn.ensemble import RandomForestClassifier\n",
    "from sklearn.metrics import confusion_matrix, classification_report, accuracy_score\n",
    "rfc = RandomForestClassifier(n_estimators=200,n_jobs=-1,random_state=10)\n",
    "preds = rfc.fit(X_train, y_train).predict(X_test)\n",
    "print(\"Random Forest\")\n",
    "print(accuracy_score(y_test, preds))\n",
    "print(classification_report(y_test,preds))"
   ]
  },
  {
   "cell_type": "code",
   "execution_count": 5,
   "metadata": {},
   "outputs": [
    {
     "name": "stdout",
     "output_type": "stream",
     "text": [
      "[32280, 30000, 44141, 40751, 20781, 27324, 36520, 41440, 47840, 34415, 28220, 52560, 24002, 42384]\n"
     ]
    }
   ],
   "source": [
    "counterCategory=[]\n",
    "total=[]\n",
    "count=0\n",
    "category=data.cetagory.unique()\n",
    "for j in range(len(category)):\n",
    "    \n",
    "    for i in range(len(data)):\n",
    "        if data['cetagory'][i]==category[j]:\n",
    "            count+=1\n",
    "    total.append(count)\n",
    "    count=0\n",
    "print(total)    "
   ]
  },
  {
   "cell_type": "code",
   "execution_count": 6,
   "metadata": {},
   "outputs": [
    {
     "data": {
      "text/html": [
       "<script>requirejs.config({paths: { 'plotly': ['https://cdn.plot.ly/plotly-latest.min']},});if(!window.Plotly) {{require(['plotly'],function(plotly) {window.Plotly=plotly;});}}</script>"
      ],
      "text/vnd.plotly.v1+html": [
       "<script>requirejs.config({paths: { 'plotly': ['https://cdn.plot.ly/plotly-latest.min']},});if(!window.Plotly) {{require(['plotly'],function(plotly) {window.Plotly=plotly;});}}</script>"
      ]
     },
     "metadata": {},
     "output_type": "display_data"
    },
    {
     "ename": "KeyError",
     "evalue": "'cetagory'",
     "output_type": "error",
     "traceback": [
      "\u001b[0;31m---------------------------------------------------------------------------\u001b[0m",
      "\u001b[0;31mKeyError\u001b[0m                                  Traceback (most recent call last)",
      "\u001b[0;32mC:\\Users\\Muhammad Umer\\Anaconda3\\lib\\site-packages\\pandas\\core\\indexes\\base.py\u001b[0m in \u001b[0;36mget_loc\u001b[0;34m(self, key, method, tolerance)\u001b[0m\n\u001b[1;32m   2441\u001b[0m             \u001b[1;32mtry\u001b[0m\u001b[1;33m:\u001b[0m\u001b[1;33m\u001b[0m\u001b[0m\n\u001b[0;32m-> 2442\u001b[0;31m                 \u001b[1;32mreturn\u001b[0m \u001b[0mself\u001b[0m\u001b[1;33m.\u001b[0m\u001b[0m_engine\u001b[0m\u001b[1;33m.\u001b[0m\u001b[0mget_loc\u001b[0m\u001b[1;33m(\u001b[0m\u001b[0mkey\u001b[0m\u001b[1;33m)\u001b[0m\u001b[1;33m\u001b[0m\u001b[0m\n\u001b[0m\u001b[1;32m   2443\u001b[0m             \u001b[1;32mexcept\u001b[0m \u001b[0mKeyError\u001b[0m\u001b[1;33m:\u001b[0m\u001b[1;33m\u001b[0m\u001b[0m\n",
      "\u001b[0;32mpandas\\_libs\\index.pyx\u001b[0m in \u001b[0;36mpandas._libs.index.IndexEngine.get_loc (pandas\\_libs\\index.c:5280)\u001b[0;34m()\u001b[0m\n",
      "\u001b[0;32mpandas\\_libs\\index.pyx\u001b[0m in \u001b[0;36mpandas._libs.index.IndexEngine.get_loc (pandas\\_libs\\index.c:5126)\u001b[0;34m()\u001b[0m\n",
      "\u001b[0;32mpandas\\_libs\\hashtable_class_helper.pxi\u001b[0m in \u001b[0;36mpandas._libs.hashtable.PyObjectHashTable.get_item (pandas\\_libs\\hashtable.c:20523)\u001b[0;34m()\u001b[0m\n",
      "\u001b[0;32mpandas\\_libs\\hashtable_class_helper.pxi\u001b[0m in \u001b[0;36mpandas._libs.hashtable.PyObjectHashTable.get_item (pandas\\_libs\\hashtable.c:20477)\u001b[0;34m()\u001b[0m\n",
      "\u001b[0;31mKeyError\u001b[0m: 'cetagory'",
      "\nDuring handling of the above exception, another exception occurred:\n",
      "\u001b[0;31mKeyError\u001b[0m                                  Traceback (most recent call last)",
      "\u001b[0;32m<ipython-input-6-7aefb8858d9a>\u001b[0m in \u001b[0;36m<module>\u001b[0;34m()\u001b[0m\n\u001b[1;32m      5\u001b[0m \u001b[1;33m\u001b[0m\u001b[0m\n\u001b[1;32m      6\u001b[0m \u001b[1;32mimport\u001b[0m \u001b[0mplotly\u001b[0m\u001b[1;33m.\u001b[0m\u001b[0mfigure_factory\u001b[0m \u001b[1;32mas\u001b[0m \u001b[0mff\u001b[0m\u001b[1;33m\u001b[0m\u001b[0m\n\u001b[0;32m----> 7\u001b[0;31m \u001b[0mnumber_of_apps_in_category\u001b[0m \u001b[1;33m=\u001b[0m \u001b[0mdata\u001b[0m\u001b[1;33m[\u001b[0m\u001b[1;34m'cetagory'\u001b[0m\u001b[1;33m]\u001b[0m\u001b[1;33m.\u001b[0m\u001b[0mvalue_counts\u001b[0m\u001b[1;33m(\u001b[0m\u001b[1;33m)\u001b[0m\u001b[1;33m.\u001b[0m\u001b[0msort_values\u001b[0m\u001b[1;33m(\u001b[0m\u001b[0mascending\u001b[0m\u001b[1;33m=\u001b[0m\u001b[1;32mTrue\u001b[0m\u001b[1;33m)\u001b[0m\u001b[1;33m\u001b[0m\u001b[0m\n\u001b[0m\u001b[1;32m      8\u001b[0m \u001b[1;33m\u001b[0m\u001b[0m\n\u001b[1;32m      9\u001b[0m data = [go.Pie(\n",
      "\u001b[0;32mC:\\Users\\Muhammad Umer\\Anaconda3\\lib\\site-packages\\pandas\\core\\frame.py\u001b[0m in \u001b[0;36m__getitem__\u001b[0;34m(self, key)\u001b[0m\n\u001b[1;32m   1962\u001b[0m             \u001b[1;32mreturn\u001b[0m \u001b[0mself\u001b[0m\u001b[1;33m.\u001b[0m\u001b[0m_getitem_multilevel\u001b[0m\u001b[1;33m(\u001b[0m\u001b[0mkey\u001b[0m\u001b[1;33m)\u001b[0m\u001b[1;33m\u001b[0m\u001b[0m\n\u001b[1;32m   1963\u001b[0m         \u001b[1;32melse\u001b[0m\u001b[1;33m:\u001b[0m\u001b[1;33m\u001b[0m\u001b[0m\n\u001b[0;32m-> 1964\u001b[0;31m             \u001b[1;32mreturn\u001b[0m \u001b[0mself\u001b[0m\u001b[1;33m.\u001b[0m\u001b[0m_getitem_column\u001b[0m\u001b[1;33m(\u001b[0m\u001b[0mkey\u001b[0m\u001b[1;33m)\u001b[0m\u001b[1;33m\u001b[0m\u001b[0m\n\u001b[0m\u001b[1;32m   1965\u001b[0m \u001b[1;33m\u001b[0m\u001b[0m\n\u001b[1;32m   1966\u001b[0m     \u001b[1;32mdef\u001b[0m \u001b[0m_getitem_column\u001b[0m\u001b[1;33m(\u001b[0m\u001b[0mself\u001b[0m\u001b[1;33m,\u001b[0m \u001b[0mkey\u001b[0m\u001b[1;33m)\u001b[0m\u001b[1;33m:\u001b[0m\u001b[1;33m\u001b[0m\u001b[0m\n",
      "\u001b[0;32mC:\\Users\\Muhammad Umer\\Anaconda3\\lib\\site-packages\\pandas\\core\\frame.py\u001b[0m in \u001b[0;36m_getitem_column\u001b[0;34m(self, key)\u001b[0m\n\u001b[1;32m   1969\u001b[0m         \u001b[1;31m# get column\u001b[0m\u001b[1;33m\u001b[0m\u001b[1;33m\u001b[0m\u001b[0m\n\u001b[1;32m   1970\u001b[0m         \u001b[1;32mif\u001b[0m \u001b[0mself\u001b[0m\u001b[1;33m.\u001b[0m\u001b[0mcolumns\u001b[0m\u001b[1;33m.\u001b[0m\u001b[0mis_unique\u001b[0m\u001b[1;33m:\u001b[0m\u001b[1;33m\u001b[0m\u001b[0m\n\u001b[0;32m-> 1971\u001b[0;31m             \u001b[1;32mreturn\u001b[0m \u001b[0mself\u001b[0m\u001b[1;33m.\u001b[0m\u001b[0m_get_item_cache\u001b[0m\u001b[1;33m(\u001b[0m\u001b[0mkey\u001b[0m\u001b[1;33m)\u001b[0m\u001b[1;33m\u001b[0m\u001b[0m\n\u001b[0m\u001b[1;32m   1972\u001b[0m \u001b[1;33m\u001b[0m\u001b[0m\n\u001b[1;32m   1973\u001b[0m         \u001b[1;31m# duplicate columns & possible reduce dimensionality\u001b[0m\u001b[1;33m\u001b[0m\u001b[1;33m\u001b[0m\u001b[0m\n",
      "\u001b[0;32mC:\\Users\\Muhammad Umer\\Anaconda3\\lib\\site-packages\\pandas\\core\\generic.py\u001b[0m in \u001b[0;36m_get_item_cache\u001b[0;34m(self, item)\u001b[0m\n\u001b[1;32m   1643\u001b[0m         \u001b[0mres\u001b[0m \u001b[1;33m=\u001b[0m \u001b[0mcache\u001b[0m\u001b[1;33m.\u001b[0m\u001b[0mget\u001b[0m\u001b[1;33m(\u001b[0m\u001b[0mitem\u001b[0m\u001b[1;33m)\u001b[0m\u001b[1;33m\u001b[0m\u001b[0m\n\u001b[1;32m   1644\u001b[0m         \u001b[1;32mif\u001b[0m \u001b[0mres\u001b[0m \u001b[1;32mis\u001b[0m \u001b[1;32mNone\u001b[0m\u001b[1;33m:\u001b[0m\u001b[1;33m\u001b[0m\u001b[0m\n\u001b[0;32m-> 1645\u001b[0;31m             \u001b[0mvalues\u001b[0m \u001b[1;33m=\u001b[0m \u001b[0mself\u001b[0m\u001b[1;33m.\u001b[0m\u001b[0m_data\u001b[0m\u001b[1;33m.\u001b[0m\u001b[0mget\u001b[0m\u001b[1;33m(\u001b[0m\u001b[0mitem\u001b[0m\u001b[1;33m)\u001b[0m\u001b[1;33m\u001b[0m\u001b[0m\n\u001b[0m\u001b[1;32m   1646\u001b[0m             \u001b[0mres\u001b[0m \u001b[1;33m=\u001b[0m \u001b[0mself\u001b[0m\u001b[1;33m.\u001b[0m\u001b[0m_box_item_values\u001b[0m\u001b[1;33m(\u001b[0m\u001b[0mitem\u001b[0m\u001b[1;33m,\u001b[0m \u001b[0mvalues\u001b[0m\u001b[1;33m)\u001b[0m\u001b[1;33m\u001b[0m\u001b[0m\n\u001b[1;32m   1647\u001b[0m             \u001b[0mcache\u001b[0m\u001b[1;33m[\u001b[0m\u001b[0mitem\u001b[0m\u001b[1;33m]\u001b[0m \u001b[1;33m=\u001b[0m \u001b[0mres\u001b[0m\u001b[1;33m\u001b[0m\u001b[0m\n",
      "\u001b[0;32mC:\\Users\\Muhammad Umer\\Anaconda3\\lib\\site-packages\\pandas\\core\\internals.py\u001b[0m in \u001b[0;36mget\u001b[0;34m(self, item, fastpath)\u001b[0m\n\u001b[1;32m   3588\u001b[0m \u001b[1;33m\u001b[0m\u001b[0m\n\u001b[1;32m   3589\u001b[0m             \u001b[1;32mif\u001b[0m \u001b[1;32mnot\u001b[0m \u001b[0misnull\u001b[0m\u001b[1;33m(\u001b[0m\u001b[0mitem\u001b[0m\u001b[1;33m)\u001b[0m\u001b[1;33m:\u001b[0m\u001b[1;33m\u001b[0m\u001b[0m\n\u001b[0;32m-> 3590\u001b[0;31m                 \u001b[0mloc\u001b[0m \u001b[1;33m=\u001b[0m \u001b[0mself\u001b[0m\u001b[1;33m.\u001b[0m\u001b[0mitems\u001b[0m\u001b[1;33m.\u001b[0m\u001b[0mget_loc\u001b[0m\u001b[1;33m(\u001b[0m\u001b[0mitem\u001b[0m\u001b[1;33m)\u001b[0m\u001b[1;33m\u001b[0m\u001b[0m\n\u001b[0m\u001b[1;32m   3591\u001b[0m             \u001b[1;32melse\u001b[0m\u001b[1;33m:\u001b[0m\u001b[1;33m\u001b[0m\u001b[0m\n\u001b[1;32m   3592\u001b[0m                 \u001b[0mindexer\u001b[0m \u001b[1;33m=\u001b[0m \u001b[0mnp\u001b[0m\u001b[1;33m.\u001b[0m\u001b[0marange\u001b[0m\u001b[1;33m(\u001b[0m\u001b[0mlen\u001b[0m\u001b[1;33m(\u001b[0m\u001b[0mself\u001b[0m\u001b[1;33m.\u001b[0m\u001b[0mitems\u001b[0m\u001b[1;33m)\u001b[0m\u001b[1;33m)\u001b[0m\u001b[1;33m[\u001b[0m\u001b[0misnull\u001b[0m\u001b[1;33m(\u001b[0m\u001b[0mself\u001b[0m\u001b[1;33m.\u001b[0m\u001b[0mitems\u001b[0m\u001b[1;33m)\u001b[0m\u001b[1;33m]\u001b[0m\u001b[1;33m\u001b[0m\u001b[0m\n",
      "\u001b[0;32mC:\\Users\\Muhammad Umer\\Anaconda3\\lib\\site-packages\\pandas\\core\\indexes\\base.py\u001b[0m in \u001b[0;36mget_loc\u001b[0;34m(self, key, method, tolerance)\u001b[0m\n\u001b[1;32m   2442\u001b[0m                 \u001b[1;32mreturn\u001b[0m \u001b[0mself\u001b[0m\u001b[1;33m.\u001b[0m\u001b[0m_engine\u001b[0m\u001b[1;33m.\u001b[0m\u001b[0mget_loc\u001b[0m\u001b[1;33m(\u001b[0m\u001b[0mkey\u001b[0m\u001b[1;33m)\u001b[0m\u001b[1;33m\u001b[0m\u001b[0m\n\u001b[1;32m   2443\u001b[0m             \u001b[1;32mexcept\u001b[0m \u001b[0mKeyError\u001b[0m\u001b[1;33m:\u001b[0m\u001b[1;33m\u001b[0m\u001b[0m\n\u001b[0;32m-> 2444\u001b[0;31m                 \u001b[1;32mreturn\u001b[0m \u001b[0mself\u001b[0m\u001b[1;33m.\u001b[0m\u001b[0m_engine\u001b[0m\u001b[1;33m.\u001b[0m\u001b[0mget_loc\u001b[0m\u001b[1;33m(\u001b[0m\u001b[0mself\u001b[0m\u001b[1;33m.\u001b[0m\u001b[0m_maybe_cast_indexer\u001b[0m\u001b[1;33m(\u001b[0m\u001b[0mkey\u001b[0m\u001b[1;33m)\u001b[0m\u001b[1;33m)\u001b[0m\u001b[1;33m\u001b[0m\u001b[0m\n\u001b[0m\u001b[1;32m   2445\u001b[0m \u001b[1;33m\u001b[0m\u001b[0m\n\u001b[1;32m   2446\u001b[0m         \u001b[0mindexer\u001b[0m \u001b[1;33m=\u001b[0m \u001b[0mself\u001b[0m\u001b[1;33m.\u001b[0m\u001b[0mget_indexer\u001b[0m\u001b[1;33m(\u001b[0m\u001b[1;33m[\u001b[0m\u001b[0mkey\u001b[0m\u001b[1;33m]\u001b[0m\u001b[1;33m,\u001b[0m \u001b[0mmethod\u001b[0m\u001b[1;33m=\u001b[0m\u001b[0mmethod\u001b[0m\u001b[1;33m,\u001b[0m \u001b[0mtolerance\u001b[0m\u001b[1;33m=\u001b[0m\u001b[0mtolerance\u001b[0m\u001b[1;33m)\u001b[0m\u001b[1;33m\u001b[0m\u001b[0m\n",
      "\u001b[0;32mpandas\\_libs\\index.pyx\u001b[0m in \u001b[0;36mpandas._libs.index.IndexEngine.get_loc (pandas\\_libs\\index.c:5280)\u001b[0;34m()\u001b[0m\n",
      "\u001b[0;32mpandas\\_libs\\index.pyx\u001b[0m in \u001b[0;36mpandas._libs.index.IndexEngine.get_loc (pandas\\_libs\\index.c:5126)\u001b[0;34m()\u001b[0m\n",
      "\u001b[0;32mpandas\\_libs\\hashtable_class_helper.pxi\u001b[0m in \u001b[0;36mpandas._libs.hashtable.PyObjectHashTable.get_item (pandas\\_libs\\hashtable.c:20523)\u001b[0;34m()\u001b[0m\n",
      "\u001b[0;32mpandas\\_libs\\hashtable_class_helper.pxi\u001b[0m in \u001b[0;36mpandas._libs.hashtable.PyObjectHashTable.get_item (pandas\\_libs\\hashtable.c:20477)\u001b[0;34m()\u001b[0m\n",
      "\u001b[0;31mKeyError\u001b[0m: 'cetagory'"
     ]
    }
   ],
   "source": [
    "import plotly\n",
    "# connected=True means it will download the latest version of plotly javascript library.\n",
    "plotly.offline.init_notebook_mode(connected=True)\n",
    "import plotly.graph_objs as go\n",
    "\n",
    "import plotly.figure_factory as ff\n",
    "number_of_apps_in_category = data['cetagory'].value_counts().sort_values(ascending=True)\n",
    "\n",
    "data = [go.Pie(\n",
    "        labels = number_of_apps_in_category.index,\n",
    "        values = number_of_apps_in_category.values,\n",
    "        hoverinfo = 'label+value'\n",
    "    \n",
    ")]\n",
    "\n",
    "plotly.offline.iplot(data, filename='active_category')"
   ]
  },
  {
   "cell_type": "code",
   "execution_count": 14,
   "metadata": {},
   "outputs": [
    {
     "ename": "TypeError",
     "evalue": "list indices must be integers or slices, not str",
     "output_type": "error",
     "traceback": [
      "\u001b[0;31m---------------------------------------------------------------------------\u001b[0m",
      "\u001b[0;31mTypeError\u001b[0m                                 Traceback (most recent call last)",
      "\u001b[0;32m<ipython-input-14-e86ae93719c9>\u001b[0m in \u001b[0;36m<module>\u001b[0;34m()\u001b[0m\n\u001b[0;32m----> 1\u001b[0;31m \u001b[0mdetails\u001b[0m\u001b[1;33m=\u001b[0m\u001b[0mdata\u001b[0m\u001b[1;33m[\u001b[0m\u001b[0mdata\u001b[0m\u001b[1;33m[\u001b[0m\u001b[1;34m'app_name'\u001b[0m\u001b[1;33m]\u001b[0m\u001b[1;33m.\u001b[0m\u001b[0mstr\u001b[0m\u001b[1;33m.\u001b[0m\u001b[0mcontains\u001b[0m\u001b[1;33m(\u001b[0m\u001b[1;34m\"Snooker\"\u001b[0m\u001b[1;33m)\u001b[0m\u001b[1;33m]\u001b[0m\u001b[1;33m\u001b[0m\u001b[0m\n\u001b[0m",
      "\u001b[0;31mTypeError\u001b[0m: list indices must be integers or slices, not str"
     ]
    }
   ],
   "source": [
    "details=data[data['app_name'].str.contains(\"Snooker\")]"
   ]
  },
  {
   "cell_type": "code",
   "execution_count": 6,
   "metadata": {},
   "outputs": [
    {
     "data": {
      "text/html": [
       "<div>\n",
       "<style>\n",
       "    .dataframe thead tr:only-child th {\n",
       "        text-align: right;\n",
       "    }\n",
       "\n",
       "    .dataframe thead th {\n",
       "        text-align: left;\n",
       "    }\n",
       "\n",
       "    .dataframe tbody tr th {\n",
       "        vertical-align: top;\n",
       "    }\n",
       "</style>\n",
       "<table border=\"1\" class=\"dataframe\">\n",
       "  <thead>\n",
       "    <tr style=\"text-align: right;\">\n",
       "      <th></th>\n",
       "      <th>cetagory</th>\n",
       "      <th>app_name</th>\n",
       "      <th>app_id</th>\n",
       "      <th>reviews</th>\n",
       "      <th>rating</th>\n",
       "    </tr>\n",
       "  </thead>\n",
       "  <tbody>\n",
       "    <tr>\n",
       "      <th>0</th>\n",
       "      <td>Sports</td>\n",
       "      <td>Billiards City</td>\n",
       "      <td>com.billiards.city.pool.nation.club</td>\n",
       "      <td>Wonderfull App. Completed all 1020 levels, Ca...</td>\n",
       "      <td>5</td>\n",
       "    </tr>\n",
       "    <tr>\n",
       "      <th>1</th>\n",
       "      <td>Sports</td>\n",
       "      <td>Billiards City</td>\n",
       "      <td>com.billiards.city.pool.nation.club</td>\n",
       "      <td>It's good, I like the gameplay. Please change...</td>\n",
       "      <td>4</td>\n",
       "    </tr>\n",
       "    <tr>\n",
       "      <th>2</th>\n",
       "      <td>Sports</td>\n",
       "      <td>Billiards City</td>\n",
       "      <td>com.billiards.city.pool.nation.club</td>\n",
       "      <td>I really enjoyed this game until I saw one of...</td>\n",
       "      <td>1</td>\n",
       "    </tr>\n",
       "    <tr>\n",
       "      <th>3</th>\n",
       "      <td>Sports</td>\n",
       "      <td>Billiards City</td>\n",
       "      <td>com.billiards.city.pool.nation.club</td>\n",
       "      <td>PLEASE!!! Get rid of the odd shaped tables an...</td>\n",
       "      <td>1</td>\n",
       "    </tr>\n",
       "    <tr>\n",
       "      <th>4</th>\n",
       "      <td>Sports</td>\n",
       "      <td>Billiards City</td>\n",
       "      <td>com.billiards.city.pool.nation.club</td>\n",
       "      <td>Very easy game to play, and has actually give...</td>\n",
       "      <td>4</td>\n",
       "    </tr>\n",
       "  </tbody>\n",
       "</table>\n",
       "</div>"
      ],
      "text/plain": [
       "  cetagory        app_name                               app_id  \\\n",
       "0   Sports  Billiards City  com.billiards.city.pool.nation.club   \n",
       "1   Sports  Billiards City  com.billiards.city.pool.nation.club   \n",
       "2   Sports  Billiards City  com.billiards.city.pool.nation.club   \n",
       "3   Sports  Billiards City  com.billiards.city.pool.nation.club   \n",
       "4   Sports  Billiards City  com.billiards.city.pool.nation.club   \n",
       "\n",
       "                                             reviews  rating  \n",
       "0   Wonderfull App. Completed all 1020 levels, Ca...       5  \n",
       "1   It's good, I like the gameplay. Please change...       4  \n",
       "2   I really enjoyed this game until I saw one of...       1  \n",
       "3   PLEASE!!! Get rid of the odd shaped tables an...       1  \n",
       "4   Very easy game to play, and has actually give...       4  "
      ]
     },
     "execution_count": 6,
     "metadata": {},
     "output_type": "execute_result"
    }
   ],
   "source": [
    "data.head(5)"
   ]
  },
  {
   "cell_type": "code",
   "execution_count": 26,
   "metadata": {},
   "outputs": [
    {
     "data": {
      "image/png": "[encoded data removed]",
      "text/plain": [
       "<matplotlib.figure.Figure at 0xf7a5a59c50>"
      ]
     },
     "metadata": {},
     "output_type": "display_data"
    }
   ],
   "source": [
    "from matplotlib import pyplot\n",
    "%matplotlib inline\n",
    "import seaborn as sns\n",
    "y = data.rating\n",
    "fig, ax = pyplot.subplots(figsize=(15,5))\n",
    "ax.set_title(\"Most Given Rating\")\n",
    "ax = sns.countplot(y,label=\"Rating Count\",ax=ax,order=data.rating.value_counts().iloc[:10].index)  "
   ]
  },
  {
   "cell_type": "code",
   "execution_count": 4,
   "metadata": {
    "collapsed": true
   },
   "outputs": [],
   "source": [
    "from nltk.corpus import sentiwordnet as swn"
   ]
  },
  {
   "cell_type": "code",
   "execution_count": 35,
   "metadata": {
    "collapsed": true
   },
   "outputs": [],
   "source": [
    "import nltk\n",
    "a=swn.senti_synset('unhappy.a.3')"
   ]
  },
  {
   "cell_type": "code",
   "execution_count": 118,
   "metadata": {},
   "outputs": [
    {
     "ename": "ImportError",
     "evalue": "cannot import name '_astype_copy_false'",
     "output_type": "error",
     "traceback": [
      "\u001b[1;31m---------------------------------------------------------------------------\u001b[0m",
      "\u001b[1;31mImportError\u001b[0m                               Traceback (most recent call last)",
      "\u001b[1;32m<ipython-input-118-901009174098>\u001b[0m in \u001b[0;36m<module>\u001b[1;34m()\u001b[0m\n\u001b[1;32m----> 1\u001b[1;33m \u001b[1;32mfrom\u001b[0m \u001b[0mimblearn\u001b[0m\u001b[1;33m.\u001b[0m\u001b[0munder_sampling\u001b[0m \u001b[1;32mimport\u001b[0m \u001b[0mRandomUnderSampler\u001b[0m\u001b[1;33m\u001b[0m\u001b[0m\n\u001b[0m",
      "\u001b[1;32m~\\Anaconda3\\lib\\site-packages\\imblearn\\__init__.py\u001b[0m in \u001b[0;36m<module>\u001b[1;34m()\u001b[0m\n\u001b[0;32m     32\u001b[0m     \u001b[0mModule\u001b[0m \u001b[0mwhich\u001b[0m \u001b[0mallowing\u001b[0m \u001b[0mto\u001b[0m \u001b[0mcreate\u001b[0m \u001b[0mpipeline\u001b[0m \u001b[1;32mwith\u001b[0m \u001b[0mscikit\u001b[0m\u001b[1;33m-\u001b[0m\u001b[0mlearn\u001b[0m \u001b[0mestimators\u001b[0m\u001b[1;33m.\u001b[0m\u001b[1;33m\u001b[0m\u001b[0m\n\u001b[0;32m     33\u001b[0m \"\"\"\n\u001b[1;32m---> 34\u001b[1;33m \u001b[1;32mfrom\u001b[0m \u001b[1;33m.\u001b[0m \u001b[1;32mimport\u001b[0m \u001b[0mcombine\u001b[0m\u001b[1;33m\u001b[0m\u001b[0m\n\u001b[0m\u001b[0;32m     35\u001b[0m \u001b[1;32mfrom\u001b[0m \u001b[1;33m.\u001b[0m \u001b[1;32mimport\u001b[0m \u001b[0mensemble\u001b[0m\u001b[1;33m\u001b[0m\u001b[0m\n\u001b[0;32m     36\u001b[0m \u001b[1;32mfrom\u001b[0m \u001b[1;33m.\u001b[0m \u001b[1;32mimport\u001b[0m \u001b[0mexceptions\u001b[0m\u001b[1;33m\u001b[0m\u001b[0m\n",
      "\u001b[1;32m~\\Anaconda3\\lib\\site-packages\\imblearn\\combine\\__init__.py\u001b[0m in \u001b[0;36m<module>\u001b[1;34m()\u001b[0m\n\u001b[0;32m      3\u001b[0m \"\"\"\n\u001b[0;32m      4\u001b[0m \u001b[1;33m\u001b[0m\u001b[0m\n\u001b[1;32m----> 5\u001b[1;33m \u001b[1;32mfrom\u001b[0m \u001b[1;33m.\u001b[0m\u001b[0m_smote_enn\u001b[0m \u001b[1;32mimport\u001b[0m \u001b[0mSMOTEENN\u001b[0m\u001b[1;33m\u001b[0m\u001b[0m\n\u001b[0m\u001b[0;32m      6\u001b[0m \u001b[1;32mfrom\u001b[0m \u001b[1;33m.\u001b[0m\u001b[0m_smote_tomek\u001b[0m \u001b[1;32mimport\u001b[0m \u001b[0mSMOTETomek\u001b[0m\u001b[1;33m\u001b[0m\u001b[0m\n\u001b[0;32m      7\u001b[0m \u001b[1;33m\u001b[0m\u001b[0m\n",
      "\u001b[1;32m~\\Anaconda3\\lib\\site-packages\\imblearn\\combine\\_smote_enn.py\u001b[0m in \u001b[0;36m<module>\u001b[1;34m()\u001b[0m\n\u001b[0;32m      9\u001b[0m \u001b[1;33m\u001b[0m\u001b[0m\n\u001b[0;32m     10\u001b[0m \u001b[1;32mfrom\u001b[0m \u001b[1;33m.\u001b[0m\u001b[1;33m.\u001b[0m\u001b[0mbase\u001b[0m \u001b[1;32mimport\u001b[0m \u001b[0mBaseSampler\u001b[0m\u001b[1;33m\u001b[0m\u001b[0m\n\u001b[1;32m---> 11\u001b[1;33m \u001b[1;32mfrom\u001b[0m \u001b[1;33m.\u001b[0m\u001b[1;33m.\u001b[0m\u001b[0mover_sampling\u001b[0m \u001b[1;32mimport\u001b[0m \u001b[0mSMOTE\u001b[0m\u001b[1;33m\u001b[0m\u001b[0m\n\u001b[0m\u001b[0;32m     12\u001b[0m \u001b[1;32mfrom\u001b[0m \u001b[1;33m.\u001b[0m\u001b[1;33m.\u001b[0m\u001b[0mover_sampling\u001b[0m\u001b[1;33m.\u001b[0m\u001b[0mbase\u001b[0m \u001b[1;32mimport\u001b[0m \u001b[0mBaseOverSampler\u001b[0m\u001b[1;33m\u001b[0m\u001b[0m\n\u001b[0;32m     13\u001b[0m \u001b[1;32mfrom\u001b[0m \u001b[1;33m.\u001b[0m\u001b[1;33m.\u001b[0m\u001b[0munder_sampling\u001b[0m \u001b[1;32mimport\u001b[0m \u001b[0mEditedNearestNeighbours\u001b[0m\u001b[1;33m\u001b[0m\u001b[0m\n",
      "\u001b[1;32m~\\Anaconda3\\lib\\site-packages\\imblearn\\over_sampling\\__init__.py\u001b[0m in \u001b[0;36m<module>\u001b[1;34m()\u001b[0m\n\u001b[0;32m      6\u001b[0m \u001b[1;32mfrom\u001b[0m \u001b[1;33m.\u001b[0m\u001b[0m_adasyn\u001b[0m \u001b[1;32mimport\u001b[0m \u001b[0mADASYN\u001b[0m\u001b[1;33m\u001b[0m\u001b[0m\n\u001b[0;32m      7\u001b[0m \u001b[1;32mfrom\u001b[0m \u001b[1;33m.\u001b[0m\u001b[0m_random_over_sampler\u001b[0m \u001b[1;32mimport\u001b[0m \u001b[0mRandomOverSampler\u001b[0m\u001b[1;33m\u001b[0m\u001b[0m\n\u001b[1;32m----> 8\u001b[1;33m \u001b[1;32mfrom\u001b[0m \u001b[1;33m.\u001b[0m\u001b[0m_smote\u001b[0m \u001b[1;32mimport\u001b[0m \u001b[0mSMOTE\u001b[0m\u001b[1;33m\u001b[0m\u001b[0m\n\u001b[0m\u001b[0;32m      9\u001b[0m \u001b[1;32mfrom\u001b[0m \u001b[1;33m.\u001b[0m\u001b[0m_smote\u001b[0m \u001b[1;32mimport\u001b[0m \u001b[0mBorderlineSMOTE\u001b[0m\u001b[1;33m\u001b[0m\u001b[0m\n\u001b[0;32m     10\u001b[0m \u001b[1;32mfrom\u001b[0m \u001b[1;33m.\u001b[0m\u001b[0m_smote\u001b[0m \u001b[1;32mimport\u001b[0m \u001b[0mKMeansSMOTE\u001b[0m\u001b[1;33m\u001b[0m\u001b[0m\n",
      "\u001b[1;32m~\\Anaconda3\\lib\\site-packages\\imblearn\\over_sampling\\_smote.py\u001b[0m in \u001b[0;36m<module>\u001b[1;34m()\u001b[0m\n\u001b[0;32m     16\u001b[0m \u001b[1;33m\u001b[0m\u001b[0m\n\u001b[0;32m     17\u001b[0m \u001b[1;32mfrom\u001b[0m \u001b[0msklearn\u001b[0m\u001b[1;33m.\u001b[0m\u001b[0mbase\u001b[0m \u001b[1;32mimport\u001b[0m \u001b[0mclone\u001b[0m\u001b[1;33m\u001b[0m\u001b[0m\n\u001b[1;32m---> 18\u001b[1;33m \u001b[1;32mfrom\u001b[0m \u001b[0msklearn\u001b[0m\u001b[1;33m.\u001b[0m\u001b[0mcluster\u001b[0m \u001b[1;32mimport\u001b[0m \u001b[0mMiniBatchKMeans\u001b[0m\u001b[1;33m\u001b[0m\u001b[0m\n\u001b[0m\u001b[0;32m     19\u001b[0m \u001b[1;32mfrom\u001b[0m \u001b[0msklearn\u001b[0m\u001b[1;33m.\u001b[0m\u001b[0mmetrics\u001b[0m \u001b[1;32mimport\u001b[0m \u001b[0mpairwise_distances\u001b[0m\u001b[1;33m\u001b[0m\u001b[0m\n\u001b[0;32m     20\u001b[0m \u001b[1;32mfrom\u001b[0m \u001b[0msklearn\u001b[0m\u001b[1;33m.\u001b[0m\u001b[0mpreprocessing\u001b[0m \u001b[1;32mimport\u001b[0m \u001b[0mOneHotEncoder\u001b[0m\u001b[1;33m\u001b[0m\u001b[0m\n",
      "\u001b[1;32m~\\Anaconda3\\lib\\site-packages\\sklearn\\cluster\\__init__.py\u001b[0m in \u001b[0;36m<module>\u001b[1;34m()\u001b[0m\n\u001b[0;32m      8\u001b[0m                           estimate_bandwidth, get_bin_seeds)\n\u001b[0;32m      9\u001b[0m \u001b[1;32mfrom\u001b[0m \u001b[1;33m.\u001b[0m\u001b[0maffinity_propagation_\u001b[0m \u001b[1;32mimport\u001b[0m \u001b[0maffinity_propagation\u001b[0m\u001b[1;33m,\u001b[0m \u001b[0mAffinityPropagation\u001b[0m\u001b[1;33m\u001b[0m\u001b[0m\n\u001b[1;32m---> 10\u001b[1;33m from .hierarchical import (ward_tree, AgglomerativeClustering, linkage_tree,\n\u001b[0m\u001b[0;32m     11\u001b[0m                            FeatureAgglomeration)\n\u001b[0;32m     12\u001b[0m \u001b[1;32mfrom\u001b[0m \u001b[1;33m.\u001b[0m\u001b[0mk_means_\u001b[0m \u001b[1;32mimport\u001b[0m \u001b[0mk_means\u001b[0m\u001b[1;33m,\u001b[0m \u001b[0mKMeans\u001b[0m\u001b[1;33m,\u001b[0m \u001b[0mMiniBatchKMeans\u001b[0m\u001b[1;33m\u001b[0m\u001b[0m\n",
      "\u001b[1;32m~\\Anaconda3\\lib\\site-packages\\sklearn\\cluster\\hierarchical.py\u001b[0m in \u001b[0;36m<module>\u001b[1;34m()\u001b[0m\n\u001b[0;32m     23\u001b[0m \u001b[1;32mfrom\u001b[0m \u001b[1;33m.\u001b[0m\u001b[0m_feature_agglomeration\u001b[0m \u001b[1;32mimport\u001b[0m \u001b[0mAgglomerationTransform\u001b[0m\u001b[1;33m\u001b[0m\u001b[0m\n\u001b[0;32m     24\u001b[0m \u001b[1;32mfrom\u001b[0m \u001b[1;33m.\u001b[0m\u001b[1;33m.\u001b[0m\u001b[0mutils\u001b[0m\u001b[1;33m.\u001b[0m\u001b[0mfast_dict\u001b[0m \u001b[1;32mimport\u001b[0m \u001b[0mIntFloatDict\u001b[0m\u001b[1;33m\u001b[0m\u001b[0m\n\u001b[1;32m---> 25\u001b[1;33m \u001b[1;32mfrom\u001b[0m \u001b[1;33m.\u001b[0m\u001b[1;33m.\u001b[0m\u001b[0mutils\u001b[0m\u001b[1;33m.\u001b[0m\u001b[0mfixes\u001b[0m \u001b[1;32mimport\u001b[0m \u001b[0m_astype_copy_false\u001b[0m\u001b[1;33m\u001b[0m\u001b[0m\n\u001b[0m\u001b[0;32m     26\u001b[0m \u001b[1;32mfrom\u001b[0m \u001b[1;33m.\u001b[0m\u001b[1;33m.\u001b[0m\u001b[0mutils\u001b[0m \u001b[1;32mimport\u001b[0m \u001b[0mdeprecated\u001b[0m\u001b[1;33m\u001b[0m\u001b[0m\n\u001b[0;32m     27\u001b[0m \u001b[1;33m\u001b[0m\u001b[0m\n",
      "\u001b[1;31mImportError\u001b[0m: cannot import name '_astype_copy_false'"
     ]
    }
   ],
   "source": [
    "from imblearn.under_sampling import RandomUnderSampler"
   ]
  },
  {
   "cell_type": "code",
   "execution_count": 27,
   "metadata": {
    "collapsed": true
   },
   "outputs": [],
   "source": [
    "STOPWORDS = set(stopwords.words('english'))\n",
    "appsentiments=[]\n",
    "for i in range(len(data)):\n",
    "        if data['app_id'][i]=='com.vectorunit.purple.googleplay':\n",
    "            review = re.sub('[^a-zA-Z]', ' ',data['reviews'][i])\n",
    "            review = re.sub('[/(){}\\[\\]\\|@!,;]', ' ',data['reviews'][i])\n",
    "            review = re.sub('[^0-9a-zA-Z #+_♥️]', ' ',data['reviews'][i])#Remove bad symbols\n",
    "            review = re.sub(r'\\d+', '',review)\n",
    "            review = review.lower()\n",
    "            review = review.split()\n",
    "\n",
    "            review = [token for token in review if token not in STOPWORDS]\n",
    "            review=' '.join(review)\n",
    "            appsentiments.append(review)"
   ]
  },
  {
   "cell_type": "code",
   "execution_count": 24,
   "metadata": {},
   "outputs": [
    {
     "name": "stdout",
     "output_type": "stream",
     "text": [
      "4.618973214285714\n"
     ]
    }
   ],
   "source": [
    "count=0\n",
    "values=0\n",
    "for i in range(len(data)):\n",
    "    if data['app_id'][i]=='com.vectorunit.purple.googleplay':\n",
    "        values=values+1\n",
    "        #print(data['rating'][i])\n",
    "        count =count+data['rating'][i]\n",
    "print(count/values)"
   ]
  },
  {
   "cell_type": "code",
   "execution_count": 37,
   "metadata": {},
   "outputs": [
    {
     "data": {
      "text/plain": [
       "4480"
      ]
     },
     "execution_count": 37,
     "metadata": {},
     "output_type": "execute_result"
    }
   ],
   "source": [
    "values"
   ]
  },
  {
   "cell_type": "code",
   "execution_count": 94,
   "metadata": {
    "collapsed": true
   },
   "outputs": [],
   "source": [
    "STOPWORDS = set(stopwords.words('english'))\n",
    "Reviews=[]\n",
    "for i in range(len(data)):\n",
    "    review = re.sub('[^a-zA-Z]', ' ',data['reviews'][i])\n",
    "    review = re.sub('[/(){}\\[\\]\\|@!,;]', ' ',data['reviews'][i])\n",
    "    review = re.sub('[^0-9a-zA-Z #+_♥️]', ' ',data['reviews'][i])#Remove bad symbols\n",
    "    review = re.sub(r'\\d+', '',review)\n",
    "    review = review.lower()\n",
    "    review = review.split()\n",
    "\n",
    "    review = [token for token in review if token not in STOPWORDS]\n",
    "    review=' '.join(review)\n",
    "    Reviews.append(review)"
   ]
  },
  {
   "cell_type": "code",
   "execution_count": 7,
   "metadata": {},
   "outputs": [
    {
     "data": {
      "text/plain": [
       "['wonderfull app completed levels wait levels level bug get around complete touching two ballt lower left side rail let hand pick wise disappear rail great game loved',\n",
       " 'good like gameplay please change music gets repetitive nd level hear track loop start way many ads also please make mode could break balls instead always levels shoot random balls',\n",
       " 'really enjoyed game saw one adverts throughout ngame man woman spooning hardly appropriate young nchildren see want play innocent game pool nreally todays day age children exposed things ni deleting game hope find one innocence nmind',\n",
       " 'please get rid odd shaped tables go back classic table please fix level balls cue stick disappear table making impossible continue otherwise great game disappointing unable continue end',\n",
       " 'easy game play actually given pointers play nreal game pool like hit cue ball angle place nthe cue stick complaint really ninstructions say acquiring hearts coins points',\n",
       " 'going lie started playing game probably hours ago thoroughly addicted pretty awesome game girl tried taking game attacked like pit bull double fivestar triple thumbs yay',\n",
       " 'level lower left cushion let ball disappear nothingness nafter striking ball seen different edges screen nno way finish level weird fix',\n",
       " 'people balls stop time wont let ball go pocket hand table control game que ball scrach beating game good game controls game good shooter trays make miss pocket',\n",
       " 'gameplay fun graphics good lot levels however number ads insane paid version bothered ads usually try free versions determine game worth buying one seem',\n",
       " 'great game get level starts shooting balls screen see play anymore really fix problem',\n",
       " 'wanted thank supervisors n creator n n charge whatever powers days complaint longer interrupted mid shot advertising ple refer game friends thank listening adam',\n",
       " 'pool player good app find helps using different english techniques control ball well learning various shots encountered league struggled need practice good app',\n",
       " 'wanted basic billiards game redundant tutorial level system totally unecessary map thing show progress weird pool tables political ads galore stop',\n",
       " 'installed game even play game load would shut waste time really wanted play give another review actually works',\n",
       " 'really enjoyed older version alot odd ball ntables aggravating enjoyable know called nbut definitely billards use play hours time nevery',\n",
       " 'really like game certain point normal billiard table changed crooked one hard play game since consider bended corners table hit billiard balls wish could changed back normal billiard table',\n",
       " 'pretty decent game way many ads made watch second video every time wanted retry table thanks unfortunate actually liked',\n",
       " 'level til problem levels balls keep disappearing table way win even keep playing fix pls want take game phone',\n",
       " 'first trouble getting pass level learned uamp level great game finish levels total go back replay levels level bank shots',\n",
       " 'best pool game except try manuver cue left side close power controls shoots barely touch power control trying move cue around annoying thing ever great',\n",
       " 'definitely good game looking kill time play pool graphics point game play hey folks made game next update make u make online play play live players around globe peace',\n",
       " 'level balls well cue ball ends table uamp able complete level otherwise great game play',\n",
       " 'tried bunch pool games always sensitive confusing game awesome abt lettin ya get hang things tossing next level far keepin game phone',\n",
       " 'got games sudden balls would disappear near side rail seen side far rail game screen way reaching q ball leave table love game',\n",
       " 'game cheats know balls defy laws physics cue ball scratches know',\n",
       " 'way way way many ads including second ones dismiss uninstalled minutes',\n",
       " 'game amazing also addictive entertaining nis game anyone likes play games adjust ndirection anything throw roll anything else',\n",
       " 'still put new levels freeze startup period sometimes minute plus keep cache clear hi end phone',\n",
       " 'game good choice disable rays indicator ball goes without helper arrow game would difficult realistic level maybe advanced helper rays disappear maybe',\n",
       " 'plz check stage working properly unable play stage ball automatically get outside table',\n",
       " 'say game stressful u complete game white ball goes hole u lives left u fail even though white ball went hole one u first got hole hate game could would rate zero stars fix level',\n",
       " 'lot ad pass free time youll never get bore last level completed game waiting next update since long update last level',\n",
       " 'one balls disappears hit ball side rails hit balls table empty game lost ball want let game round round mess',\n",
       " 'h e dumbass weird pool table shapes please give us back standard pool tables give us option controls',\n",
       " 'level balls bottom left table disappearing without going hope makes lose game see make last shots',\n",
       " 'good game nice easy play many ads really love tables awesome wish could upgrade kind tricks maybe later game around good pool game make part ill waiting',\n",
       " 'omg got enough ads top inappropriate ones two adults spooning yeah need kids watch much deleted',\n",
       " 'far simplest uncomplicated awesome bestest game pool played mobile platform got hooked since minute downloaded yesterday already reached level thanx keeping game simple devs great work',\n",
       " 'competitive u aint challenging opponent cup championship jus routine stages makes boring jus graphics dope',\n",
       " 'like much balls started sinking side rails uninstalled chose pool got one back back want pool billiards time',\n",
       " 'one made absolutely good keep making mewati function many levels finished tired playing games game good',\n",
       " 'hate bimbo ad care ads women shaking',\n",
       " 'u r greedy many ads son seconds hating game uninstalling u continue many ads u end tens users including urslef',\n",
       " 'first versions actually useful used real table easily see later versions another typical app lifetime designed game user developer pretty trimmings',\n",
       " 'fun game level game glitching really bad let pass next level know going guys need fix',\n",
       " 'cue gets close trgger cue fires finished adjusting button placed away table would give accurate trigger point',\n",
       " 'ads ads ads popping crashing game mention odd shaped tables really billiards rather arcade like',\n",
       " 'great game except cue draw wrong place setting shot keep shooting accidental touch',\n",
       " 'game best world think game always game best super really happen game level completely online level two days intelligent mind',\n",
       " 'even u pool table around u u still enjoy game nwith realistic physics really good game awesome',\n",
       " 'billiards city much like geometry actual round pool help love started playing already hooked',\n",
       " 'love billiards game pretty close real thing far physics goes could better play almost daily thanks',\n",
       " 'would star work balls keep flying table days still please help',\n",
       " 'want fix problem level three balls going table play stage let know fast',\n",
       " 'fun game bad kyrsten sinema prostitution add every level uninstalling',\n",
       " 'finished level addictive game pls download disappointed bcz beginning till end lvl till boring advert',\n",
       " 'plays death game glitches level balls roll table bottom bumpers',\n",
       " 'good game level balls fall table bottom table side solid except great challenging game',\n",
       " 'lot fun loads really fast play wait forever opponent take turn',\n",
       " 'enjoy playing app creators could change aspects though would like play real game pool rules etc apps let play online opponent opponent generated app actually playing competition rather potting balls non stop enjoy pool enjoy app',\n",
       " 'awesome game sure keeps uninstall go plus dont like weird pool tables thats classic',\n",
       " 'easy enjoyable play exceptthe co game keeps putting white ball unneccesarily forcing one watch video pvideo pleaseremedythis tthank',\n",
       " 'even get game kicks loading screen half star could',\n",
       " 'awkward get cue position times fault ads minor irritation',\n",
       " 'level got pool balls side roll nthe game finish level please fix',\n",
       " 'really fun play play enjoy playing google ads every round aggravating',\n",
       " 'many ads always popping disturbs music disruption going delete soon',\n",
       " 'graphics great gameplay great something wrong game oh yeah online gamers game best game ever online gamers otherwise game rubbish',\n",
       " 'addictive game challenging like playing real game recommend friends good graphic back day used play pool good game brings back memories',\n",
       " 'game fun play ads added every level played delete game writing review',\n",
       " 'fun game problems game got level balls would disappear screen could finish level',\n",
       " 'need entertaining health soothing brings nmy pressure keeps focused please tell go past nlevel',\n",
       " 'thing would improve game could betwo player games ball could followed took shot birds eye view',\n",
       " 'game really good equally interesting multi player would given stars vs computer vs friends well',\n",
       " 'game play excellent area trouble logging account devices',\n",
       " 'love great way kill time instead watching mindless tv nice graphics music thank',\n",
       " 'great game obviously room improvement especially comes giving bonus think give countdown bonus take',\n",
       " 'rekha amma appa amma appa amma house gone game ft game game game game game game game game game released game thrones good morning go house amma house ft shool first one love appa amma appa rao road amma thrones stills appa appa rao nagar hyderabad',\n",
       " 'please fix level balls bottom go table hit',\n",
       " 'addictive easy control strategize whenever play actual game pool real life super fun helps angle shots precisely get better real game',\n",
       " 'ball pool give balls get pockets',\n",
       " 'suck pool table costs money play poorly guess means realistic billiards experience kinda enjoy app',\n",
       " 'good game excellent physics thing uncomfortable game garish home screen billiards elegant game home screen match grandeur game',\n",
       " 'really used enjoy game fix level balls disappearing table move forward uninstalling',\n",
       " 'loved game level since stupid shaped tables appeared nhaven played delete',\n",
       " 'absolutely love game first like way easy progress like hold wait min actually starting get challenging love game',\n",
       " 'fun ads started playing game literally every shot sometimes shot uninstalled real quick sure review show',\n",
       " 'west ur data download app worst game ever two time download game game open heted thi game',\n",
       " 'game great graphics realistic action function cue nstick however little squirrelly still lots fun',\n",
       " 'problem game balls disappear bottom frame able proceed beyond',\n",
       " 'reached level working properly control stick see white ball',\n",
       " 'realy like got level stopped finished next level start next',\n",
       " 'one greatest app get moment start playing stop love',\n",
       " 'time wasted time download open game putang ena',\n",
       " 'love game one favorite real life activities playing pool nights week enjoy playing game lot nice feel',\n",
       " 'great graphics bright vibrant like two player actual game pool rather gives feel practice mode',\n",
       " 'game relax love keep games guys download game n another thing game many ads',\n",
       " 'level bug makes balls come table making hard complete level',\n",
       " 'much advertising every time retry next level another ad anoying never click ad',\n",
       " 'nice one thing wana sugesst u limited game multiplayer chalange online playing system like ball pool every level game type sequence balls arrangements boring sometime also thats way give stars unlike overall good thinking good production exelent',\n",
       " 'awesome game easy use addictive played offline many levels need currency options spend anything skills variety levels awesome game best pool game',\n",
       " 'game kind boring much terms challenge advertising entertaining game',\n",
       " 'loved game however fluidity moving cue stick could better somehow feels heavy move desired position',\n",
       " 'dump app multi player even computer compete levels told wanted levels long like river nile full different ads ads let enjoy game self',\n",
       " 'like game really ad every single game annoying',\n",
       " 'audio forced ads make unusable thinking',\n",
       " 'good game level error graphics able compete ball disappear table edge kindly rectify',\n",
       " 'game cheats way many advertisements line shot still misses',\n",
       " 'billiard city one addictive pool shooters ever played physics shots near perfect granted simply shoot balls occasionally goofy tables hate z shaped table table table think get boring keeps getting better uamp better try starting bc anonymous groups soon addiction scary',\n",
       " 'name aruni anand age years liked game much share friends',\n",
       " 'great game good play gets challenging progress please change music would great add colour table levels',\n",
       " 'first time addictive game really love good job guys thanks',\n",
       " 'great game good table needs cue options better challenge game play friends',\n",
       " 'great app pass time addictive completed levels ads annoying',\n",
       " 'lots ads great game wish directional lines balls longer',\n",
       " 'many adds every table makes want uninstall whole thing',\n",
       " 'good game stop add every stroke bcz difficult nconcentrate play game',\n",
       " 'game nice million ads killing ads start popping even enter game',\n",
       " 'levels good game good graphic enough levels please add fix problem',\n",
       " 'awesome go got ir go',\n",
       " 'enjoyed game level balls wall going wall finish round',\n",
       " 'lovely addictive game downloaded stop playing love',\n",
       " 'think may interesting realistic also clue hint available players also designed realistic money earnings sources',\n",
       " 'love game level hope still waiting see next chapter',\n",
       " 'game best beginners easily learn pot ball help play balls snooker',\n",
       " 'bad game bha phaltu kat la tha ha point',\n",
       " 'good time killer gets bit repetitive quickly good snooker buffs',\n",
       " 'always love pool one even better get play specially winter',\n",
       " 'game aap superb means amazing game really like game aap love much much',\n",
       " 'like game like app want play ball competition app greatest graphics seen video game billiards',\n",
       " 'open try play always closed automatically',\n",
       " 'game good enjoyed lot one problem add every game plz work',\n",
       " 'little waste time good uamp time pass many ads coming nirritated',\n",
       " 'game ok full billiards game good kill time',\n",
       " 'many ads one level try means every nseconds watching ad download',\n",
       " 'kiss ass billiards game everyone needs try',\n",
       " 'hate music challenge need aiming thing',\n",
       " 'played number times never get bored',\n",
       " 'get started hard addictive game put love recommend',\n",
       " 'great game bug level prevents playing fun game please fix',\n",
       " 'level gets annoying repetitive',\n",
       " 'adds come loud mute',\n",
       " 'highly recommened makes ball pool look bad',\n",
       " 'ball goes table anybody play ball table saying level',\n",
       " 'sometimes get free ball sunk glove takes best shot',\n",
       " 'entirely many advertising advertisers get way playing',\n",
       " 'amazing yaar really like game lot cool awesome enjoy game much',\n",
       " 'great pool game good trick shots challenging trying pot balls without miss different types pool tables great game',\n",
       " 'nivel las bolas se salen de la mesa desaparecen por lo tanto se puede avanzar de nivel',\n",
       " 'nice easy time waster music annoying cue control bit erratic overall pretty good',\n",
       " 'good challenging game accuracy movements graphics really great rebounds sound effects spot like game',\n",
       " 'game soo stupid point playing incentive continue playing',\n",
       " 'much ads good game great cualidy like im playing real life',\n",
       " 'boring game mai install kr k phs gaya dont install',\n",
       " 'nice game also one thing connect friends also',\n",
       " 'n',\n",
       " 'like wish line travel went ball hole',\n",
       " 'chance get n game chance game play bullet',\n",
       " 'fun pressure anyone computer learning position stick hit ball hard soft enough fun',\n",
       " 'amongst paraphernalia high stress apps relax zone',\n",
       " 'game good insert practice module customizable',\n",
       " 'like game much want tell music good plzz change music game awesome',\n",
       " 'like game ad volumes keep cutting music get rid nthese ads bruh',\n",
       " 'rack em wouuld like break',\n",
       " 'game bad dowload poor game',\n",
       " 'bad thought play match computer person looks like pot balls play match',\n",
       " 'really cool game needs able play eightball nineball games one self',\n",
       " 'beautifully laid addictive best kind well done',\n",
       " 'load bollocks ball potting adverts controls dodgy also',\n",
       " 'think challenging levels game easy levels looking forward levels',\n",
       " 'please fix round ball error',\n",
       " 'good grafix good control worst ads never get level ads',\n",
       " 'far better ball pool miniclip tension loosing coins enjoy shots',\n",
       " 'good adds headache every level play days uninstall game unnecessary adds thk u',\n",
       " 'make u loose one heart instead two add power ups obstacle power ups make tricky',\n",
       " 'good game levels matches',\n",
       " 'gameplay decent ad everything use blocker otherwise skip game',\n",
       " 'like game interesting real pool player think everyone else going enjoy well',\n",
       " 'way many adverts makes hard play interest',\n",
       " 'game makes think strategy able make combos bank shots enjoying game',\n",
       " 'great game ever played challenges category much adds also hope fixed',\n",
       " 'amazing game many ads also interesting love game lot',\n",
       " 'game gets boring tables turn back normal configuration around level +',\n",
       " 'one time favorite games play game helps teach son play loves',\n",
       " 'game sucks worth time play',\n",
       " 'tried several pool games best far',\n",
       " 'brilliant game sometimes boring also sister really good game',\n",
       " 'like game many times ads please',\n",
       " 'many goddamn pop ups every f minute even play comfortable without f pop coming every f seconds f game f pop ups uninstalling',\n",
       " 'enjoyed playing game hate commercials',\n",
       " 'good make online connection game better',\n",
       " 'started playing addictive nice graphics thanks designers making',\n",
       " 'feel great game play different',\n",
       " 'challenges u play alone scoring non stop levels',\n",
       " 'addicting game good way kill unnecessary time waiting',\n",
       " 'great fun like real pool great practice',\n",
       " 'one hell game love addictive fun play',\n",
       " 'stuck level level',\n",
       " 'want table design',\n",
       " 'love game good time play game',\n",
       " 'nice game hv option play friends online',\n",
       " 'almost like real thing surprised',\n",
       " 'boring really fedup game',\n",
       " 'nice game addictive althought make match great game',\n",
       " 'sangat best saya suka sangat game ni thanks mountain games',\n",
       " 'really fun would fun play friends people around world',\n",
       " 'good relaxing game playing real billiard pool game',\n",
       " 'level black hole glitch lower lftrail',\n",
       " 'like game much wonderful game im enjoying told many friends',\n",
       " 'many ads dodgy ones much random pool game',\n",
       " 'want turn que might accidently use power bar',\n",
       " 'great room develop skills easy never impossibly hard',\n",
       " 'good game got level malfunctions balls outside table',\n",
       " 'love new whack tables makes great challenge',\n",
       " 'addictive fun game play also relaxing',\n",
       " 'beautiful app nice graphics good game like much',\n",
       " 'zero complaints one fun addictive',\n",
       " 'awesome game easier play ball pool',\n",
       " 'wish trick shots ecplaination someyhing tto show howt',\n",
       " 'good app useful app refreshes mind please download game please request',\n",
       " 'nice stop play level level',\n",
       " 'creat game completed levels please levels',\n",
       " 'great game let get past level frustrating',\n",
       " 'terrible game wants go homeless',\n",
       " 'repetitive much way challenge',\n",
       " 'th level add pops every shot pool game advertising agency',\n",
       " 'good game controls easy love game',\n",
       " 'lovely game completed level hard',\n",
       " 'great app hate ads',\n",
       " 'okay study game figure',\n",
       " 'wow best game ever seen',\n",
       " 'brilliant gameplay graphics etc thing like ads',\n",
       " 'fiddly controls silly shaped tables loudest adds possible',\n",
       " 'great game frequancy adds become annoying',\n",
       " 'game fun really passes time like believe',\n",
       " 'love game easy play nice game',\n",
       " 'really enjoy simple game pool like real pool aiming',\n",
       " 'really unswer dream enjoying game much',\n",
       " 'addictii n time consuming keep guys',\n",
       " 'game addicting lose track time',\n",
       " 'pretty much expect ads every minutes',\n",
       " 'game fun sometimes quite match pool logic',\n",
       " 'pool app interesting critically',\n",
       " 'addictive game stopi stop playing',\n",
       " 'sudah habis level nya buat apa mulai dari awal lagi',\n",
       " 'game got clearest view also goodbgame improve skills',\n",
       " 'good graphics entertaining keeps mind toes relaxes',\n",
       " 'awesome simply fun game please update game',\n",
       " 'way realistic pool games mad easier entertaining addicting',\n",
       " 'good idea put upgrades game put needs worked',\n",
       " 'like game interesting game clear levels',\n",
       " 'good game really like want many game',\n",
       " 'well like different style tables pay attention balls placed one shot could clear table',\n",
       " 'stages r timepass interesting game',\n",
       " 'love game gets challenging fun',\n",
       " 'good graphics gameplay liked game much challenging interesting best gameplay',\n",
       " 'completed levels awsum game loved level bug u cross dat everything easy complete',\n",
       " 'nice game please create something like powers achievements',\n",
       " 'fun game hard yet anyways lol',\n",
       " 'amazing game develop self mind never ever give',\n",
       " 'like balls disappears threw rails',\n",
       " 'interesting like',\n",
       " 'like game graphics low mb',\n",
       " 'one best pool games ever played',\n",
       " 'best teaching tool far billiards ago found ever',\n",
       " 'like real thing thanks',\n",
       " 'needs clarity nice addicting',\n",
       " 'addict one crossed level days',\n",
       " 'nice game controls good time killer',\n",
       " 'fun entertaint game level still want continue next level stuck',\n",
       " 'game lovely surpassed initial expectation',\n",
       " 'thanks ry much fir relaxation game keeps troubles',\n",
       " 'nice nice game like much like happy game',\n",
       " 'love game graphics good much adds',\n",
       " 'really good never thought billiards could interesting',\n",
       " 'boring game please add online matches',\n",
       " 'best pool game found',\n",
       " 'like game got biggie level reload memes starting',\n",
       " 'think dad would love game',\n",
       " 'even let open dam app',\n",
       " 'nice relaxing game could less adverts otherwise would given five stars',\n",
       " 'like game much becase game usefull game us nthis game internatinal game',\n",
       " 'make vs cpu mode otherwise good time pass',\n",
       " 'multiplayer',\n",
       " 'game fine would like much better turn music player',\n",
       " 'nice gave lives became difficult',\n",
       " 'beautiful game thank great deal stress',\n",
       " 'controls touchy would perfect phone pool game',\n",
       " 'fun would love propper pvp mode',\n",
       " 'lot adds disturbance',\n",
       " 'connected play games account',\n",
       " 'thought good',\n",
       " 'lavel done update please lavels',\n",
       " 'good game chillax',\n",
       " 'helps improve real game enjoy',\n",
       " 'time killing game nice',\n",
       " 'stop going pack finish next levels great job well done',\n",
       " 'love ball shot physics needs pvsp area play',\n",
       " 'since suck real pool love app complaints play hrs makes happy',\n",
       " 'wish could break',\n",
       " 'fun game good controls levels repetitive though',\n",
       " 'great fun could easily kill couple hours game addictive',\n",
       " 'good game us',\n",
       " 'reason wrote stop asking',\n",
       " 'think good keeps da mind things',\n",
       " 'nice game challenge one player makes boring',\n",
       " 'far many ads',\n",
       " 'finished level exactly month wait levels great job',\n",
       " 'like playing alone get better view game glad option others force play opponent',\n",
       " 'addictive like game alot',\n",
       " 'addictive fun rewarding way pass time',\n",
       " 'absolutely brilliant game thing could less ads',\n",
       " 'gusta es sencillo desafiante al mismo tiempo',\n",
       " 'would star adverts joke',\n",
       " 'real pool game shooting balls pockets',\n",
       " 'good fun game pass time',\n",
       " 'great game play love game ame',\n",
       " 'nice better formal',\n",
       " 'finished redownloaded times games finish like',\n",
       " 'awkward aiming miniclips ball much better',\n",
       " 'really fun requires skill luck like',\n",
       " 'amazing game addicted',\n",
       " 'different city scene instead repeated one throughout levels would nice',\n",
       " 'great game ruined fukcing adverts',\n",
       " 'really like done levels always something improve like background music add levels thank',\n",
       " 'like pool good way get skills',\n",
       " 'nice game girl love',\n",
       " 'graphics good easy follow rules',\n",
       " 'thank much',\n",
       " 'love game addicting',\n",
       " 'many advertisements game play could better option playing simple ball game',\n",
       " 'best game ever made offline awesome cool amazingly fun like shooting actual pool lots lots',\n",
       " 'great game got level iphone game stopped working',\n",
       " 'able open',\n",
       " 'hate game much',\n",
       " 'unable play opponent',\n",
       " 'hate new version game',\n",
       " 'good game amount ads completely ruin',\n",
       " 'crashes game loads',\n",
       " 'like studying exam helps alot',\n",
       " 'super entertaining fun great time killer',\n",
       " 'nice game sometimes addicted',\n",
       " 'adds every minut anoying hell unplayable',\n",
       " 'game fun really helps time fly',\n",
       " 'graphics good game fun addictive controls suck bit',\n",
       " 'great game many ads fun way pass time',\n",
       " 'need one play use money every min get bucks',\n",
       " 'really good control shots',\n",
       " 'loved play',\n",
       " 'game good time pass',\n",
       " 'pool player really like game graphics almost like playing pool real great job developers',\n",
       " 'would like play people',\n",
       " 'nice game fabulous marvellous time passes faster',\n",
       " 'awesome mission',\n",
       " 'good game levels r easy',\n",
       " 'game even load installed',\n",
       " 'love game adverts really annoy version buy stop',\n",
       " 'play close real',\n",
       " 'good game spend time',\n",
       " 'good game levels',\n",
       " 'time consuming',\n",
       " 'game brain wont match',\n",
       " 'became disinteresting change shape pool table',\n",
       " 'must bi old perfact players new commers bi tips ftsh commets',\n",
       " 'nice game advertisement bad',\n",
       " 'thanks like wish english application hum better maybe different area enjoyed',\n",
       " 'completed levels loved every minute thanks',\n",
       " 'many ads',\n",
       " 'complicated first time players refreshing end goal tofinish defeat opponent',\n",
       " 'good game play addictive',\n",
       " 'release lite version weaker smart phones',\n",
       " 'play games game work',\n",
       " 'best billiards game played platform',\n",
       " 'new cant figure im saposed thought pool game need work instructions',\n",
       " 'good game ur bored',\n",
       " 'good thing game open',\n",
       " 'played every level level ends game',\n",
       " 'entertaining improves skills real game love',\n",
       " 'good game bit boring',\n",
       " 'bad game',\n",
       " 'great game beginner advance',\n",
       " 'pool pool isnt game nice work guys',\n",
       " 'good game love learning alot',\n",
       " 'many ads love game',\n",
       " 'many ads beginning ads get ton',\n",
       " 'excellent game issues best new bees',\n",
       " 'let play games made final comment',\n",
       " 'many adds called add app play pool sometimes',\n",
       " 'makes u feel like pool pro',\n",
       " 'every super game like much telugu',\n",
       " 'good one really love game',\n",
       " 'awesome game played games worst best',\n",
       " 'best game ever played android pool avail full game mode cool',\n",
       " 'nice game b amazing graphics double team options',\n",
       " 'wow nice game',\n",
       " 'thank wonderful game add feature wherein remove directional line',\n",
       " 'keeps busy like ads constantly',\n",
       " 'really like excellent game lots fun recommended pool entuciast body like well made games',\n",
       " 'bad game hate game boring game',\n",
       " 'want new games',\n",
       " 'get next level',\n",
       " 'graphics great tune catchy',\n",
       " 'nice game hone skills',\n",
       " 'better pool games',\n",
       " 'completed level awsome update',\n",
       " 'game cool like',\n",
       " 'never seen like game never',\n",
       " 'sooo good game ever play',\n",
       " 'boring game intrest',\n",
       " 'damn many adds',\n",
       " 'fun game freezes alot hard play',\n",
       " 'change regular pool would better competing players',\n",
       " 'nice game many ads',\n",
       " 'need lot levels completed stars',\n",
       " 'waste time',\n",
       " 'wast worst game world',\n",
       " 'awesome app time paas best app',\n",
       " 'way many adds',\n",
       " 'wish ads go away',\n",
       " 'wait see spinners lol',\n",
       " 'time started',\n",
       " 'think cool opened',\n",
       " 'awesome game good challenge played',\n",
       " 'amazing game play days',\n",
       " 'bagus game nya bikin ketagihan',\n",
       " 'much advertisements testing tolerance',\n",
       " 'game nice loved',\n",
       " 'boring far easy needs proper tables',\n",
       " 'like funny looking tables could use ball ball games',\n",
       " 'great time killer keeps mind working',\n",
       " 'fun best pool game mobile imo',\n",
       " 'game funny double combo funny wispring',\n",
       " 'took many ads deleted advice download game',\n",
       " 'cue stick keeps jumping shot',\n",
       " 'bad game old billiards city game fantastic game',\n",
       " 'make platform play friends',\n",
       " 'good game addictive',\n",
       " 'game really good sometimes feel boring',\n",
       " 'like put spin real game play',\n",
       " 'good game love',\n",
       " 'dont know say',\n",
       " 'dope dope smoke game',\n",
       " 'game cool gets little boring half way',\n",
       " 'bad game',\n",
       " 'need levels levels',\n",
       " 'nice easy relaxing game easy',\n",
       " 'think game good ball pool makes tarhet perfect',\n",
       " 'baddest pool game world load tab',\n",
       " 'get update',\n",
       " 'like much muwaaaaaas',\n",
       " 'ball ball game least',\n",
       " 'really cool game loved',\n",
       " 'nice easy play game',\n",
       " 'love game amazing thanks',\n",
       " 'great want pass time',\n",
       " 'nice game good time pass',\n",
       " 'nice game good graphics',\n",
       " 'good game like',\n",
       " 'wonderful game much enjoying',\n",
       " 'really good app love playing',\n",
       " 'great boredom busting game',\n",
       " 'one best snooker game playstore',\n",
       " 'like game much come school play',\n",
       " 'like game helps direct shot',\n",
       " 'great game need opponent uamp emo sticker improvements game',\n",
       " 'best game know little',\n",
       " 'thank u much nice game self enjoyed lot',\n",
       " 'like game open tablet',\n",
       " 'helps practice regular pool game',\n",
       " 'well thank goal seeing shot',\n",
       " 'cant stop playing',\n",
       " 'open phone model xoli era x',\n",
       " 'could please adds adds every seconds enough',\n",
       " 'levels harder choice',\n",
       " 'good game',\n",
       " 'stop playing',\n",
       " 'stop playing',\n",
       " 'love game awesome',\n",
       " 'realitic straight pool layouts levels',\n",
       " 'awesome interesting ang tym killing lov',\n",
       " 'game good fantastic boring game',\n",
       " 'great game recommend',\n",
       " 'grew pool naturally love playing relaxing',\n",
       " 'feeling happy game please continue making games like',\n",
       " 'people play pool know angles spin cuts definitely enjoy game',\n",
       " 'best mind relief game forever ever always help enjoy u',\n",
       " 'meany add',\n",
       " 'could open times downloaded',\n",
       " 'advertisement every seconds bit much',\n",
       " 'goes games need',\n",
       " 'think makes please enter games',\n",
       " 'fun',\n",
       " 'best game ever',\n",
       " 'loved game',\n",
       " 'sweet game',\n",
       " 'love game',\n",
       " 'nice time pass decent app whole sunday gone cos lol',\n",
       " 'game traning game use ball pool',\n",
       " 'game nise game playars match battar',\n",
       " 'like gate wonderful aids ones thinking blessed',\n",
       " 'nice game like',\n",
       " 'hoping helps real deal',\n",
       " 'cool game kills time',\n",
       " 'downloaded game yesterday hooked',\n",
       " 'good game far pop ups sucks though',\n",
       " 'okay game like much sooooo',\n",
       " 'awesome game',\n",
       " 'realalistic pool game ever played',\n",
       " 'still phone days fun play quick short games brief ads',\n",
       " 'great app playing pool husband daughter play',\n",
       " 'good game easy tight pockets',\n",
       " 'nothing paly yet',\n",
       " 'cannot play opponents',\n",
       " 'yet see levels',\n",
       " 'opening lenovo k note',\n",
       " 'play level intresing',\n",
       " 'funniest #game like',\n",
       " 'option play online players available',\n",
       " 'like much silent mind',\n",
       " 'masth time pass game android phones',\n",
       " 'like need leaves',\n",
       " 'good also bad',\n",
       " 'like game thanku much',\n",
       " 'game based ball pool',\n",
       " 'many levels thid game',\n",
       " 'like odd shaped tables',\n",
       " 'good killing time',\n",
       " 'loved game easy play kill temper hahaha',\n",
       " 'like like play ball',\n",
       " 'challenging thought',\n",
       " 'faaltoo ends last stop',\n",
       " 'good game way many ads',\n",
       " 'bear make better always support',\n",
       " 'good game like alot',\n",
       " 'like game far',\n",
       " 'keeps busy commute',\n",
       " 'connect facebook play friends',\n",
       " 'k think cheers',\n",
       " 'tention free games',\n",
       " 'one best games ever played next one thank alan',\n",
       " 'wont pull city',\n",
       " 'good game network',\n",
       " 'human vs human option needed',\n",
       " 'please make new version game',\n",
       " 'must match like game opponent',\n",
       " 'good game',\n",
       " 'constant ads ruin playability pretty fast',\n",
       " 'super se bhi uper good game like real game graphics good',\n",
       " 'good game like different shape tables ads much',\n",
       " 'nice young people think realistic',\n",
       " 'best snooker game need cross ball pool',\n",
       " 'fun takes alot good strategy planning',\n",
       " 'interesting game',\n",
       " 'far good liked tables traditional',\n",
       " 'game like skilled mind blown trick shot',\n",
       " 'much advertising pls install game',\n",
       " 'like much',\n",
       " 'jai billiards baba',\n",
       " 'get rid vigo video ad',\n",
       " 'bohot accha game ye',\n",
       " 'like game much',\n",
       " 'time game responding',\n",
       " 'kasi abis waktu senang aja',\n",
       " 'essay game also enjoyble',\n",
       " 'balls larger need',\n",
       " 'enjoy quite lot mostly enjoy playing line',\n",
       " 'great game many ads though hard get game back sometimes',\n",
       " 'kuch game hard hona chahiye',\n",
       " 'waaaw ju gud da januw',\n",
       " 'ok need improve',\n",
       " 'go guys enjoyn',\n",
       " 'like game much',\n",
       " 'like game much',\n",
       " 'game good best',\n",
       " 'plz update game',\n",
       " 'game nice',\n",
       " 'amazing game',\n",
       " 'nice game enjoyed',\n",
       " 'best game world',\n",
       " 'past downloaded snooker games found best',\n",
       " 'helps game real',\n",
       " 'fun short geometry different levels new challenge time',\n",
       " 'think game challenging fun daughter likes',\n",
       " 'great way pass time addicted',\n",
       " 'good pool game want single player mode',\n",
       " 'inappropriate ad content',\n",
       " 'keeps going',\n",
       " 'like game much',\n",
       " 'least timer',\n",
       " 'beautiful game awesome play every one nice cool gm',\n",
       " 'lots fun completed levels cant wait levels great time killer',\n",
       " 'much ads',\n",
       " 'nice addition games folder',\n",
       " 'love billiards game pretty close real thing',\n",
       " 'best game ever downloaded category',\n",
       " 'like playing pool one easy control easy see love',\n",
       " 'good game',\n",
       " 'think game interesting',\n",
       " 'easy use one one game play',\n",
       " 'like much',\n",
       " 'uc dir ud rtl ue uc ue',\n",
       " 'nice game',\n",
       " 'say love addictive wont deleting xxxxxx',\n",
       " 'would pay taking ad',\n",
       " 'really appreciate efforts providing us nice addictive game',\n",
       " 'waste stupi',\n",
       " 'best wishes days ago give great game',\n",
       " 'best video pool game ever played keep',\n",
       " 'like changing table',\n",
       " 'love game cool hope guy enjoyed making game',\n",
       " 'thank sair much really enjoyed gams super',\n",
       " 'hard game',\n",
       " 'bom jogo pra relaxar',\n",
       " 'king subedi',\n",
       " 'starting',\n",
       " 'game really sucks',\n",
       " 'multi player support',\n",
       " 'everything reviewed',\n",
       " 'like game',\n",
       " 'play company',\n",
       " 'addective game',\n",
       " 'single player game',\n",
       " 'need online together friends',\n",
       " 'bro plz change bods',\n",
       " 'want like match',\n",
       " 'jugpreet singh gurpreet singh',\n",
       " 'mind shoot game',\n",
       " 'nice app little bit changes',\n",
       " 'look matured',\n",
       " 'challenges gud loved',\n",
       " 'wotha punda maari irruku',\n",
       " 'nice game game soo easy',\n",
       " 'like english feature',\n",
       " 'nice mountain game like much thanks name trisha nice game nice game',\n",
       " 'cool relaxing nice game take stress',\n",
       " 'excellent offline pool app love different table shapes',\n",
       " 'nice good game easy play relaxing music average game like',\n",
       " 'last level',\n",
       " 'record speaks',\n",
       " 'game interesting',\n",
       " 'godam much pub',\n",
       " 'pool tables suck',\n",
       " 'need player partner',\n",
       " 'like play',\n",
       " 'less adds',\n",
       " 'jordar game hai yaar',\n",
       " 'good game relax love',\n",
       " 'oooooooooo jeeeeeeee niiiiiii aaaaaallllllllll',\n",
       " '',\n",
       " 'ya ireaally like app',\n",
       " 'good gameplay lots levels',\n",
       " 'ahhhh fred todd ttygu',\n",
       " 'go high',\n",
       " 'osime tume pass',\n",
       " 'time pass ke liye sahi h',\n",
       " 'bht achaa game ga',\n",
       " 'use google play',\n",
       " 'ok apart adds',\n",
       " 'initiating game',\n",
       " 'super game',\n",
       " 'really enjoy game',\n",
       " 'worst game ever',\n",
       " 'like game',\n",
       " 'boring many ads',\n",
       " 'worst app ever',\n",
       " 'game osome difficult lot f enjoyment',\n",
       " 'many ads',\n",
       " 'really like app game come join crew',\n",
       " 'really nice timekiller well full fun excitement',\n",
       " 'bad bad',\n",
       " 'eliminate ads',\n",
       " 'nice game',\n",
       " 'dirty game controls good',\n",
       " 'keep try made control easy play',\n",
       " 'annoying commercials',\n",
       " 'excellent game stop playing',\n",
       " 'like great job greetings justin nel',\n",
       " 'making easy shots like playing pool real life',\n",
       " 'pizza village',\n",
       " 'graphics improvement required',\n",
       " 'really entertaining different cool shapes challenges',\n",
       " 'good game graphics also good everyone enjoy',\n",
       " 'levels stall good game',\n",
       " 'game provided fun excitment lot joy game really nice',\n",
       " 'nice game boring ringtone',\n",
       " 'game keeps crashing even get use please fix',\n",
       " 'good game play game good game levels hard game',\n",
       " 'love game good challenges challenging',\n",
       " 'awesome game stop playing',\n",
       " 'awesome nice game l love much',\n",
       " 'many ads',\n",
       " 'new table sucks',\n",
       " 'like game',\n",
       " 'many ads',\n",
       " 'good travel time pass wen yo internet',\n",
       " 'lot advisor',\n",
       " 'good app children practice want play accurate',\n",
       " 'superb game like must download',\n",
       " 'great perfect brilliant time waster clean cut game',\n",
       " 'nice little like ball pool',\n",
       " 'good idea play tipe games thanks',\n",
       " 'good also add online matches',\n",
       " 'google user game actually actively nice controlling',\n",
       " 'love playing good time waster found relaxing',\n",
       " 'play lot games best fun pool game found',\n",
       " 'l game',\n",
       " 'quite entertaining game many adverts level progresses',\n",
       " 'awesome game thanks',\n",
       " 'great controls great graphics many ads',\n",
       " 'good',\n",
       " 'interested game getting excitement like love',\n",
       " 'meny advertising otherwise would rate stars',\n",
       " 'barbie games nice want barbie games play levels ok',\n",
       " 'nice addicted game',\n",
       " 'good challenges game',\n",
       " 'nack game',\n",
       " 'started already learning game thank',\n",
       " 'good please really pool game',\n",
       " 'many commercials',\n",
       " 'eh okay guess',\n",
       " 'love love love game much ads still loving',\n",
       " 'like playing game',\n",
       " 'fun frustrating',\n",
       " 'pool rubbish many ads',\n",
       " 'like play',\n",
       " 'giving gets multilayer opt star game',\n",
       " 'challenge',\n",
       " 'make turning pool cue easier faster',\n",
       " 'nice game changes required make challenging',\n",
       " 'game amazing really loved',\n",
       " 'think features adds would great',\n",
       " 'good game good game set mind',\n",
       " 'nice time killing game',\n",
       " 'bata reyes style',\n",
       " 'played pool think cool new one',\n",
       " 'good enjoy',\n",
       " 'like game nice game play tip game game',\n",
       " 'nice game',\n",
       " 'tilt view striker fun',\n",
       " 'nice game',\n",
       " 'good pool game best played yet',\n",
       " 'nice fantastic game many ads mars',\n",
       " 'karan kumar',\n",
       " 'awesome n amazing app',\n",
       " 'passes time',\n",
       " 'fun easy gameenjoying playing',\n",
       " 'good game pass time',\n",
       " 'love pool game especially cool shapes pool table',\n",
       " 'good pool game',\n",
       " 'wow game worth playing',\n",
       " 'love great app thanks',\n",
       " 'player vs player available would best game',\n",
       " 'good best',\n",
       " 'good running app enjoy game easy game',\n",
       " 'fine good',\n",
       " 'hope u give us comment also',\n",
       " 'needs multi player still like',\n",
       " 'game ok',\n",
       " 'good game high guality mode',\n",
       " 'fun game would recommend anyone likes pool',\n",
       " 'great game play relax time',\n",
       " 'many ads',\n",
       " 'addictive game phone',\n",
       " 'awesome fantastic ultra ultimate fabulousest game',\n",
       " 'addicting',\n",
       " 'much adds',\n",
       " 'thanks game playstore',\n",
       " 'nagendra kumar mishra',\n",
       " 'dis game meising',\n",
       " 'mahar saeed thanks',\n",
       " 'fun seems like',\n",
       " 'iv including',\n",
       " 'supar game reyaly',\n",
       " 'like game',\n",
       " '',\n",
       " 'addicting game',\n",
       " 'need controller',\n",
       " 'many adds',\n",
       " 'gd time pass',\n",
       " 'lov game',\n",
       " 'feeling',\n",
       " 'make new update',\n",
       " 'like game',\n",
       " 'se autoriza',\n",
       " 'super se upee',\n",
       " 'mind concentrate game',\n",
       " 'super game',\n",
       " 'gud game',\n",
       " 'time pass game',\n",
       " 'game asem',\n",
       " 'thankyou much',\n",
       " 'like game',\n",
       " 'like game',\n",
       " 'u mum gay',\n",
       " 'plzz give coin stick',\n",
       " 'helps',\n",
       " 'yeh orange yeah',\n",
       " 'sht one',\n",
       " 'many ads',\n",
       " 'game awesomw',\n",
       " 'many ads',\n",
       " 'many adds',\n",
       " 'play others',\n",
       " 'huu hi lg',\n",
       " 'many ads',\n",
       " 'like game',\n",
       " 'time pass game',\n",
       " 'desi game e',\n",
       " 'killin time game',\n",
       " 'interestingly enough',\n",
       " 'session',\n",
       " 'like turtles',\n",
       " 'yet opening',\n",
       " 'many adverts',\n",
       " 'hobbies',\n",
       " 'sorry wanted stars',\n",
       " 'tik hai game',\n",
       " 'manu ads',\n",
       " 'achha game hain',\n",
       " 'ok game play',\n",
       " 'many adds',\n",
       " 'thinks game',\n",
       " 'many adds',\n",
       " 'super game',\n",
       " 'nive game',\n",
       " 'thanks game',\n",
       " 'many ad',\n",
       " 'ilikethis game lot',\n",
       " 'like game',\n",
       " 'like game',\n",
       " 'adds game',\n",
       " 'much adds',\n",
       " 'time pass game',\n",
       " 'put opponents',\n",
       " 'mizanur rahaman excilent',\n",
       " 'awesome',\n",
       " 'nice game like',\n",
       " 'kid loves',\n",
       " 'none stop thinking beautiful tables game nice uamp smooth',\n",
       " 'sometimes need play game good',\n",
       " 'keep adding games without getting interrupted',\n",
       " 'great way learn play pool really helpful',\n",
       " 'likeitso far getting started like graphics',\n",
       " 'great game awesome graphics realistic play',\n",
       " 'really okay love graphics control',\n",
       " 'game fun like billiards games',\n",
       " 'gamw nice play think install game',\n",
       " 'like washroom',\n",
       " 'hi ok play interesting game',\n",
       " 'nice make u understand pools better',\n",
       " 'nice lots pop adds',\n",
       " 'enjoying much put',\n",
       " 'fun game well made easy pick',\n",
       " 'shotting power cue',\n",
       " 'love game one best game world',\n",
       " 'fun game',\n",
       " 'good game like make',\n",
       " 'like good kill time',\n",
       " 'terbaik la star',\n",
       " 'far really fun best pool game far',\n",
       " 'many games like love hit billards',\n",
       " 'much better game',\n",
       " 'ball looks real enjoyed game',\n",
       " 'awesome game play really sports fan',\n",
       " 'game best game realistic grafics',\n",
       " 'great game break',\n",
       " 'game good u found add every step',\n",
       " 'really fun skillful game ages cheers creator',\n",
       " 'nice great good game',\n",
       " 'good one counting numbers snowing',\n",
       " 'interesting game like much',\n",
       " 'like angles fun play nice challenge',\n",
       " 'cool game wayyy tooo many ads',\n",
       " 'like much dont wye lids',\n",
       " 'like help learn play',\n",
       " 'love game sos os much',\n",
       " 'tip carry bad game',\n",
       " 'nice game need part',\n",
       " 'best thing ever n addict game',\n",
       " 'love game plz makes like games',\n",
       " 'good game would better actual ball games',\n",
       " 'cool game entertain good time pass',\n",
       " 'would great game many dam ads',\n",
       " 'much fun hardly stand',\n",
       " 'love game super good control graphics',\n",
       " 'really love game need features',\n",
       " 'pretty good complaints hear',\n",
       " 'ugghhh',\n",
       " 'nice pool game liked',\n",
       " 'ita intresting game butt falt adds',\n",
       " 'wonderful like games type',\n",
       " 'amazing game reached level awesome',\n",
       " 'v nice want play vs',\n",
       " 'open',\n",
       " 'imhussain mustafa',\n",
       " 'awesome ha game super ha game',\n",
       " 'money',\n",
       " '',\n",
       " 'nyc learning nw gud experience',\n",
       " '',\n",
       " 'ok',\n",
       " 'realalistic',\n",
       " 'loved',\n",
       " 'nice game liked much wow',\n",
       " 'love pool game best amazing',\n",
       " 'playing long time liking lots',\n",
       " 'amazing good also thanks create good app',\n",
       " 'best billiard game played',\n",
       " 'u need work game game',\n",
       " 'great game wait levels',\n",
       " 'fun game keeps focused easy enjoyyy',\n",
       " 'fun easy play graphics good',\n",
       " 'game nice game time pass',\n",
       " 'love style pool billards great job',\n",
       " 'think game best game ever seen',\n",
       " 'till ive completed levels looking good',\n",
       " 'digin',\n",
       " 'interesting game graphic quality rich',\n",
       " 'great game help train focus',\n",
       " 'one best pool games played',\n",
       " 'really enjoyed game played games',\n",
       " 'best pool game ever please install game',\n",
       " 'love fun play relaxing',\n",
       " 'realistic recreation playing pool',\n",
       " 'wonderful game app loved much',\n",
       " 'interesting board pattern',\n",
       " 'game intersting piecefull thankyou',\n",
       " 'good problem add',\n",
       " 'awesome way learn master trick shots',\n",
       " 'amazing love game addictive',\n",
       " 'like',\n",
       " 'great billiard game iam searcing',\n",
       " 'good work guys game addictive',\n",
       " 'super game',\n",
       " 'really superb game ed ittt',\n",
       " 'great game except ads btw liked game',\n",
       " 'interesting good time pass',\n",
       " 'great pool game learn angles banks',\n",
       " 'amazing game waiting levels',\n",
       " 'nice game need improve controller',\n",
       " 'ok game easy play',\n",
       " 'like playing game easy play',\n",
       " 'interesting bat money',\n",
       " 'good game kids third class',\n",
       " 'lots lots lots ads fun prepare bazzzzilion ads',\n",
       " 'best fantastic',\n",
       " 'thank found great pool game',\n",
       " 'kept happy hrs straight',\n",
       " 'great app change table',\n",
       " 'nyc app',\n",
       " 'superb game like much',\n",
       " 'ta chido',\n",
       " 'really awsome make pool interesting',\n",
       " 'new player excited',\n",
       " 'great game',\n",
       " 'good game many ads',\n",
       " 'love awe',\n",
       " 'angles pckets need distance pointing',\n",
       " 'little bit odd gr',\n",
       " 'nice game level',\n",
       " 'super',\n",
       " 'love better ball pool',\n",
       " 'good thanks pool city',\n",
       " 'best game ball pool',\n",
       " 'love play game',\n",
       " 'easy use good game',\n",
       " 'love thank bringing board',\n",
       " 'nice g satish phone numbers',\n",
       " 'think really enjoying ggme',\n",
       " '',\n",
       " 'really cool game doubt',\n",
       " 'kinda good game put easy',\n",
       " 'started playing happy far',\n",
       " 'addictive game lot adds',\n",
       " 'nice game good graphics also',\n",
       " 'game easy good controls',\n",
       " 'games still love game',\n",
       " 'think love good game',\n",
       " 'addictive also enjoyable',\n",
       " 'best game played',\n",
       " 'ok passing time sweet melody',\n",
       " 'kool amazing pool game',\n",
       " 'best game ever played',\n",
       " 'need work controls good game',\n",
       " 'good game pass time many ads',\n",
       " 'nice game play hole level',\n",
       " 'easy ball pool',\n",
       " 'important game earth wonderful',\n",
       " 'good game ball pool better',\n",
       " 'interesting game fully time pass',\n",
       " 'awesome game ever seen',\n",
       " 'ii like billiards nice',\n",
       " 'good game like thanks',\n",
       " 'cool shows actually play pool',\n",
       " 'good playing _ p',\n",
       " 'okey',\n",
       " 'bad thank u vrrryuch',\n",
       " 'nice small change',\n",
       " 'cool game base physics concepts',\n",
       " 'graphics totally super cool love game totally awesome dude',\n",
       " ...]"
      ]
     },
     "execution_count": 7,
     "metadata": {},
     "output_type": "execute_result"
    }
   ],
   "source": [
    "Reviews"
   ]
  },
  {
   "cell_type": "code",
   "execution_count": 36,
   "metadata": {
    "collapsed": true
   },
   "outputs": [],
   "source": [
    "y = data['rating']\n",
    "X=Reviews\n",
    "X_train, X_test, y_train, y_test = train_test_split(X, y, test_size=0.3)"
   ]
  },
  {
   "cell_type": "code",
   "execution_count": null,
   "metadata": {
    "collapsed": true
   },
   "outputs": [],
   "source": []
  },
  {
   "cell_type": "code",
   "execution_count": 38,
   "metadata": {},
   "outputs": [
    {
     "name": "stderr",
     "output_type": "stream",
     "text": [
      "C:\\Users\\Muhammad Umer\\Anaconda3\\lib\\site-packages\\sklearn\\feature_extraction\\text.py:1089: FutureWarning: Conversion of the second argument of issubdtype from `float` to `np.floating` is deprecated. In future, it will be treated as `np.float64 == np.dtype(float).type`.\n",
      "  if hasattr(X, 'dtype') and np.issubdtype(X.dtype, np.float):\n"
     ]
    }
   ],
   "source": [
    "from sklearn.feature_extraction.text import TfidfVectorizer\n",
    "\n",
    "vectorizer = TfidfVectorizer(max_features=72684)\n",
    "X_train= vectorizer.fit_transform(X_train)\n",
    "X_test=vectorizer.transform(Reviews)"
   ]
  },
  {
   "cell_type": "code",
   "execution_count": 20,
   "metadata": {},
   "outputs": [
    {
     "data": {
      "text/plain": [
       "(4480, 72684)"
      ]
     },
     "execution_count": 20,
     "metadata": {},
     "output_type": "execute_result"
    }
   ],
   "source": [
    "X_test.shape"
   ]
  },
  {
   "cell_type": "code",
   "execution_count": null,
   "metadata": {
    "collapsed": true
   },
   "outputs": [],
   "source": [
    "from sklearn.ensemble import RandomForestClassifier\n",
    "from sklearn.metrics import confusion_matrix, classification_report, accuracy_score\n",
    "rfc = RandomForestClassifier(n_estimators=100,n_jobs=-1,random_state=50)\n",
    "model = rfc.fit(X_train, y_train)\n",
    "#print(\"Random Forest\")\n",
    "#print(accuracy_score(y_test, preds))"
   ]
  },
  {
   "cell_type": "code",
   "execution_count": 12,
   "metadata": {},
   "outputs": [
    {
     "data": {
      "text/plain": [
       "sklearn.ensemble.forest.RandomForestClassifier"
      ]
     },
     "execution_count": 12,
     "metadata": {},
     "output_type": "execute_result"
    }
   ],
   "source": [
    "type(model)"
   ]
  },
  {
   "cell_type": "code",
   "execution_count": 15,
   "metadata": {},
   "outputs": [
    {
     "ename": "PermissionError",
     "evalue": "[Errno 13] Permission denied: 'finalized_model.csv'",
     "output_type": "error",
     "traceback": [
      "\u001b[1;31m---------------------------------------------------------------------------\u001b[0m",
      "\u001b[1;31mPermissionError\u001b[0m                           Traceback (most recent call last)",
      "\u001b[1;32m<ipython-input-15-bc3bf5d835e2>\u001b[0m in \u001b[0;36m<module>\u001b[1;34m()\u001b[0m\n\u001b[0;32m      1\u001b[0m \u001b[1;32mimport\u001b[0m \u001b[0mpickle\u001b[0m\u001b[1;33m\u001b[0m\u001b[0m\n\u001b[0;32m      2\u001b[0m \u001b[0mfilename\u001b[0m \u001b[1;33m=\u001b[0m \u001b[1;34m'finalized_model.csv'\u001b[0m\u001b[1;33m\u001b[0m\u001b[0m\n\u001b[1;32m----> 3\u001b[1;33m \u001b[0mpickle\u001b[0m\u001b[1;33m.\u001b[0m\u001b[0mdump\u001b[0m\u001b[1;33m(\u001b[0m\u001b[0mmodel\u001b[0m\u001b[1;33m,\u001b[0m \u001b[0mopen\u001b[0m\u001b[1;33m(\u001b[0m\u001b[0mfilename\u001b[0m\u001b[1;33m,\u001b[0m \u001b[1;34m'wb'\u001b[0m\u001b[1;33m)\u001b[0m\u001b[1;33m)\u001b[0m\u001b[1;33m\u001b[0m\u001b[0m\n\u001b[0m",
      "\u001b[1;31mPermissionError\u001b[0m: [Errno 13] Permission denied: 'finalized_model.csv'"
     ]
    }
   ],
   "source": [
    "import pickle\n",
    "filename = 'finalized_model.csv'\n",
    "pickle.dump(model, open(filename, 'wb'))"
   ]
  },
  {
   "cell_type": "code",
   "execution_count": 30,
   "metadata": {},
   "outputs": [
    {
     "ename": "NameError",
     "evalue": "name 'model' is not defined",
     "output_type": "error",
     "traceback": [
      "\u001b[0;31m---------------------------------------------------------------------------\u001b[0m",
      "\u001b[0;31mNameError\u001b[0m                                 Traceback (most recent call last)",
      "\u001b[0;32m<ipython-input-30-0aafb7656b8b>\u001b[0m in \u001b[0;36m<module>\u001b[0;34m()\u001b[0m\n\u001b[1;32m      1\u001b[0m \u001b[1;32mimport\u001b[0m \u001b[0mpickle\u001b[0m \u001b[1;32mas\u001b[0m \u001b[0mcPickle\u001b[0m\u001b[1;33m\u001b[0m\u001b[0m\n\u001b[1;32m      2\u001b[0m \u001b[1;32mwith\u001b[0m \u001b[0mopen\u001b[0m\u001b[1;33m(\u001b[0m\u001b[1;34m'predict.csv'\u001b[0m\u001b[1;33m,\u001b[0m \u001b[1;34m'wb'\u001b[0m\u001b[1;33m)\u001b[0m \u001b[1;32mas\u001b[0m \u001b[0mf\u001b[0m\u001b[1;33m:\u001b[0m\u001b[1;33m\u001b[0m\u001b[0m\n\u001b[0;32m----> 3\u001b[0;31m     \u001b[0mcPickle\u001b[0m\u001b[1;33m.\u001b[0m\u001b[0mdump\u001b[0m\u001b[1;33m(\u001b[0m\u001b[0mmodel\u001b[0m\u001b[1;33m,\u001b[0m \u001b[0mf\u001b[0m\u001b[1;33m)\u001b[0m\u001b[1;33m\u001b[0m\u001b[0m\n\u001b[0m",
      "\u001b[0;31mNameError\u001b[0m: name 'model' is not defined"
     ]
    }
   ],
   "source": [
    "import pickle as cPickle\n",
    "with open('predict.csv', 'wb') as f:\n",
    "    cPickle.dump(model, f)"
   ]
  },
  {
   "cell_type": "code",
   "execution_count": 31,
   "metadata": {},
   "outputs": [
    {
     "name": "stderr",
     "output_type": "stream",
     "text": [
      "C:\\Users\\Muhammad Umer\\Anaconda3\\lib\\site-packages\\sklearn\\ensemble\\weight_boosting.py:29: DeprecationWarning: numpy.core.umath_tests is an internal NumPy module and should not be imported. It will be removed in a future NumPy release.\n",
      "  from numpy.core.umath_tests import inner1d\n",
      "C:\\Users\\Muhammad Umer\\Anaconda3\\lib\\site-packages\\sklearn\\base.py:312: UserWarning: Trying to unpickle estimator DecisionTreeClassifier from version 0.19.1 when using version 0.19.0. This might lead to breaking code or invalid results. Use at your own risk.\n",
      "  UserWarning)\n",
      "C:\\Users\\Muhammad Umer\\Anaconda3\\lib\\site-packages\\sklearn\\base.py:312: UserWarning: Trying to unpickle estimator RandomForestClassifier from version 0.19.1 when using version 0.19.0. This might lead to breaking code or invalid results. Use at your own risk.\n",
      "  UserWarning)\n"
     ]
    },
    {
     "ename": "NameError",
     "evalue": "name 'X_test' is not defined",
     "output_type": "error",
     "traceback": [
      "\u001b[0;31m---------------------------------------------------------------------------\u001b[0m",
      "\u001b[0;31mNameError\u001b[0m                                 Traceback (most recent call last)",
      "\u001b[0;32m<ipython-input-31-915fdc8cc28b>\u001b[0m in \u001b[0;36m<module>\u001b[0;34m()\u001b[0m\n\u001b[1;32m      4\u001b[0m \u001b[1;33m\u001b[0m\u001b[0m\n\u001b[1;32m      5\u001b[0m \u001b[1;33m\u001b[0m\u001b[0m\n\u001b[0;32m----> 6\u001b[0;31m \u001b[0mpreds\u001b[0m \u001b[1;33m=\u001b[0m \u001b[0mrf\u001b[0m\u001b[1;33m.\u001b[0m\u001b[0mpredict\u001b[0m\u001b[1;33m(\u001b[0m\u001b[0mX_test\u001b[0m\u001b[1;33m)\u001b[0m\u001b[1;33m\u001b[0m\u001b[0m\n\u001b[0m\u001b[1;32m      7\u001b[0m \u001b[1;31m#print(\"Random Forest\")\u001b[0m\u001b[1;33m\u001b[0m\u001b[1;33m\u001b[0m\u001b[0m\n\u001b[1;32m      8\u001b[0m \u001b[1;31m#print(accuracy_score(y_test, preds))\u001b[0m\u001b[1;33m\u001b[0m\u001b[1;33m\u001b[0m\u001b[0m\n",
      "\u001b[0;31mNameError\u001b[0m: name 'X_test' is not defined"
     ]
    }
   ],
   "source": [
    "import pickle as cPickle\n",
    "with open('C:\\\\Users\\\\Muhammad Umer\\\\PycharmProjects\\\\GooglePlayStore\\\\predict.csv', 'rb') as f:\n",
    "    rf = cPickle.load(f)\n",
    "\n",
    "\n",
    "preds = rf.predict(X_test)\n",
    "#print(\"Random Forest\")\n",
    "#print(accuracy_score(y_test, preds))"
   ]
  },
  {
   "cell_type": "code",
   "execution_count": 37,
   "metadata": {},
   "outputs": [
    {
     "ename": "NotFittedError",
     "evalue": "TfidfVectorizer - Vocabulary wasn't fitted.",
     "output_type": "error",
     "traceback": [
      "\u001b[0;31m---------------------------------------------------------------------------\u001b[0m",
      "\u001b[0;31mNotFittedError\u001b[0m                            Traceback (most recent call last)",
      "\u001b[0;32m<ipython-input-37-4798d6e062f0>\u001b[0m in \u001b[0;36m<module>\u001b[0;34m()\u001b[0m\n\u001b[1;32m      2\u001b[0m \u001b[1;33m\u001b[0m\u001b[0m\n\u001b[1;32m      3\u001b[0m \u001b[0mvectorizer\u001b[0m \u001b[1;33m=\u001b[0m \u001b[0mTfidfVectorizer\u001b[0m\u001b[1;33m(\u001b[0m\u001b[0mmax_features\u001b[0m\u001b[1;33m=\u001b[0m\u001b[1;36m72684\u001b[0m\u001b[1;33m)\u001b[0m\u001b[1;33m\u001b[0m\u001b[0m\n\u001b[0;32m----> 4\u001b[0;31m \u001b[0mX_test\u001b[0m\u001b[1;33m=\u001b[0m\u001b[0mvectorizer\u001b[0m\u001b[1;33m.\u001b[0m\u001b[0mtransform\u001b[0m\u001b[1;33m(\u001b[0m\u001b[0mReviews\u001b[0m\u001b[1;33m)\u001b[0m\u001b[1;33m\u001b[0m\u001b[0m\n\u001b[0m\u001b[1;32m      5\u001b[0m \u001b[0mpred\u001b[0m \u001b[1;33m=\u001b[0m \u001b[0mrf\u001b[0m\u001b[1;33m.\u001b[0m\u001b[0mpredict\u001b[0m\u001b[1;33m(\u001b[0m\u001b[0mX_test\u001b[0m\u001b[1;33m)\u001b[0m\u001b[1;33m\u001b[0m\u001b[0m\n\u001b[1;32m      6\u001b[0m \u001b[0mprint\u001b[0m\u001b[1;33m(\u001b[0m\u001b[1;34m\"Random Forest\"\u001b[0m\u001b[1;33m)\u001b[0m\u001b[1;33m\u001b[0m\u001b[0m\n",
      "\u001b[0;32mC:\\Users\\Muhammad Umer\\Anaconda3\\lib\\site-packages\\sklearn\\feature_extraction\\text.py\u001b[0m in \u001b[0;36mtransform\u001b[0;34m(self, raw_documents, copy)\u001b[0m\n\u001b[1;32m   1407\u001b[0m         \u001b[0mcheck_is_fitted\u001b[0m\u001b[1;33m(\u001b[0m\u001b[0mself\u001b[0m\u001b[1;33m,\u001b[0m \u001b[1;34m'_tfidf'\u001b[0m\u001b[1;33m,\u001b[0m \u001b[1;34m'The tfidf vector is not fitted'\u001b[0m\u001b[1;33m)\u001b[0m\u001b[1;33m\u001b[0m\u001b[0m\n\u001b[1;32m   1408\u001b[0m \u001b[1;33m\u001b[0m\u001b[0m\n\u001b[0;32m-> 1409\u001b[0;31m         \u001b[0mX\u001b[0m \u001b[1;33m=\u001b[0m \u001b[0msuper\u001b[0m\u001b[1;33m(\u001b[0m\u001b[0mTfidfVectorizer\u001b[0m\u001b[1;33m,\u001b[0m \u001b[0mself\u001b[0m\u001b[1;33m)\u001b[0m\u001b[1;33m.\u001b[0m\u001b[0mtransform\u001b[0m\u001b[1;33m(\u001b[0m\u001b[0mraw_documents\u001b[0m\u001b[1;33m)\u001b[0m\u001b[1;33m\u001b[0m\u001b[0m\n\u001b[0m\u001b[1;32m   1410\u001b[0m         \u001b[1;32mreturn\u001b[0m \u001b[0mself\u001b[0m\u001b[1;33m.\u001b[0m\u001b[0m_tfidf\u001b[0m\u001b[1;33m.\u001b[0m\u001b[0mtransform\u001b[0m\u001b[1;33m(\u001b[0m\u001b[0mX\u001b[0m\u001b[1;33m,\u001b[0m \u001b[0mcopy\u001b[0m\u001b[1;33m=\u001b[0m\u001b[1;32mFalse\u001b[0m\u001b[1;33m)\u001b[0m\u001b[1;33m\u001b[0m\u001b[0m\n",
      "\u001b[0;32mC:\\Users\\Muhammad Umer\\Anaconda3\\lib\\site-packages\\sklearn\\feature_extraction\\text.py\u001b[0m in \u001b[0;36mtransform\u001b[0;34m(self, raw_documents)\u001b[0m\n\u001b[1;32m    918\u001b[0m             \u001b[0mself\u001b[0m\u001b[1;33m.\u001b[0m\u001b[0m_validate_vocabulary\u001b[0m\u001b[1;33m(\u001b[0m\u001b[1;33m)\u001b[0m\u001b[1;33m\u001b[0m\u001b[0m\n\u001b[1;32m    919\u001b[0m \u001b[1;33m\u001b[0m\u001b[0m\n\u001b[0;32m--> 920\u001b[0;31m         \u001b[0mself\u001b[0m\u001b[1;33m.\u001b[0m\u001b[0m_check_vocabulary\u001b[0m\u001b[1;33m(\u001b[0m\u001b[1;33m)\u001b[0m\u001b[1;33m\u001b[0m\u001b[0m\n\u001b[0m\u001b[1;32m    921\u001b[0m \u001b[1;33m\u001b[0m\u001b[0m\n\u001b[1;32m    922\u001b[0m         \u001b[1;31m# use the same matrix-building strategy as fit_transform\u001b[0m\u001b[1;33m\u001b[0m\u001b[1;33m\u001b[0m\u001b[0m\n",
      "\u001b[0;32mC:\\Users\\Muhammad Umer\\Anaconda3\\lib\\site-packages\\sklearn\\feature_extraction\\text.py\u001b[0m in \u001b[0;36m_check_vocabulary\u001b[0;34m(self)\u001b[0m\n\u001b[1;32m    301\u001b[0m         \u001b[1;34m\"\"\"Check if vocabulary is empty or missing (not fit-ed)\"\"\"\u001b[0m\u001b[1;33m\u001b[0m\u001b[0m\n\u001b[1;32m    302\u001b[0m         \u001b[0mmsg\u001b[0m \u001b[1;33m=\u001b[0m \u001b[1;34m\"%(name)s - Vocabulary wasn't fitted.\"\u001b[0m\u001b[1;33m\u001b[0m\u001b[0m\n\u001b[0;32m--> 303\u001b[0;31m         \u001b[0mcheck_is_fitted\u001b[0m\u001b[1;33m(\u001b[0m\u001b[0mself\u001b[0m\u001b[1;33m,\u001b[0m \u001b[1;34m'vocabulary_'\u001b[0m\u001b[1;33m,\u001b[0m \u001b[0mmsg\u001b[0m\u001b[1;33m=\u001b[0m\u001b[0mmsg\u001b[0m\u001b[1;33m)\u001b[0m\u001b[1;33m,\u001b[0m\u001b[1;33m\u001b[0m\u001b[0m\n\u001b[0m\u001b[1;32m    304\u001b[0m \u001b[1;33m\u001b[0m\u001b[0m\n\u001b[1;32m    305\u001b[0m         \u001b[1;32mif\u001b[0m \u001b[0mlen\u001b[0m\u001b[1;33m(\u001b[0m\u001b[0mself\u001b[0m\u001b[1;33m.\u001b[0m\u001b[0mvocabulary_\u001b[0m\u001b[1;33m)\u001b[0m \u001b[1;33m==\u001b[0m \u001b[1;36m0\u001b[0m\u001b[1;33m:\u001b[0m\u001b[1;33m\u001b[0m\u001b[0m\n",
      "\u001b[0;32mC:\\Users\\Muhammad Umer\\Anaconda3\\lib\\site-packages\\sklearn\\utils\\validation.py\u001b[0m in \u001b[0;36mcheck_is_fitted\u001b[0;34m(estimator, attributes, msg, all_or_any)\u001b[0m\n\u001b[1;32m    735\u001b[0m \u001b[1;33m\u001b[0m\u001b[0m\n\u001b[1;32m    736\u001b[0m     \u001b[1;32mif\u001b[0m \u001b[1;32mnot\u001b[0m \u001b[0mall_or_any\u001b[0m\u001b[1;33m(\u001b[0m\u001b[1;33m[\u001b[0m\u001b[0mhasattr\u001b[0m\u001b[1;33m(\u001b[0m\u001b[0mestimator\u001b[0m\u001b[1;33m,\u001b[0m \u001b[0mattr\u001b[0m\u001b[1;33m)\u001b[0m \u001b[1;32mfor\u001b[0m \u001b[0mattr\u001b[0m \u001b[1;32min\u001b[0m \u001b[0mattributes\u001b[0m\u001b[1;33m]\u001b[0m\u001b[1;33m)\u001b[0m\u001b[1;33m:\u001b[0m\u001b[1;33m\u001b[0m\u001b[0m\n\u001b[0;32m--> 737\u001b[0;31m         \u001b[1;32mraise\u001b[0m \u001b[0mNotFittedError\u001b[0m\u001b[1;33m(\u001b[0m\u001b[0mmsg\u001b[0m \u001b[1;33m%\u001b[0m \u001b[1;33m{\u001b[0m\u001b[1;34m'name'\u001b[0m\u001b[1;33m:\u001b[0m \u001b[0mtype\u001b[0m\u001b[1;33m(\u001b[0m\u001b[0mestimator\u001b[0m\u001b[1;33m)\u001b[0m\u001b[1;33m.\u001b[0m\u001b[0m__name__\u001b[0m\u001b[1;33m}\u001b[0m\u001b[1;33m)\u001b[0m\u001b[1;33m\u001b[0m\u001b[0m\n\u001b[0m\u001b[1;32m    738\u001b[0m \u001b[1;33m\u001b[0m\u001b[0m\n\u001b[1;32m    739\u001b[0m \u001b[1;33m\u001b[0m\u001b[0m\n",
      "\u001b[0;31mNotFittedError\u001b[0m: TfidfVectorizer - Vocabulary wasn't fitted."
     ]
    }
   ],
   "source": [
    "from sklearn.feature_extraction.text import TfidfVectorizer\n",
    "\n",
    "vectorizer = TfidfVectorizer(max_features=72684)\n",
    "X_test=vectorizer.transform(Reviews)\n",
    "pred = rf.predict(X_test)\n",
    "print(\"Random Forest\")\n",
    "print(pred)"
   ]
  },
  {
   "cell_type": "code",
   "execution_count": 4,
   "metadata": {},
   "outputs": [
    {
     "ename": "NameError",
     "evalue": "name 'pred' is not defined",
     "output_type": "error",
     "traceback": [
      "\u001b[0;31m---------------------------------------------------------------------------\u001b[0m",
      "\u001b[0;31mNameError\u001b[0m                                 Traceback (most recent call last)",
      "\u001b[0;32m<ipython-input-4-d09c40b57611>\u001b[0m in \u001b[0;36m<module>\u001b[0;34m()\u001b[0m\n\u001b[0;32m----> 1\u001b[0;31m \u001b[0msum\u001b[0m\u001b[1;33m(\u001b[0m\u001b[0mpred\u001b[0m\u001b[1;33m)\u001b[0m\u001b[1;33m/\u001b[0m\u001b[0mlen\u001b[0m\u001b[1;33m(\u001b[0m\u001b[0mappsentiments\u001b[0m\u001b[1;33m)\u001b[0m\u001b[1;33m\u001b[0m\u001b[0m\n\u001b[0m",
      "\u001b[0;31mNameError\u001b[0m: name 'pred' is not defined"
     ]
    }
   ],
   "source": [
    "sum(pred)/len(appsentiments)"
   ]
  },
  {
   "cell_type": "code",
   "execution_count": 7,
   "metadata": {},
   "outputs": [
    {
     "name": "stdout",
     "output_type": "stream",
     "text": [
      "14 categories\n",
      "\n",
      " ['Sports' 'Communication' 'action' 'Arcade' 'Video Players & Editors'\n",
      " 'Weather' 'card' 'photography' 'Shopping' 'Health & Fitness' 'Finance'\n",
      " 'Casual' 'Medical' 'Racing']\n"
     ]
    }
   ],
   "source": [
    "print( len(data['cetagory'].unique()) , \"categories\")\n",
    "\n",
    "print(\"\\n\", data['cetagory'].unique())"
   ]
  },
  {
   "cell_type": "code",
   "execution_count": 36,
   "metadata": {},
   "outputs": [
    {
     "data": {
      "image/png": "[encoded data removed]",
      "text/plain": [
       "<Figure size 1440x720 with 1 Axes>"
      ]
     },
     "metadata": {},
     "output_type": "display_data"
    }
   ],
   "source": [
    "import seaborn as sns\n",
    "import plotly.plotly as py\n",
    "from plotly.offline import init_notebook_mode, iplot\n",
    "from matplotlib import pyplot\n",
    "import plotly.graph_objs as go\n",
    "%matplotlib inline\n",
    "fig, ax = pyplot.subplots(figsize=(20,10))\n",
    "g = sns.countplot(x=\"cetagory\",data=data, hue=data.rating)\n",
    "g.set_xticklabels(g.get_xticklabels(), rotation=90)\n",
    "plt.title('Count of app in each category',size = 20)\n",
    "plt.savefig('Count of app in each categorys.png')"
   ]
  },
  {
   "cell_type": "code",
   "execution_count": 13,
   "metadata": {},
   "outputs": [
    {
     "data": {
      "text/html": [
       "<script>requirejs.config({paths: { 'plotly': ['https://cdn.plot.ly/plotly-latest.min']},});if(!window.Plotly) {{require(['plotly'],function(plotly) {window.Plotly=plotly;});}}</script>"
      ],
      "text/vnd.plotly.v1+html": [
       "<script>requirejs.config({paths: { 'plotly': ['https://cdn.plot.ly/plotly-latest.min']},});if(!window.Plotly) {{require(['plotly'],function(plotly) {window.Plotly=plotly;});}}</script>"
      ]
     },
     "metadata": {},
     "output_type": "display_data"
    },
    {
     "data": {
      "application/vnd.plotly.v1+json": {
       "data": [
        {
         "hoverinfo": "label+value",
         "labels": [
          "Video Players & Editors",
          "Medical",
          "Weather",
          "Finance",
          "Communication",
          "Sports",
          "Health & Fitness",
          "card",
          "Arcade",
          "photography",
          "Racing",
          "action",
          "Shopping",
          "Casual"
         ],
         "type": "pie",
         "values": [
          20781,
          24002,
          27324,
          28220,
          30000,
          32280,
          34415,
          36520,
          40751,
          41440,
          42384,
          44141,
          47840,
          52560
         ]
        }
       ],
       "layout": {}
      },
      "text/html": [
       "<div id=\"fa40f9b1-0f16-4170-a86e-08b602eb79e2\" style=\"height: 525px; width: 100%;\" class=\"plotly-graph-div\"></div><script type=\"text/javascript\">require([\"plotly\"], function(Plotly) { window.PLOTLYENV=window.PLOTLYENV || {};window.PLOTLYENV.BASE_URL=\"https://plot.ly\";Plotly.newPlot(\"fa40f9b1-0f16-4170-a86e-08b602eb79e2\", [{\"labels\": [\"Video Players & Editors\", \"Medical\", \"Weather\", \"Finance\", \"Communication\", \"Sports\", \"Health & Fitness\", \"card\", \"Arcade\", \"photography\", \"Racing\", \"action\", \"Shopping\", \"Casual\"], \"values\": [20781, 24002, 27324, 28220, 30000, 32280, 34415, 36520, 40751, 41440, 42384, 44141, 47840, 52560], \"type\": \"pie\", \"hoverinfo\": \"label+value\"}], {}, {\"showLink\": true, \"linkText\": \"Export to plot.ly\"})});</script>"
      ],
      "text/vnd.plotly.v1+html": [
       "<div id=\"fa40f9b1-0f16-4170-a86e-08b602eb79e2\" style=\"height: 525px; width: 100%;\" class=\"plotly-graph-div\"></div><script type=\"text/javascript\">require([\"plotly\"], function(Plotly) { window.PLOTLYENV=window.PLOTLYENV || {};window.PLOTLYENV.BASE_URL=\"https://plot.ly\";Plotly.newPlot(\"fa40f9b1-0f16-4170-a86e-08b602eb79e2\", [{\"labels\": [\"Video Players & Editors\", \"Medical\", \"Weather\", \"Finance\", \"Communication\", \"Sports\", \"Health & Fitness\", \"card\", \"Arcade\", \"photography\", \"Racing\", \"action\", \"Shopping\", \"Casual\"], \"values\": [20781, 24002, 27324, 28220, 30000, 32280, 34415, 36520, 40751, 41440, 42384, 44141, 47840, 52560], \"type\": \"pie\", \"hoverinfo\": \"label+value\"}], {}, {\"showLink\": true, \"linkText\": \"Export to plot.ly\"})});</script>"
      ]
     },
     "metadata": {},
     "output_type": "display_data"
    }
   ],
   "source": [
    "import plotly\n",
    "# connected=True means it will download the latest version of plotly javascript library.\n",
    "plotly.offline.init_notebook_mode(connected=True)\n",
    "import plotly.graph_objs as go\n",
    "\n",
    "import plotly.figure_factory as ff\n",
    "number_of_apps_in_category = data['cetagory'].value_counts().sort_values(ascending=True)\n",
    "\n",
    "data = [go.Pie(\n",
    "        labels = number_of_apps_in_category.index,\n",
    "        values = number_of_apps_in_category.values,\n",
    "        hoverinfo = 'label+value'\n",
    "    \n",
    ")]\n",
    "\n",
    "plotly.offline.iplot(data, filename='active_category')"
   ]
  },
  {
   "cell_type": "code",
   "execution_count": 27,
   "metadata": {
    "collapsed": true
   },
   "outputs": [],
   "source": [
    "# first, we import the relevant modules from the NLTK library\n",
    "from nltk.sentiment.vader import SentimentIntensityAnalyzer\n",
    "\n",
    "# next, we initialize VADER so we can use it within our Python script\n",
    "sid = SentimentIntensityAnalyzer()\n",
    "sentimentScore=[]\n",
    "# the variable 'message_text' now contains the text we will analyze.\n",
    "for i in range(len(appsentiments)):    \n",
    "    message_text = appsentiments[i]\n",
    "\n",
    "#print(message_text)\n",
    "\n",
    "# Calling the polarity_scores method on sid and passing in the message_text outputs a dictionary with negative, neutral, positive, and compound scores for the input text\n",
    "    scores = sid.polarity_scores(message_text)\n",
    "    sentimentScore.append(scores['compound'])\n",
    "# Here we loop through the keys contained in scores (pos, neu, neg, and compound scores) and print the key-value pairs on the screen\n",
    "\n",
    "#print(scores['compound'])"
   ]
  },
  {
   "cell_type": "code",
   "execution_count": 35,
   "metadata": {},
   "outputs": [
    {
     "data": {
      "text/plain": [
       "0.46316624999999484"
      ]
     },
     "execution_count": 35,
     "metadata": {},
     "output_type": "execute_result"
    }
   ],
   "source": [
    "sum(sentimentScore)/len(appsentiments)"
   ]
  },
  {
   "cell_type": "code",
   "execution_count": 102,
   "metadata": {},
   "outputs": [
    {
     "name": "stdout",
     "output_type": "stream",
     "text": [
      "124238\n"
     ]
    }
   ],
   "source": [
    "from nltk.sentiment.vader import SentimentIntensityAnalyzer\n",
    "sid = SentimentIntensityAnalyzer()\n",
    "biasedReview=[]\n",
    "Newrating=[]\n",
    "biasedRating=[]\n",
    "#rat=[]\n",
    "count=0\n",
    "# the variable 'message_text' now contains the text we will analyze.\n",
    "for i in range(len(data)):   \n",
    "    #message_text = 'i hate you'\n",
    "\n",
    "#print(message_text)\n",
    "\n",
    "# Calling the polarity_scores method on sid and passing in the message_text outputs a dictionary with negative, neutral, positive, and compound scores for the input text\n",
    "    b = TextBlob(data.reviews[i])\n",
    "    #scores = sid.polarity_scores(data.reviews[i])\n",
    "    value=b.sentiment[0]\n",
    "    #value=scores['neg']\n",
    "    rat=data.rating[i]\n",
    "    if value<=0 and rat >2.5:\n",
    "        count=count+1\n",
    "        biasedReview.append(data.reviews[i])\n",
    "        biasedRating.append(rat)\n",
    "    else:\n",
    "        Newrating.append(rat)\n",
    "print(count)"
   ]
  },
  {
   "cell_type": "code",
   "execution_count": 78,
   "metadata": {},
   "outputs": [
    {
     "name": "stdout",
     "output_type": "stream",
     "text": [
      "124238\n"
     ]
    }
   ],
   "source": [
    "from nltk.sentiment.vader import SentimentIntensityAnalyzer\n",
    "sid = SentimentIntensityAnalyzer()\n",
    "biasedReview=[]\n",
    "Newrating=[]\n",
    "biasedRating=[]\n",
    "#rat=[]\n",
    "count=0\n",
    "# the variable 'message_text' now contains the text we will analyze.\n",
    "for i in range(len(data)):   \n",
    "    #message_text = 'i hate you'\n",
    "\n",
    "#print(message_text)\n",
    "\n",
    "# Calling the polarity_scores method on sid and passing in the message_text outputs a dictionary with negative, neutral, positive, and compound scores for the input text\n",
    "    b = TextBlob(data.reviews[i])\n",
    "    #scores = sid.polarity_scores(data.reviews[i])\n",
    "    value=b.sentiment[0]\n",
    "    #value=scores['neg']\n",
    "    rat=data.rating[i]\n",
    "    if value<=0 and rat >2.5:\n",
    "        count=count+1\n",
    "        biasedReview.append(data.reviews[i])\n",
    "        biasedRating.append(rat)\n",
    "    else:\n",
    "        Newrating.append(rat)\n",
    "print(count)"
   ]
  },
  {
   "cell_type": "code",
   "execution_count": 23,
   "metadata": {},
   "outputs": [
    {
     "name": "stdout",
     "output_type": "stream",
     "text": [
      "134079\n"
     ]
    }
   ],
   "source": [
    "from nltk.sentiment.vader import SentimentIntensityAnalyzer\n",
    "sid = SentimentIntensityAnalyzer()\n",
    "biasedReview=[]\n",
    "Newrating=[]\n",
    "biasedRating=[]\n",
    "#rat=[]\n",
    "from textblob import TextBlob\n",
    "count=0\n",
    "# the variable 'message_text' now contains the text we will analyze.\n",
    "for i in range(len(data)):   \n",
    "    #message_text = 'i hate you'\n",
    "\n",
    "#print(message_text)\n",
    "\n",
    "# Calling the polarity_scores method on sid and passing in the message_text outputs a dictionary with negative, neutral, positive, and compound scores for the input text\n",
    "    b = TextBlob(data.reviews[i])\n",
    "    #scores = sid.polarity_scores(data.reviews[i])\n",
    "    value=b.sentiment[0]\n",
    "    #value=scores['neg']\n",
    "    rat=data.rating[i]\n",
    "    if value<=0 and rat >=2:\n",
    "        count=count+1\n",
    "        biasedReview.append(data.reviews[i])\n",
    "        biasedRating.append(rat)\n",
    "    else:\n",
    "        Newrating.append(rat)\n",
    "print(count)"
   ]
  },
  {
   "cell_type": "code",
   "execution_count": 70,
   "metadata": {},
   "outputs": [],
   "source": [
    "df = pd.DataFrame(biasedRating)\n",
    "#The game cheats and way too many advertisemen"
   ]
  },
  {
   "cell_type": "code",
   "execution_count": 25,
   "metadata": {},
   "outputs": [],
   "source": [
    "dfWithTwoRating = pd.DataFrame(\n",
    "    {'biasedRating': biasedRating,\n",
    "     'biasedReview': biasedReview\n",
    "     \n",
    "    })\n"
   ]
  },
  {
   "cell_type": "code",
   "execution_count": 28,
   "metadata": {},
   "outputs": [
    {
     "data": {
      "text/plain": [
       "5    89034\n",
       "4    20479\n",
       "3    14725\n",
       "2     9841\n",
       "Name: biasedRating, dtype: int64"
      ]
     },
     "execution_count": 28,
     "metadata": {},
     "output_type": "execute_result"
    }
   ],
   "source": [
    "dfWithTwoRating.biasedRating.value_counts()"
   ]
  },
  {
   "cell_type": "code",
   "execution_count": 29,
   "metadata": {},
   "outputs": [
    {
     "data": {
      "text/plain": [
       "134079"
      ]
     },
     "execution_count": 29,
     "metadata": {},
     "output_type": "execute_result"
    }
   ],
   "source": [
    "dfWithTwoRating.biasedRating.count()"
   ]
  },
  {
   "cell_type": "code",
   "execution_count": 30,
   "metadata": {},
   "outputs": [
    {
     "data": {
      "text/plain": [
       "5    247747\n",
       "1     49608\n",
       "4     47940\n",
       "3     17513\n",
       "2      5764\n",
       "0         7\n",
       "Name: Newrating, dtype: int64"
      ]
     },
     "execution_count": 30,
     "metadata": {},
     "output_type": "execute_result"
    }
   ],
   "source": [
    "dfWithTwoRatingNew = pd.DataFrame(\n",
    "    {'Newrating': Newrating\n",
    "     \n",
    "    })\n",
    "dfWithTwoRatingNew.Newrating.value_counts()"
   ]
  },
  {
   "cell_type": "code",
   "execution_count": 75,
   "metadata": {},
   "outputs": [
    {
     "data": {
      "text/plain": [
       "5    336781\n",
       "4     68419\n",
       "1     49608\n",
       "3     32238\n",
       "2     15605\n",
       "0         7\n",
       "Name: rating, dtype: int64"
      ]
     },
     "execution_count": 75,
     "metadata": {},
     "output_type": "execute_result"
    }
   ],
   "source": [
    "data.rating.value_counts()"
   ]
  },
  {
   "cell_type": "code",
   "execution_count": 113,
   "metadata": {},
   "outputs": [
    {
     "data": {
      "text/html": [
       "<div>\n",
       "<style scoped>\n",
       "    .dataframe tbody tr th:only-of-type {\n",
       "        vertical-align: middle;\n",
       "    }\n",
       "\n",
       "    .dataframe tbody tr th {\n",
       "        vertical-align: top;\n",
       "    }\n",
       "\n",
       "    .dataframe thead th {\n",
       "        text-align: right;\n",
       "    }\n",
       "</style>\n",
       "<table border=\"1\" class=\"dataframe\">\n",
       "  <thead>\n",
       "    <tr style=\"text-align: right;\">\n",
       "      <th></th>\n",
       "      <th>biasedRating</th>\n",
       "      <th>biasedReview</th>\n",
       "    </tr>\n",
       "  </thead>\n",
       "  <tbody>\n",
       "    <tr>\n",
       "      <th>0</th>\n",
       "      <td>4</td>\n",
       "      <td>Very easy game to play, and has actually give...</td>\n",
       "    </tr>\n",
       "    <tr>\n",
       "      <th>1</th>\n",
       "      <td>5</td>\n",
       "      <td>I'm not going to lie.I just started playing t...</td>\n",
       "    </tr>\n",
       "  </tbody>\n",
       "</table>\n",
       "</div>"
      ],
      "text/plain": [
       "   biasedRating                                       biasedReview\n",
       "0             4   Very easy game to play, and has actually give...\n",
       "1             5   I'm not going to lie.I just started playing t..."
      ]
     },
     "execution_count": 113,
     "metadata": {},
     "output_type": "execute_result"
    }
   ],
   "source": [
    "df = pd.DataFrame(\n",
    "    {'biasedRating': biasedRating,\n",
    "     'biasedReview': biasedReview\n",
    "     \n",
    "    })\n",
    "df.head(2)"
   ]
  },
  {
   "cell_type": "code",
   "execution_count": 116,
   "metadata": {},
   "outputs": [],
   "source": [
    "df.to_csv(r'BiasedDataset.csv')\n"
   ]
  },
  {
   "cell_type": "code",
   "execution_count": 114,
   "metadata": {},
   "outputs": [
    {
     "data": {
      "text/plain": [
       "5    89034\n",
       "4    20479\n",
       "3    14725\n",
       "Name: biasedRating, dtype: int64"
      ]
     },
     "execution_count": 114,
     "metadata": {},
     "output_type": "execute_result"
    }
   ],
   "source": [
    "#df.to_csv(r'BiasedDataset.csv')\n",
    "df.biasedRating.value_counts()"
   ]
  },
  {
   "cell_type": "code",
   "execution_count": 117,
   "metadata": {},
   "outputs": [],
   "source": [
    "df1 = pd.DataFrame(\n",
    "    {'NewRating': Newrating\n",
    "     \n",
    "    })\n",
    "df1.head(2)\n",
    "df1.to_csv(r'BiasedDatasetNewRating.csv')"
   ]
  },
  {
   "cell_type": "code",
   "execution_count": 86,
   "metadata": {},
   "outputs": [
    {
     "data": {
      "text/plain": [
       "5    247747\n",
       "1     49608\n",
       "4     47940\n",
       "3     17513\n",
       "2     15605\n",
       "0         7\n",
       "Name: NewRating, dtype: int64"
      ]
     },
     "execution_count": 86,
     "metadata": {},
     "output_type": "execute_result"
    }
   ],
   "source": [
    "df1.NewRating.value_counts()"
   ]
  },
  {
   "cell_type": "code",
   "execution_count": 94,
   "metadata": {},
   "outputs": [
    {
     "data": {
      "text/plain": [
       "124238"
      ]
     },
     "execution_count": 94,
     "metadata": {},
     "output_type": "execute_result"
    }
   ],
   "source": [
    "len(biasedReview)"
   ]
  },
  {
   "cell_type": "code",
   "execution_count": 101,
   "metadata": {},
   "outputs": [
    {
     "data": {
      "text/plain": [
       "0"
      ]
     },
     "execution_count": 101,
     "metadata": {},
     "output_type": "execute_result"
    }
   ],
   "source": [
    "biasedRating.count(2)"
   ]
  },
  {
   "cell_type": "code",
   "execution_count": 48,
   "metadata": {},
   "outputs": [
    {
     "name": "stdout",
     "output_type": "stream",
     "text": [
      "124238\n"
     ]
    }
   ],
   "source": [
    "from nltk.sentiment.vader import SentimentIntensityAnalyzer\n",
    "sid = SentimentIntensityAnalyzer()\n",
    "sentimentScore=[]\n",
    "#rat=[]\n",
    "count=0\n",
    "# the variable 'message_text' now contains the text we will analyze.\n",
    "for i in range(len(data)):   \n",
    "    #message_text = 'i hate you'\n",
    "\n",
    "#print(message_text)\n",
    "\n",
    "# Calling the polarity_scores method on sid and passing in the message_text outputs a dictionary with negative, neutral, positive, and compound scores for the input text\n",
    "    b = TextBlob(data.reviews[i])\n",
    "    #scores = sid.polarity_scores(data.reviews[i])\n",
    "    value=b.sentiment[0]\n",
    "    #value=scores['neg']\n",
    "    rat=data.rating[i]\n",
    "    if value<=0 and rat > 2.5:\n",
    "        count=count+1\n",
    "print(count)"
   ]
  },
  {
   "cell_type": "code",
   "execution_count": null,
   "metadata": {},
   "outputs": [],
   "source": [
    "for i in range(len(data)): \n",
    "    if data.cetagory=='Sports':\n",
    "        sportsReviews.append(data.re)"
   ]
  },
  {
   "cell_type": "code",
   "execution_count": 25,
   "metadata": {},
   "outputs": [
    {
     "data": {
      "text/plain": [
       "<matplotlib.legend.Legend at 0xc30da837f0>"
      ]
     },
     "execution_count": 25,
     "metadata": {},
     "output_type": "execute_result"
    },
    {
     "data": {
      "image/png": "[encoded data removed]",
      "text/plain": [
       "<matplotlib.figure.Figure at 0xc30d485dd8>"
      ]
     },
     "metadata": {},
     "output_type": "display_data"
    }
   ],
   "source": [
    "import matplotlib\n",
    "import matplotlib.pyplot as plt\n",
    "import numpy as np\n",
    "x1=[0.72791,0.69333,0.67375,0.71955]\n",
    "x2=[0.69958,0.70375,0.70575,0.71041]\n",
    "# Data\n",
    "df=pd.DataFrame({'x': range(0,4), 'Random Forest': x1, 'Gradient Boosting Classifier': x2})\n",
    "\n",
    "# multiple line plot\n",
    "fig, ax = plt.subplots(figsize=(18,6))\n",
    "ax.set_title(\"Accuracy Comparison of Random Forest & Gradient Boosting Classifier\")\n",
    "plt.plot( 'x', 'Random Forest', data=df, marker='o', markerfacecolor='blue', markersize=12, color='skyblue', linewidth=4)\n",
    "plt.plot( 'x', 'Gradient Boosting Classifier', data=df, marker='', color='olive', linewidth=2)\n",
    "plt.legend()"
   ]
  },
  {
   "cell_type": "code",
   "execution_count": 58,
   "metadata": {},
   "outputs": [
    {
     "data": {
      "image/png": "[encoded data removed]",
      "text/plain": [
       "<matplotlib.figure.Figure at 0xc30cda79e8>"
      ]
     },
     "metadata": {},
     "output_type": "display_data"
    }
   ],
   "source": [
    "from matplotlib import pyplot\n",
    "%matplotlib inline\n",
    "import seaborn as sns\n",
    "#x=category\n",
    "ylist =[64,63,70,74,68,66,70,72,69,81,63,75,77,74]\n",
    "fig, ax = pyplot.subplots(figsize=(15,10))\n",
    "ax.set_title(\"Most Given Rating\")\n",
    "ax = sns.barplot(y=category, x=ylist,ax=ax)  "
   ]
  },
  {
   "cell_type": "code",
   "execution_count": 29,
   "metadata": {
    "collapsed": true
   },
   "outputs": [],
   "source": [
    "category=data.cetagory.unique()"
   ]
  },
  {
   "cell_type": "code",
   "execution_count": 82,
   "metadata": {
    "collapsed": true
   },
   "outputs": [],
   "source": [
    "textS='It is great my kids love to play it. Thank you for having this game on game store.'\n",
    "textS=textS.lower()"
   ]
  },
  {
   "cell_type": "code",
   "execution_count": 83,
   "metadata": {
    "collapsed": true
   },
   "outputs": [],
   "source": [
    "cleaned=re.sub(r\"(?is)<(script|style).*?>.*?(</\\1>)\", \"\", textS.strip())\n",
    "cleaned =re.sub(r\"(?s)<!--(.*?)-->[\\n]?\", \"\", cleaned)\n",
    "cleaned = re.sub(r\"(?s)<.*?>\", \" \", cleaned)"
   ]
  },
  {
   "cell_type": "code",
   "execution_count": 84,
   "metadata": {},
   "outputs": [
    {
     "data": {
      "text/plain": [
       "'great kids love play . thank game game store .'"
      ]
     },
     "execution_count": 84,
     "metadata": {},
     "output_type": "execute_result"
    }
   ],
   "source": [
    "stop_words = set(stopwords.words('english'))\n",
    "from nltk.tokenize import word_tokenize\n",
    "tokens = word_tokenize(cleaned)\n",
    "result = [i for i in tokens if not i in stop_words]\n",
    "review=' '.join(result)\n",
    "review"
   ]
  },
  {
   "cell_type": "code",
   "execution_count": 87,
   "metadata": {},
   "outputs": [
    {
     "data": {
      "text/plain": [
       "'great kid love play . thank game game store .'"
      ]
     },
     "execution_count": 87,
     "metadata": {},
     "output_type": "execute_result"
    }
   ],
   "source": [
    "from nltk.stem import PorterStemmer\n",
    "from nltk.tokenize import word_tokenize\n",
    "stemmer= PorterStemmer()\n",
    "final=[]\n",
    "input_str=word_tokenize(review)\n",
    "for word in input_str:\n",
    "    final.append(stemmer.stem(word))\n",
    "finals=' '.join(final)\n",
    "finals"
   ]
  },
  {
   "cell_type": "code",
   "execution_count": 90,
   "metadata": {},
   "outputs": [
    {
     "name": "stderr",
     "output_type": "stream",
     "text": [
      "C:\\Users\\Muhammad Umer\\Anaconda3\\lib\\site-packages\\sklearn\\feature_extraction\\text.py:1089: FutureWarning: Conversion of the second argument of issubdtype from `float` to `np.floating` is deprecated. In future, it will be treated as `np.float64 == np.dtype(float).type`.\n",
      "  if hasattr(X, 'dtype') and np.issubdtype(X.dtype, np.float):\n"
     ]
    },
    {
     "data": {
      "text/html": [
       "<div>\n",
       "<style>\n",
       "    .dataframe thead tr:only-child th {\n",
       "        text-align: right;\n",
       "    }\n",
       "\n",
       "    .dataframe thead th {\n",
       "        text-align: left;\n",
       "    }\n",
       "\n",
       "    .dataframe tbody tr th {\n",
       "        vertical-align: top;\n",
       "    }\n",
       "</style>\n",
       "<table border=\"1\" class=\"dataframe\">\n",
       "  <thead>\n",
       "    <tr style=\"text-align: right;\">\n",
       "      <th></th>\n",
       "      <th>game</th>\n",
       "      <th>great</th>\n",
       "      <th>kid</th>\n",
       "      <th>love</th>\n",
       "      <th>play</th>\n",
       "      <th>store</th>\n",
       "      <th>thank</th>\n",
       "    </tr>\n",
       "  </thead>\n",
       "  <tbody>\n",
       "    <tr>\n",
       "      <th>0</th>\n",
       "      <td>0.632456</td>\n",
       "      <td>0.316228</td>\n",
       "      <td>0.316228</td>\n",
       "      <td>0.316228</td>\n",
       "      <td>0.316228</td>\n",
       "      <td>0.316228</td>\n",
       "      <td>0.316228</td>\n",
       "    </tr>\n",
       "  </tbody>\n",
       "</table>\n",
       "</div>"
      ],
      "text/plain": [
       "       game     great       kid      love      play     store     thank\n",
       "0  0.632456  0.316228  0.316228  0.316228  0.316228  0.316228  0.316228"
      ]
     },
     "execution_count": 90,
     "metadata": {},
     "output_type": "execute_result"
    }
   ],
   "source": [
    "from sklearn.feature_extraction.text import TfidfVectorizer\n",
    "cv1 = TfidfVectorizer()\n",
    "x_traincv = cv1.fit_transform([\"great kid love play . thank game game store .\"])\n",
    "x_traincv_df = pd.DataFrame(x_traincv.toarray(),columns=list(cv1.get_feature_names()))\n",
    "x_traincv_df"
   ]
  }
 ],
 "metadata": {
  "anaconda-cloud": {},
  "kernelspec": {
   "display_name": "Python [default]",
   "language": "python",
   "name": "python3"
  },
  "language_info": {
   "codemirror_mode": {
    "name": "ipython",
    "version": 3
   },
   "file_extension": ".py",
   "mimetype": "text/x-python",
   "name": "python",
   "nbconvert_exporter": "python",
   "pygments_lexer": "ipython3",
   "version": "3.5.6"
  }
 },
 "nbformat": 4,
 "nbformat_minor": 2
}
